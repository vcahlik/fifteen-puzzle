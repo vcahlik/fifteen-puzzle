{
 "cells": [
  {
   "cell_type": "code",
   "execution_count": 1,
   "metadata": {},
   "outputs": [],
   "source": [
    "import matplotlib.pyplot as plt\n",
    "import numpy as np\n",
    "import pandas as pd\n",
    "plt.style.use('ggplot')\n",
    "\n",
    "%matplotlib inline\n",
    "%config InlineBackend.figure_format='retina'"
   ]
  },
  {
   "cell_type": "markdown",
   "metadata": {},
   "source": [
    "# Random permutation boards"
   ]
  },
  {
   "cell_type": "code",
   "execution_count": 5,
   "metadata": {},
   "outputs": [
    {
     "data": {
      "text/plain": [
       "(166, 9)"
      ]
     },
     "execution_count": 5,
     "metadata": {},
     "output_type": "execute_result"
    }
   ],
   "source": [
    "random1 = pd.read_csv(\"/home/batman/code/fifteen-puzzle/data/experiments/random-boards.csv\")\n",
    "random1.shape"
   ]
  },
  {
   "cell_type": "code",
   "execution_count": 11,
   "metadata": {},
   "outputs": [
    {
     "data": {
      "text/html": [
       "<div>\n",
       "<style scoped>\n",
       "    .dataframe tbody tr th:only-of-type {\n",
       "        vertical-align: middle;\n",
       "    }\n",
       "\n",
       "    .dataframe tbody tr th {\n",
       "        vertical-align: top;\n",
       "    }\n",
       "\n",
       "    .dataframe thead th {\n",
       "        text-align: right;\n",
       "    }\n",
       "</style>\n",
       "<table border=\"1\" class=\"dataframe\">\n",
       "  <thead>\n",
       "    <tr style=\"text-align: right;\">\n",
       "      <th></th>\n",
       "      <th>PROCESS_ID</th>\n",
       "      <th>BOARD_ID</th>\n",
       "      <th>ALGORITHM_NAME</th>\n",
       "      <th>HEURISTIC_NAME</th>\n",
       "      <th>BOARDS_GENERATOR_NAME</th>\n",
       "      <th>RUN_TIME</th>\n",
       "      <th>SOLUTION_COST</th>\n",
       "      <th>EXPANDED_NODES</th>\n",
       "      <th>INITIAL_HEURISTIC_PREDICTION</th>\n",
       "    </tr>\n",
       "  </thead>\n",
       "  <tbody>\n",
       "    <tr>\n",
       "      <th>0</th>\n",
       "      <td>2019-03-17 17:08:37.664638 PID30603</td>\n",
       "      <td>1</td>\n",
       "      <td>A*</td>\n",
       "      <td>PDB[Pat:5]</td>\n",
       "      <td>RND</td>\n",
       "      <td>0.560000</td>\n",
       "      <td>44</td>\n",
       "      <td>2730</td>\n",
       "      <td>38</td>\n",
       "    </tr>\n",
       "    <tr>\n",
       "      <th>1</th>\n",
       "      <td>2019-03-17 17:08:37.688838 PID30609</td>\n",
       "      <td>1</td>\n",
       "      <td>A*</td>\n",
       "      <td>PDB[Pat:5]</td>\n",
       "      <td>RND</td>\n",
       "      <td>2.679355</td>\n",
       "      <td>47</td>\n",
       "      <td>11367</td>\n",
       "      <td>43</td>\n",
       "    </tr>\n",
       "    <tr>\n",
       "      <th>2</th>\n",
       "      <td>2019-03-17 17:08:37.690394 PID30615</td>\n",
       "      <td>1</td>\n",
       "      <td>A*</td>\n",
       "      <td>PDB[Pat:5]</td>\n",
       "      <td>RND</td>\n",
       "      <td>2.867916</td>\n",
       "      <td>41</td>\n",
       "      <td>12032</td>\n",
       "      <td>33</td>\n",
       "    </tr>\n",
       "    <tr>\n",
       "      <th>3</th>\n",
       "      <td>2019-03-17 17:08:37.678913 PID30608</td>\n",
       "      <td>1</td>\n",
       "      <td>A*</td>\n",
       "      <td>PDB[Pat:5]</td>\n",
       "      <td>RND</td>\n",
       "      <td>3.777937</td>\n",
       "      <td>50</td>\n",
       "      <td>20147</td>\n",
       "      <td>42</td>\n",
       "    </tr>\n",
       "    <tr>\n",
       "      <th>4</th>\n",
       "      <td>2019-03-17 17:08:37.657359 PID30595</td>\n",
       "      <td>1</td>\n",
       "      <td>A*</td>\n",
       "      <td>PDB[Pat:5]</td>\n",
       "      <td>RND</td>\n",
       "      <td>5.575530</td>\n",
       "      <td>44</td>\n",
       "      <td>25384</td>\n",
       "      <td>34</td>\n",
       "    </tr>\n",
       "  </tbody>\n",
       "</table>\n",
       "</div>"
      ],
      "text/plain": [
       "                            PROCESS_ID  BOARD_ID ALGORITHM_NAME  \\\n",
       "0  2019-03-17 17:08:37.664638 PID30603         1             A*   \n",
       "1  2019-03-17 17:08:37.688838 PID30609         1             A*   \n",
       "2  2019-03-17 17:08:37.690394 PID30615         1             A*   \n",
       "3  2019-03-17 17:08:37.678913 PID30608         1             A*   \n",
       "4  2019-03-17 17:08:37.657359 PID30595         1             A*   \n",
       "\n",
       "  HEURISTIC_NAME BOARDS_GENERATOR_NAME  RUN_TIME  SOLUTION_COST  \\\n",
       "0     PDB[Pat:5]                   RND  0.560000             44   \n",
       "1     PDB[Pat:5]                   RND  2.679355             47   \n",
       "2     PDB[Pat:5]                   RND  2.867916             41   \n",
       "3     PDB[Pat:5]                   RND  3.777937             50   \n",
       "4     PDB[Pat:5]                   RND  5.575530             44   \n",
       "\n",
       "   EXPANDED_NODES  INITIAL_HEURISTIC_PREDICTION  \n",
       "0            2730                            38  \n",
       "1           11367                            43  \n",
       "2           12032                            33  \n",
       "3           20147                            42  \n",
       "4           25384                            34  "
      ]
     },
     "execution_count": 11,
     "metadata": {},
     "output_type": "execute_result"
    }
   ],
   "source": [
    "random1.head()"
   ]
  },
  {
   "cell_type": "code",
   "execution_count": 12,
   "metadata": {},
   "outputs": [
    {
     "data": {
      "text/plain": [
       "(279, 8)"
      ]
     },
     "execution_count": 12,
     "metadata": {},
     "output_type": "execute_result"
    }
   ],
   "source": [
    "random2 = pd.read_csv(\"/home/batman/code/fifteen-puzzle/data/experiments/random-boards-random-generator.csv\")\n",
    "random2.shape"
   ]
  },
  {
   "cell_type": "code",
   "execution_count": 13,
   "metadata": {},
   "outputs": [
    {
     "data": {
      "text/html": [
       "<div>\n",
       "<style scoped>\n",
       "    .dataframe tbody tr th:only-of-type {\n",
       "        vertical-align: middle;\n",
       "    }\n",
       "\n",
       "    .dataframe tbody tr th {\n",
       "        vertical-align: top;\n",
       "    }\n",
       "\n",
       "    .dataframe thead th {\n",
       "        text-align: right;\n",
       "    }\n",
       "</style>\n",
       "<table border=\"1\" class=\"dataframe\">\n",
       "  <thead>\n",
       "    <tr style=\"text-align: right;\">\n",
       "      <th></th>\n",
       "      <th>PROCESS_ID</th>\n",
       "      <th>BOARD_ID</th>\n",
       "      <th>ALGORITHM_NAME</th>\n",
       "      <th>HEURISTIC_NAME</th>\n",
       "      <th>RUN_TIME</th>\n",
       "      <th>SOLUTION_COST</th>\n",
       "      <th>EXPANDED_NODES</th>\n",
       "      <th>INITIAL_HEURISTIC_PREDICTION</th>\n",
       "    </tr>\n",
       "  </thead>\n",
       "  <tbody>\n",
       "    <tr>\n",
       "      <th>0</th>\n",
       "      <td>2019-03-17 13:08:13.329593 PID28221</td>\n",
       "      <td>1</td>\n",
       "      <td>AStarSearch</td>\n",
       "      <td>PatternDatabaseHeuristic[Max pattern size: 5]</td>\n",
       "      <td>8.325259</td>\n",
       "      <td>50</td>\n",
       "      <td>39891</td>\n",
       "      <td>42</td>\n",
       "    </tr>\n",
       "    <tr>\n",
       "      <th>1</th>\n",
       "      <td>2019-03-17 13:08:13.329593 PID28221</td>\n",
       "      <td>2</td>\n",
       "      <td>AStarSearch</td>\n",
       "      <td>PatternDatabaseHeuristic[Max pattern size: 5]</td>\n",
       "      <td>6.619616</td>\n",
       "      <td>51</td>\n",
       "      <td>29094</td>\n",
       "      <td>45</td>\n",
       "    </tr>\n",
       "    <tr>\n",
       "      <th>2</th>\n",
       "      <td>2019-03-17 13:08:13.267937 PID28211</td>\n",
       "      <td>1</td>\n",
       "      <td>AStarSearch</td>\n",
       "      <td>PatternDatabaseHeuristic[Max pattern size: 5]</td>\n",
       "      <td>16.108722</td>\n",
       "      <td>47</td>\n",
       "      <td>70395</td>\n",
       "      <td>37</td>\n",
       "    </tr>\n",
       "    <tr>\n",
       "      <th>3</th>\n",
       "      <td>2019-03-17 13:08:13.322103 PID28217</td>\n",
       "      <td>1</td>\n",
       "      <td>AStarSearch</td>\n",
       "      <td>PatternDatabaseHeuristic[Max pattern size: 5]</td>\n",
       "      <td>33.275324</td>\n",
       "      <td>51</td>\n",
       "      <td>130426</td>\n",
       "      <td>39</td>\n",
       "    </tr>\n",
       "    <tr>\n",
       "      <th>4</th>\n",
       "      <td>2019-03-17 13:08:13.322103 PID28217</td>\n",
       "      <td>2</td>\n",
       "      <td>AStarSearch</td>\n",
       "      <td>PatternDatabaseHeuristic[Max pattern size: 5]</td>\n",
       "      <td>2.763626</td>\n",
       "      <td>53</td>\n",
       "      <td>11211</td>\n",
       "      <td>47</td>\n",
       "    </tr>\n",
       "  </tbody>\n",
       "</table>\n",
       "</div>"
      ],
      "text/plain": [
       "                            PROCESS_ID  BOARD_ID ALGORITHM_NAME  \\\n",
       "0  2019-03-17 13:08:13.329593 PID28221         1    AStarSearch   \n",
       "1  2019-03-17 13:08:13.329593 PID28221         2    AStarSearch   \n",
       "2  2019-03-17 13:08:13.267937 PID28211         1    AStarSearch   \n",
       "3  2019-03-17 13:08:13.322103 PID28217         1    AStarSearch   \n",
       "4  2019-03-17 13:08:13.322103 PID28217         2    AStarSearch   \n",
       "\n",
       "                                  HEURISTIC_NAME   RUN_TIME  SOLUTION_COST  \\\n",
       "0  PatternDatabaseHeuristic[Max pattern size: 5]   8.325259             50   \n",
       "1  PatternDatabaseHeuristic[Max pattern size: 5]   6.619616             51   \n",
       "2  PatternDatabaseHeuristic[Max pattern size: 5]  16.108722             47   \n",
       "3  PatternDatabaseHeuristic[Max pattern size: 5]  33.275324             51   \n",
       "4  PatternDatabaseHeuristic[Max pattern size: 5]   2.763626             53   \n",
       "\n",
       "   EXPANDED_NODES  INITIAL_HEURISTIC_PREDICTION  \n",
       "0           39891                            42  \n",
       "1           29094                            45  \n",
       "2           70395                            37  \n",
       "3          130426                            39  \n",
       "4           11211                            47  "
      ]
     },
     "execution_count": 13,
     "metadata": {},
     "output_type": "execute_result"
    }
   ],
   "source": [
    "random2.head()"
   ]
  },
  {
   "cell_type": "code",
   "execution_count": 20,
   "metadata": {},
   "outputs": [
    {
     "data": {
      "text/plain": [
       "(445, 9)"
      ]
     },
     "execution_count": 20,
     "metadata": {},
     "output_type": "execute_result"
    }
   ],
   "source": [
    "random = pd.concat([random1, random2], sort=False)\n",
    "random.shape"
   ]
  },
  {
   "cell_type": "code",
   "execution_count": 21,
   "metadata": {},
   "outputs": [
    {
     "data": {
      "text/html": [
       "<div>\n",
       "<style scoped>\n",
       "    .dataframe tbody tr th:only-of-type {\n",
       "        vertical-align: middle;\n",
       "    }\n",
       "\n",
       "    .dataframe tbody tr th {\n",
       "        vertical-align: top;\n",
       "    }\n",
       "\n",
       "    .dataframe thead th {\n",
       "        text-align: right;\n",
       "    }\n",
       "</style>\n",
       "<table border=\"1\" class=\"dataframe\">\n",
       "  <thead>\n",
       "    <tr style=\"text-align: right;\">\n",
       "      <th></th>\n",
       "      <th>PROCESS_ID</th>\n",
       "      <th>BOARD_ID</th>\n",
       "      <th>ALGORITHM_NAME</th>\n",
       "      <th>HEURISTIC_NAME</th>\n",
       "      <th>BOARDS_GENERATOR_NAME</th>\n",
       "      <th>RUN_TIME</th>\n",
       "      <th>SOLUTION_COST</th>\n",
       "      <th>EXPANDED_NODES</th>\n",
       "      <th>INITIAL_HEURISTIC_PREDICTION</th>\n",
       "    </tr>\n",
       "  </thead>\n",
       "  <tbody>\n",
       "    <tr>\n",
       "      <th>29</th>\n",
       "      <td>2019-03-17 17:08:37.678913 PID30608</td>\n",
       "      <td>2</td>\n",
       "      <td>A*</td>\n",
       "      <td>PDB[Pat:5]</td>\n",
       "      <td>RND</td>\n",
       "      <td>237.395757</td>\n",
       "      <td>56</td>\n",
       "      <td>1004834</td>\n",
       "      <td>44</td>\n",
       "    </tr>\n",
       "    <tr>\n",
       "      <th>33</th>\n",
       "      <td>2019-03-17 17:08:37.682319 PID30610</td>\n",
       "      <td>4</td>\n",
       "      <td>A*</td>\n",
       "      <td>PDB[Pat:5]</td>\n",
       "      <td>RND</td>\n",
       "      <td>16.751575</td>\n",
       "      <td>48</td>\n",
       "      <td>75284</td>\n",
       "      <td>38</td>\n",
       "    </tr>\n",
       "    <tr>\n",
       "      <th>42</th>\n",
       "      <td>2019-03-17 17:08:37.664638 PID30603</td>\n",
       "      <td>3</td>\n",
       "      <td>A*</td>\n",
       "      <td>PDB[Pat:5]</td>\n",
       "      <td>RND</td>\n",
       "      <td>2.348703</td>\n",
       "      <td>45</td>\n",
       "      <td>10949</td>\n",
       "      <td>35</td>\n",
       "    </tr>\n",
       "    <tr>\n",
       "      <th>6</th>\n",
       "      <td>2019-03-17 13:08:13.362543 PID28222</td>\n",
       "      <td>1</td>\n",
       "      <td>AStarSearch</td>\n",
       "      <td>PatternDatabaseHeuristic[Max pattern size: 5]</td>\n",
       "      <td>NaN</td>\n",
       "      <td>43.941739</td>\n",
       "      <td>52</td>\n",
       "      <td>183325</td>\n",
       "      <td>40</td>\n",
       "    </tr>\n",
       "    <tr>\n",
       "      <th>38</th>\n",
       "      <td>2019-03-17 17:08:37.690394 PID30615</td>\n",
       "      <td>4</td>\n",
       "      <td>A*</td>\n",
       "      <td>PDB[Pat:5]</td>\n",
       "      <td>RND</td>\n",
       "      <td>6.706722</td>\n",
       "      <td>44</td>\n",
       "      <td>29293</td>\n",
       "      <td>36</td>\n",
       "    </tr>\n",
       "  </tbody>\n",
       "</table>\n",
       "</div>"
      ],
      "text/plain": [
       "                             PROCESS_ID  BOARD_ID ALGORITHM_NAME  \\\n",
       "29  2019-03-17 17:08:37.678913 PID30608         2             A*   \n",
       "33  2019-03-17 17:08:37.682319 PID30610         4             A*   \n",
       "42  2019-03-17 17:08:37.664638 PID30603         3             A*   \n",
       "6   2019-03-17 13:08:13.362543 PID28222         1    AStarSearch   \n",
       "38  2019-03-17 17:08:37.690394 PID30615         4             A*   \n",
       "\n",
       "                                   HEURISTIC_NAME BOARDS_GENERATOR_NAME  \\\n",
       "29                                     PDB[Pat:5]                   RND   \n",
       "33                                     PDB[Pat:5]                   RND   \n",
       "42                                     PDB[Pat:5]                   RND   \n",
       "6   PatternDatabaseHeuristic[Max pattern size: 5]                   NaN   \n",
       "38                                     PDB[Pat:5]                   RND   \n",
       "\n",
       "      RUN_TIME  SOLUTION_COST  EXPANDED_NODES  INITIAL_HEURISTIC_PREDICTION  \n",
       "29  237.395757             56         1004834                            44  \n",
       "33   16.751575             48           75284                            38  \n",
       "42    2.348703             45           10949                            35  \n",
       "6    43.941739             52          183325                            40  \n",
       "38    6.706722             44           29293                            36  "
      ]
     },
     "execution_count": 21,
     "metadata": {},
     "output_type": "execute_result"
    }
   ],
   "source": [
    "random.sample(5)"
   ]
  },
  {
   "cell_type": "code",
   "execution_count": 23,
   "metadata": {},
   "outputs": [
    {
     "data": {
      "image/png": "[encoded data removed]",
      "text/plain": [
       "<Figure size 432x288 with 1 Axes>"
      ]
     },
     "metadata": {
      "image/png": {
       "height": 250,
       "width": 377
      },
      "needs_background": "light"
     },
     "output_type": "display_data"
    }
   ],
   "source": [
    "random['SOLUTION_COST'].hist();"
   ]
  },
  {
   "cell_type": "code",
   "execution_count": 24,
   "metadata": {},
   "outputs": [
    {
     "data": {
      "text/plain": [
       "count    445.000000\n",
       "mean      51.851685\n",
       "std        5.125500\n",
       "min       35.000000\n",
       "25%       49.000000\n",
       "50%       52.000000\n",
       "75%       56.000000\n",
       "max       64.000000\n",
       "Name: SOLUTION_COST, dtype: float64"
      ]
     },
     "execution_count": 24,
     "metadata": {},
     "output_type": "execute_result"
    }
   ],
   "source": [
    "random['SOLUTION_COST'].describe()"
   ]
  },
  {
   "cell_type": "markdown",
   "metadata": {},
   "source": [
    "# Shuffled boards"
   ]
  },
  {
   "cell_type": "code",
   "execution_count": 28,
   "metadata": {},
   "outputs": [
    {
     "data": {
      "text/plain": [
       "(639, 9)"
      ]
     },
     "execution_count": 28,
     "metadata": {},
     "output_type": "execute_result"
    }
   ],
   "source": [
    "shuffled = pd.read_csv(\"/home/batman/code/fifteen-puzzle/data/experiments/shuffled-boards.csv\")\n",
    "shuffled.shape"
   ]
  },
  {
   "cell_type": "code",
   "execution_count": 29,
   "metadata": {},
   "outputs": [
    {
     "data": {
      "text/html": [
       "<div>\n",
       "<style scoped>\n",
       "    .dataframe tbody tr th:only-of-type {\n",
       "        vertical-align: middle;\n",
       "    }\n",
       "\n",
       "    .dataframe tbody tr th {\n",
       "        vertical-align: top;\n",
       "    }\n",
       "\n",
       "    .dataframe thead th {\n",
       "        text-align: right;\n",
       "    }\n",
       "</style>\n",
       "<table border=\"1\" class=\"dataframe\">\n",
       "  <thead>\n",
       "    <tr style=\"text-align: right;\">\n",
       "      <th></th>\n",
       "      <th>PROCESS_ID</th>\n",
       "      <th>BOARD_ID</th>\n",
       "      <th>ALGORITHM_NAME</th>\n",
       "      <th>HEURISTIC_NAME</th>\n",
       "      <th>BOARDS_GENERATOR_NAME</th>\n",
       "      <th>RUN_TIME</th>\n",
       "      <th>SOLUTION_COST</th>\n",
       "      <th>EXPANDED_NODES</th>\n",
       "      <th>INITIAL_HEURISTIC_PREDICTION</th>\n",
       "    </tr>\n",
       "  </thead>\n",
       "  <tbody>\n",
       "    <tr>\n",
       "      <th>0</th>\n",
       "      <td>2019-03-17 14:14:06.948228 PID28915</td>\n",
       "      <td>1</td>\n",
       "      <td>AStarSearch</td>\n",
       "      <td>PatternDatabaseHeuristic[Max pattern size: 5]</td>\n",
       "      <td>ShufflingBoardsGenerator[Shuffles: 10000]</td>\n",
       "      <td>0.643305</td>\n",
       "      <td>40</td>\n",
       "      <td>3259</td>\n",
       "      <td>34</td>\n",
       "    </tr>\n",
       "    <tr>\n",
       "      <th>1</th>\n",
       "      <td>2019-03-17 14:14:06.948228 PID28915</td>\n",
       "      <td>2</td>\n",
       "      <td>AStarSearch</td>\n",
       "      <td>PatternDatabaseHeuristic[Max pattern size: 5]</td>\n",
       "      <td>ShufflingBoardsGenerator[Shuffles: 10000]</td>\n",
       "      <td>0.866290</td>\n",
       "      <td>42</td>\n",
       "      <td>6399</td>\n",
       "      <td>34</td>\n",
       "    </tr>\n",
       "    <tr>\n",
       "      <th>2</th>\n",
       "      <td>2019-03-17 14:14:06.965626 PID28924</td>\n",
       "      <td>1</td>\n",
       "      <td>AStarSearch</td>\n",
       "      <td>PatternDatabaseHeuristic[Max pattern size: 5]</td>\n",
       "      <td>ShufflingBoardsGenerator[Shuffles: 10000]</td>\n",
       "      <td>2.294627</td>\n",
       "      <td>48</td>\n",
       "      <td>10196</td>\n",
       "      <td>42</td>\n",
       "    </tr>\n",
       "    <tr>\n",
       "      <th>3</th>\n",
       "      <td>2019-03-17 14:14:06.951491 PID28917</td>\n",
       "      <td>1</td>\n",
       "      <td>AStarSearch</td>\n",
       "      <td>PatternDatabaseHeuristic[Max pattern size: 5]</td>\n",
       "      <td>ShufflingBoardsGenerator[Shuffles: 10000]</td>\n",
       "      <td>2.388186</td>\n",
       "      <td>41</td>\n",
       "      <td>12267</td>\n",
       "      <td>33</td>\n",
       "    </tr>\n",
       "    <tr>\n",
       "      <th>4</th>\n",
       "      <td>2019-03-17 14:14:06.976815 PID28926</td>\n",
       "      <td>1</td>\n",
       "      <td>AStarSearch</td>\n",
       "      <td>PatternDatabaseHeuristic[Max pattern size: 5]</td>\n",
       "      <td>ShufflingBoardsGenerator[Shuffles: 10000]</td>\n",
       "      <td>3.996819</td>\n",
       "      <td>48</td>\n",
       "      <td>19539</td>\n",
       "      <td>38</td>\n",
       "    </tr>\n",
       "  </tbody>\n",
       "</table>\n",
       "</div>"
      ],
      "text/plain": [
       "                            PROCESS_ID  BOARD_ID ALGORITHM_NAME  \\\n",
       "0  2019-03-17 14:14:06.948228 PID28915         1    AStarSearch   \n",
       "1  2019-03-17 14:14:06.948228 PID28915         2    AStarSearch   \n",
       "2  2019-03-17 14:14:06.965626 PID28924         1    AStarSearch   \n",
       "3  2019-03-17 14:14:06.951491 PID28917         1    AStarSearch   \n",
       "4  2019-03-17 14:14:06.976815 PID28926         1    AStarSearch   \n",
       "\n",
       "                                  HEURISTIC_NAME  \\\n",
       "0  PatternDatabaseHeuristic[Max pattern size: 5]   \n",
       "1  PatternDatabaseHeuristic[Max pattern size: 5]   \n",
       "2  PatternDatabaseHeuristic[Max pattern size: 5]   \n",
       "3  PatternDatabaseHeuristic[Max pattern size: 5]   \n",
       "4  PatternDatabaseHeuristic[Max pattern size: 5]   \n",
       "\n",
       "                       BOARDS_GENERATOR_NAME  RUN_TIME  SOLUTION_COST  \\\n",
       "0  ShufflingBoardsGenerator[Shuffles: 10000]  0.643305             40   \n",
       "1  ShufflingBoardsGenerator[Shuffles: 10000]  0.866290             42   \n",
       "2  ShufflingBoardsGenerator[Shuffles: 10000]  2.294627             48   \n",
       "3  ShufflingBoardsGenerator[Shuffles: 10000]  2.388186             41   \n",
       "4  ShufflingBoardsGenerator[Shuffles: 10000]  3.996819             48   \n",
       "\n",
       "   EXPANDED_NODES  INITIAL_HEURISTIC_PREDICTION  \n",
       "0            3259                            34  \n",
       "1            6399                            34  \n",
       "2           10196                            42  \n",
       "3           12267                            33  \n",
       "4           19539                            38  "
      ]
     },
     "execution_count": 29,
     "metadata": {},
     "output_type": "execute_result"
    }
   ],
   "source": [
    "shuffled.head()"
   ]
  },
  {
   "cell_type": "code",
   "execution_count": 30,
   "metadata": {},
   "outputs": [
    {
     "data": {
      "image/png": "[encoded data removed]",
      "text/plain": [
       "<Figure size 432x288 with 1 Axes>"
      ]
     },
     "metadata": {
      "image/png": {
       "height": 250,
       "width": 377
      },
      "needs_background": "light"
     },
     "output_type": "display_data"
    }
   ],
   "source": [
    "shuffled['SOLUTION_COST'].hist();"
   ]
  },
  {
   "cell_type": "code",
   "execution_count": 31,
   "metadata": {},
   "outputs": [
    {
     "data": {
      "text/plain": [
       "count    639.000000\n",
       "mean      52.327074\n",
       "std        5.405594\n",
       "min       35.000000\n",
       "25%       49.000000\n",
       "50%       53.000000\n",
       "75%       56.000000\n",
       "max       65.000000\n",
       "Name: SOLUTION_COST, dtype: float64"
      ]
     },
     "execution_count": 31,
     "metadata": {},
     "output_type": "execute_result"
    }
   ],
   "source": [
    "shuffled['SOLUTION_COST'].describe()"
   ]
  },
  {
   "cell_type": "markdown",
   "metadata": {},
   "source": [
    "# Comparison"
   ]
  },
  {
   "cell_type": "code",
   "execution_count": 54,
   "metadata": {},
   "outputs": [
    {
     "data": {
      "image/png": "[encoded data removed]",
      "text/plain": [
       "<Figure size 432x288 with 1 Axes>"
      ]
     },
     "metadata": {
      "image/png": {
       "height": 281,
       "width": 471
      },
      "needs_background": "light"
     },
     "output_type": "display_data"
    }
   ],
   "source": [
    "plt.hist(random[\"SOLUTION_COST\"])\n",
    "plt.title(\"Histogram: Solvable boards created with random permutations\")\n",
    "plt.xlabel(\"optimal solution costs\");"
   ]
  },
  {
   "cell_type": "code",
   "execution_count": 52,
   "metadata": {},
   "outputs": [
    {
     "data": {
      "image/png": "[encoded data removed]",
      "text/plain": [
       "<Figure size 432x288 with 1 Axes>"
      ]
     },
     "metadata": {
      "image/png": {
       "height": 281,
       "width": 399
      },
      "needs_background": "light"
     },
     "output_type": "display_data"
    }
   ],
   "source": [
    "plt.hist(shuffled[\"SOLUTION_COST\"])\n",
    "plt.title(\"Histogram: Boards created by shuffling 10,000 times\")\n",
    "plt.xlabel(\"optimal solution costs\");"
   ]
  },
  {
   "cell_type": "code",
   "execution_count": 36,
   "metadata": {},
   "outputs": [
    {
     "data": {
      "text/plain": [
       "count    445.000000\n",
       "mean      51.851685\n",
       "std        5.125500\n",
       "min       35.000000\n",
       "25%       49.000000\n",
       "50%       52.000000\n",
       "75%       56.000000\n",
       "max       64.000000\n",
       "Name: SOLUTION_COST, dtype: float64"
      ]
     },
     "execution_count": 36,
     "metadata": {},
     "output_type": "execute_result"
    }
   ],
   "source": [
    "random['SOLUTION_COST'].describe()"
   ]
  },
  {
   "cell_type": "code",
   "execution_count": 37,
   "metadata": {},
   "outputs": [
    {
     "data": {
      "text/plain": [
       "count    639.000000\n",
       "mean      52.327074\n",
       "std        5.405594\n",
       "min       35.000000\n",
       "25%       49.000000\n",
       "50%       53.000000\n",
       "75%       56.000000\n",
       "max       65.000000\n",
       "Name: SOLUTION_COST, dtype: float64"
      ]
     },
     "execution_count": 37,
     "metadata": {},
     "output_type": "execute_result"
    }
   ],
   "source": [
    "shuffled['SOLUTION_COST'].describe()"
   ]
  },
  {
   "cell_type": "code",
   "execution_count": null,
   "metadata": {},
   "outputs": [],
   "source": []
  }
 ],
 "metadata": {
  "kernelspec": {
   "display_name": "Python 3",
   "language": "python",
   "name": "python3"
  },
  "language_info": {
   "codemirror_mode": {
    "name": "ipython",
    "version": 3
   },
   "file_extension": ".py",
   "mimetype": "text/x-python",
   "name": "python",
   "nbconvert_exporter": "python",
   "pygments_lexer": "ipython3",
   "version": "3.6.8"
  }
 },
 "nbformat": 4,
 "nbformat_minor": 2
}
