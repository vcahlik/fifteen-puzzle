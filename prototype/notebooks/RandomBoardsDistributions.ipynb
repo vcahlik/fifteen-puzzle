{
 "cells": [
  {
   "cell_type": "code",
   "execution_count": 2,
   "metadata": {},
   "outputs": [],
   "source": [
    "import matplotlib.pyplot as plt\n",
    "import numpy as np\n",
    "import pandas as pd\n",
    "plt.style.use('ggplot')\n",
    "\n",
    "%matplotlib inline\n",
    "%config InlineBackend.figure_format='retina'"
   ]
  },
  {
   "cell_type": "code",
   "execution_count": 5,
   "metadata": {},
   "outputs": [
    {
     "data": {
      "text/plain": [
       "(83, 6)"
      ]
     },
     "execution_count": 5,
     "metadata": {},
     "output_type": "execute_result"
    }
   ],
   "source": [
    "shuffled = pd.read_csv(\"/home/batman/code/fifteen-puzzle/data/experiments/shuffled_boards_500_shuffles.csv\")\n",
    "shuffled.shape"
   ]
  },
  {
   "cell_type": "code",
   "execution_count": 6,
   "metadata": {},
   "outputs": [
    {
     "data": {
      "text/html": [
       "<div>\n",
       "<style scoped>\n",
       "    .dataframe tbody tr th:only-of-type {\n",
       "        vertical-align: middle;\n",
       "    }\n",
       "\n",
       "    .dataframe tbody tr th {\n",
       "        vertical-align: top;\n",
       "    }\n",
       "\n",
       "    .dataframe thead th {\n",
       "        text-align: right;\n",
       "    }\n",
       "</style>\n",
       "<table border=\"1\" class=\"dataframe\">\n",
       "  <thead>\n",
       "    <tr style=\"text-align: right;\">\n",
       "      <th></th>\n",
       "      <th>BOARD_ID</th>\n",
       "      <th>ALGORITHM_NAME</th>\n",
       "      <th>HEURISTIC_NAME</th>\n",
       "      <th>RUN_TIME</th>\n",
       "      <th>SOLUTION_COST</th>\n",
       "      <th>EXPANDED_NODES</th>\n",
       "    </tr>\n",
       "  </thead>\n",
       "  <tbody>\n",
       "    <tr>\n",
       "      <th>0</th>\n",
       "      <td>1</td>\n",
       "      <td>AStarSearch</td>\n",
       "      <td>PatternDatabaseHeuristic[Max pattern size: 5]</td>\n",
       "      <td>2.017639</td>\n",
       "      <td>42</td>\n",
       "      <td>15738</td>\n",
       "    </tr>\n",
       "    <tr>\n",
       "      <th>1</th>\n",
       "      <td>1</td>\n",
       "      <td>AStarSearch</td>\n",
       "      <td>PatternDatabaseHeuristic[Max pattern size: 5]</td>\n",
       "      <td>23.031786</td>\n",
       "      <td>54</td>\n",
       "      <td>176694</td>\n",
       "    </tr>\n",
       "    <tr>\n",
       "      <th>2</th>\n",
       "      <td>2</td>\n",
       "      <td>AStarSearch</td>\n",
       "      <td>PatternDatabaseHeuristic[Max pattern size: 5]</td>\n",
       "      <td>25.276949</td>\n",
       "      <td>52</td>\n",
       "      <td>192256</td>\n",
       "    </tr>\n",
       "    <tr>\n",
       "      <th>3</th>\n",
       "      <td>1</td>\n",
       "      <td>AStarSearch</td>\n",
       "      <td>PatternDatabaseHeuristic[Max pattern size: 5]</td>\n",
       "      <td>8.159172</td>\n",
       "      <td>52</td>\n",
       "      <td>63993</td>\n",
       "    </tr>\n",
       "    <tr>\n",
       "      <th>4</th>\n",
       "      <td>1</td>\n",
       "      <td>AStarSearch</td>\n",
       "      <td>PatternDatabaseHeuristic[Max pattern size: 5]</td>\n",
       "      <td>11.635377</td>\n",
       "      <td>50</td>\n",
       "      <td>89850</td>\n",
       "    </tr>\n",
       "    <tr>\n",
       "      <th>5</th>\n",
       "      <td>1</td>\n",
       "      <td>AStarSearch</td>\n",
       "      <td>PatternDatabaseHeuristic[Max pattern size: 5]</td>\n",
       "      <td>17.615973</td>\n",
       "      <td>50</td>\n",
       "      <td>132382</td>\n",
       "    </tr>\n",
       "    <tr>\n",
       "      <th>6</th>\n",
       "      <td>2</td>\n",
       "      <td>AStarSearch</td>\n",
       "      <td>PatternDatabaseHeuristic[Max pattern size: 5]</td>\n",
       "      <td>26.120916</td>\n",
       "      <td>52</td>\n",
       "      <td>195989</td>\n",
       "    </tr>\n",
       "    <tr>\n",
       "      <th>7</th>\n",
       "      <td>3</td>\n",
       "      <td>AStarSearch</td>\n",
       "      <td>PatternDatabaseHeuristic[Max pattern size: 5]</td>\n",
       "      <td>1.010615</td>\n",
       "      <td>46</td>\n",
       "      <td>8386</td>\n",
       "    </tr>\n",
       "    <tr>\n",
       "      <th>8</th>\n",
       "      <td>1</td>\n",
       "      <td>AStarSearch</td>\n",
       "      <td>PatternDatabaseHeuristic[Max pattern size: 5]</td>\n",
       "      <td>50.513670</td>\n",
       "      <td>50</td>\n",
       "      <td>378247</td>\n",
       "    </tr>\n",
       "    <tr>\n",
       "      <th>9</th>\n",
       "      <td>1</td>\n",
       "      <td>AStarSearch</td>\n",
       "      <td>PatternDatabaseHeuristic[Max pattern size: 5]</td>\n",
       "      <td>52.462036</td>\n",
       "      <td>48</td>\n",
       "      <td>391252</td>\n",
       "    </tr>\n",
       "  </tbody>\n",
       "</table>\n",
       "</div>"
      ],
      "text/plain": [
       "   BOARD_ID ALGORITHM_NAME                                 HEURISTIC_NAME  \\\n",
       "0         1    AStarSearch  PatternDatabaseHeuristic[Max pattern size: 5]   \n",
       "1         1    AStarSearch  PatternDatabaseHeuristic[Max pattern size: 5]   \n",
       "2         2    AStarSearch  PatternDatabaseHeuristic[Max pattern size: 5]   \n",
       "3         1    AStarSearch  PatternDatabaseHeuristic[Max pattern size: 5]   \n",
       "4         1    AStarSearch  PatternDatabaseHeuristic[Max pattern size: 5]   \n",
       "5         1    AStarSearch  PatternDatabaseHeuristic[Max pattern size: 5]   \n",
       "6         2    AStarSearch  PatternDatabaseHeuristic[Max pattern size: 5]   \n",
       "7         3    AStarSearch  PatternDatabaseHeuristic[Max pattern size: 5]   \n",
       "8         1    AStarSearch  PatternDatabaseHeuristic[Max pattern size: 5]   \n",
       "9         1    AStarSearch  PatternDatabaseHeuristic[Max pattern size: 5]   \n",
       "\n",
       "    RUN_TIME  SOLUTION_COST  EXPANDED_NODES  \n",
       "0   2.017639             42           15738  \n",
       "1  23.031786             54          176694  \n",
       "2  25.276949             52          192256  \n",
       "3   8.159172             52           63993  \n",
       "4  11.635377             50           89850  \n",
       "5  17.615973             50          132382  \n",
       "6  26.120916             52          195989  \n",
       "7   1.010615             46            8386  \n",
       "8  50.513670             50          378247  \n",
       "9  52.462036             48          391252  "
      ]
     },
     "execution_count": 6,
     "metadata": {},
     "output_type": "execute_result"
    }
   ],
   "source": [
    "shuffled.head(10)"
   ]
  },
  {
   "cell_type": "code",
   "execution_count": 8,
   "metadata": {},
   "outputs": [
    {
     "data": {
      "image/png": "[encoded data removed]",
      "text/plain": [
       "<Figure size 432x288 with 1 Axes>"
      ]
     },
     "metadata": {
      "image/png": {
       "height": 250,
       "width": 370
      },
      "needs_background": "light"
     },
     "output_type": "display_data"
    }
   ],
   "source": [
    "shuffled['SOLUTION_COST'].hist();"
   ]
  },
  {
   "cell_type": "code",
   "execution_count": 10,
   "metadata": {},
   "outputs": [
    {
     "data": {
      "text/plain": [
       "count    83.000000\n",
       "mean     52.289157\n",
       "std       5.121762\n",
       "min      40.000000\n",
       "25%      49.000000\n",
       "50%      52.000000\n",
       "75%      56.000000\n",
       "max      62.000000\n",
       "Name: SOLUTION_COST, dtype: float64"
      ]
     },
     "execution_count": 10,
     "metadata": {},
     "output_type": "execute_result"
    }
   ],
   "source": [
    "shuffles['SOLUTION_COST'].describe()"
   ]
  },
  {
   "cell_type": "code",
   "execution_count": 12,
   "metadata": {},
   "outputs": [
    {
     "data": {
      "text/plain": [
       "(46, 6)"
      ]
     },
     "execution_count": 12,
     "metadata": {},
     "output_type": "execute_result"
    }
   ],
   "source": [
    "random_permutations = pd.read_csv(\"/home/batman/code/fifteen-puzzle/data/experiments/random_boards.csv\")\n",
    "random_permutations.shape"
   ]
  },
  {
   "cell_type": "code",
   "execution_count": 13,
   "metadata": {},
   "outputs": [
    {
     "data": {
      "text/html": [
       "<div>\n",
       "<style scoped>\n",
       "    .dataframe tbody tr th:only-of-type {\n",
       "        vertical-align: middle;\n",
       "    }\n",
       "\n",
       "    .dataframe tbody tr th {\n",
       "        vertical-align: top;\n",
       "    }\n",
       "\n",
       "    .dataframe thead th {\n",
       "        text-align: right;\n",
       "    }\n",
       "</style>\n",
       "<table border=\"1\" class=\"dataframe\">\n",
       "  <thead>\n",
       "    <tr style=\"text-align: right;\">\n",
       "      <th></th>\n",
       "      <th>BOARD_ID</th>\n",
       "      <th>ALGORITHM_NAME</th>\n",
       "      <th>HEURISTIC_NAME</th>\n",
       "      <th>RUN_TIME</th>\n",
       "      <th>SOLUTION_COST</th>\n",
       "      <th>EXPANDED_NODES</th>\n",
       "    </tr>\n",
       "  </thead>\n",
       "  <tbody>\n",
       "    <tr>\n",
       "      <th>0</th>\n",
       "      <td>1</td>\n",
       "      <td>AStarSearch</td>\n",
       "      <td>PatternDatabaseHeuristic[Max pattern size: 5]</td>\n",
       "      <td>4.785896</td>\n",
       "      <td>52</td>\n",
       "      <td>35520</td>\n",
       "    </tr>\n",
       "    <tr>\n",
       "      <th>1</th>\n",
       "      <td>1</td>\n",
       "      <td>AStarSearch</td>\n",
       "      <td>PatternDatabaseHeuristic[Max pattern size: 5]</td>\n",
       "      <td>0.677555</td>\n",
       "      <td>45</td>\n",
       "      <td>4736</td>\n",
       "    </tr>\n",
       "    <tr>\n",
       "      <th>2</th>\n",
       "      <td>1</td>\n",
       "      <td>AStarSearch</td>\n",
       "      <td>PatternDatabaseHeuristic[Max pattern size: 5]</td>\n",
       "      <td>1.876822</td>\n",
       "      <td>50</td>\n",
       "      <td>14671</td>\n",
       "    </tr>\n",
       "    <tr>\n",
       "      <th>3</th>\n",
       "      <td>1</td>\n",
       "      <td>AStarSearch</td>\n",
       "      <td>PatternDatabaseHeuristic[Max pattern size: 5]</td>\n",
       "      <td>2.522614</td>\n",
       "      <td>46</td>\n",
       "      <td>19828</td>\n",
       "    </tr>\n",
       "    <tr>\n",
       "      <th>4</th>\n",
       "      <td>1</td>\n",
       "      <td>AStarSearch</td>\n",
       "      <td>PatternDatabaseHeuristic[Max pattern size: 5]</td>\n",
       "      <td>6.135401</td>\n",
       "      <td>47</td>\n",
       "      <td>46398</td>\n",
       "    </tr>\n",
       "  </tbody>\n",
       "</table>\n",
       "</div>"
      ],
      "text/plain": [
       "   BOARD_ID ALGORITHM_NAME                                 HEURISTIC_NAME  \\\n",
       "0         1    AStarSearch  PatternDatabaseHeuristic[Max pattern size: 5]   \n",
       "1         1    AStarSearch  PatternDatabaseHeuristic[Max pattern size: 5]   \n",
       "2         1    AStarSearch  PatternDatabaseHeuristic[Max pattern size: 5]   \n",
       "3         1    AStarSearch  PatternDatabaseHeuristic[Max pattern size: 5]   \n",
       "4         1    AStarSearch  PatternDatabaseHeuristic[Max pattern size: 5]   \n",
       "\n",
       "   RUN_TIME  SOLUTION_COST  EXPANDED_NODES  \n",
       "0  4.785896             52           35520  \n",
       "1  0.677555             45            4736  \n",
       "2  1.876822             50           14671  \n",
       "3  2.522614             46           19828  \n",
       "4  6.135401             47           46398  "
      ]
     },
     "execution_count": 13,
     "metadata": {},
     "output_type": "execute_result"
    }
   ],
   "source": [
    "random_permutations.head()"
   ]
  },
  {
   "cell_type": "code",
   "execution_count": 14,
   "metadata": {},
   "outputs": [
    {
     "data": {
      "image/png": "[encoded data removed]",
      "text/plain": [
       "<Figure size 432x288 with 1 Axes>"
      ]
     },
     "metadata": {
      "image/png": {
       "height": 250,
       "width": 368
      },
      "needs_background": "light"
     },
     "output_type": "display_data"
    }
   ],
   "source": [
    "random_permutations['SOLUTION_COST'].hist();"
   ]
  },
  {
   "cell_type": "code",
   "execution_count": 15,
   "metadata": {},
   "outputs": [
    {
     "data": {
      "text/plain": [
       "count    46.000000\n",
       "mean     51.500000\n",
       "std       4.679744\n",
       "min      38.000000\n",
       "25%      49.000000\n",
       "50%      52.000000\n",
       "75%      55.000000\n",
       "max      59.000000\n",
       "Name: SOLUTION_COST, dtype: float64"
      ]
     },
     "execution_count": 15,
     "metadata": {},
     "output_type": "execute_result"
    }
   ],
   "source": [
    "random_permutations['SOLUTION_COST'].describe()"
   ]
  },
  {
   "cell_type": "code",
   "execution_count": null,
   "metadata": {},
   "outputs": [],
   "source": []
  }
 ],
 "metadata": {
  "kernelspec": {
   "display_name": "Python 3",
   "language": "python",
   "name": "python3"
  },
  "language_info": {
   "codemirror_mode": {
    "name": "ipython",
    "version": 3
   },
   "file_extension": ".py",
   "mimetype": "text/x-python",
   "name": "python",
   "nbconvert_exporter": "python",
   "pygments_lexer": "ipython3",
   "version": "3.6.8"
  }
 },
 "nbformat": 4,
 "nbformat_minor": 2
}
