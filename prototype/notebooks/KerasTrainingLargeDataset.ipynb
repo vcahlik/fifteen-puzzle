{
 "cells": [
  {
   "cell_type": "code",
   "execution_count": 1,
   "metadata": {},
   "outputs": [
    {
     "name": "stderr",
     "output_type": "stream",
     "text": [
      "Using TensorFlow backend.\n"
     ]
    }
   ],
   "source": [
    "from __future__ import print_function\n",
    "\n",
    "import keras\n",
    "import keras.backend\n",
    "from keras.models import Sequential\n",
    "from keras.layers import Activation, Dense, Dropout\n",
    "from keras.optimizers import RMSprop, Adam\n",
    "from keras.layers.normalization import BatchNormalization\n",
    "from keras.models import load_model"
   ]
  },
  {
   "cell_type": "code",
   "execution_count": 2,
   "metadata": {},
   "outputs": [],
   "source": [
    "import matplotlib.pyplot as plt\n",
    "import numpy as np\n",
    "import pandas as pd\n",
    "import os\n",
    "plt.style.use('ggplot')\n",
    "\n",
    "%matplotlib inline\n",
    "%config InlineBackend.figure_format='retina'"
   ]
  },
  {
   "cell_type": "code",
   "execution_count": 3,
   "metadata": {},
   "outputs": [],
   "source": [
    "from keras import backend\n",
    "assert len(backend.tensorflow_backend._get_available_gpus()) > 0"
   ]
  },
  {
   "cell_type": "markdown",
   "metadata": {},
   "source": [
    "## Create a generator of training batches"
   ]
  },
  {
   "cell_type": "code",
   "execution_count": 4,
   "metadata": {},
   "outputs": [],
   "source": [
    "def get_X_y_from_df(solutions):\n",
    "    X_raw = solutions.iloc[:,:-1].values\n",
    "    y = solutions['cost'].values\n",
    "    X = np.apply_along_axis(lambda x: np.eye(16)[x].ravel(), 1, X_raw)\n",
    "    return X, y"
   ]
  },
  {
   "cell_type": "code",
   "execution_count": 5,
   "metadata": {},
   "outputs": [],
   "source": [
    "def process_batch(unused_row_idxs, batch_size):\n",
    "    batch_row_idxs_mask_in_unused = np.zeros(len(unused_row_idxs), dtype=np.bool)\n",
    "    batch_row_idxs_mask_in_unused[:batch_size] = 1\n",
    "    np.random.shuffle(batch_row_idxs_mask_in_unused)\n",
    "    batch_row_idxs_in_unused = np.argwhere(batch_row_idxs_mask_in_unused == 1).flatten()\n",
    "    batch_row_idxs = unused_row_idxs[batch_row_idxs_in_unused]\n",
    "    unused_row_idxs = np.delete(unused_row_idxs, batch_row_idxs_in_unused)\n",
    "    return batch_row_idxs, unused_row_idxs\n",
    "\n",
    "def train_batch_generator(csv_file_path, train_row_idxs_mask, batch_size, n_batches):\n",
    "    batch_no = 0\n",
    "    unused_row_idxs = np.argwhere(train_row_idxs_mask == 1).flatten()\n",
    "    \n",
    "    while batch_no < n_batches:\n",
    "        batch_row_idxs, unused_row_idxs = process_batch(unused_row_idxs, batch_size)\n",
    "\n",
    "        skiprows_mask = np.ones(len(train_row_idxs_mask), dtype=np.bool)\n",
    "        skiprows_mask[batch_row_idxs] = 0\n",
    "        skiprows_mask[0] = 0\n",
    "\n",
    "        solutions = pd.read_csv(\n",
    "             csv_file_path,\n",
    "             header=0, \n",
    "             skiprows=lambda i: skiprows_mask[i])\n",
    "\n",
    "        yield get_X_y_from_df(solutions)\n",
    "        \n",
    "        batch_no = batch_no + 1"
   ]
  },
  {
   "cell_type": "code",
   "execution_count": 6,
   "metadata": {},
   "outputs": [],
   "source": [
    "def load_validation_data(csv_file_path, test_idxs_mask):\n",
    "    skiprows_mask = np.invert(test_idxs_mask)\n",
    "    skiprows_mask[0] = 0\n",
    "    solutions = pd.read_csv(\n",
    "             csv_file_path,\n",
    "             header=0, \n",
    "             skiprows=lambda i: skiprows_mask[i])\n",
    "    X_valid, y_valid = get_X_y_from_df(solutions)\n",
    "    return X_valid, y_valid"
   ]
  },
  {
   "cell_type": "code",
   "execution_count": 7,
   "metadata": {},
   "outputs": [],
   "source": [
    "def get_idxs_masks(n_rows_train, n_rows_test):\n",
    "    n_rows_total = n_rows_train + n_rows_test\n",
    "    train_idxs_mask = np.ones(n_rows_total, dtype=np.bool)\n",
    "    train_idxs_mask[:n_rows_test] = 0\n",
    "    np.random.shuffle(train_idxs_mask)\n",
    "    test_idxs_mask = np.invert(train_idxs_mask)\n",
    "    assert(train_idxs_mask.sum() == n_rows_train)\n",
    "    assert(test_idxs_mask.sum() == n_rows_test)\n",
    "    return train_idxs_mask, test_idxs_mask"
   ]
  },
  {
   "cell_type": "code",
   "execution_count": 8,
   "metadata": {},
   "outputs": [],
   "source": [
    "N_ROWS_TOTAL = 98483266  # Includes the header row\n",
    "TEST_SIZE_RATIO = 0.01\n",
    "N_ROWS_TEST = int(N_ROWS_TOTAL * TEST_SIZE_RATIO)\n",
    "N_ROWS_TRAIN = N_ROWS_TOTAL - N_ROWS_TEST\n",
    "\n",
    "BATCH_SIZE = 4000000\n",
    "N_BATCHES_PER_EPOCH = N_ROWS_TOTAL // BATCH_SIZE\n",
    "\n",
    "CSV_FILE_PATH = f\"/home/{os.environ.get('USER')}/code/fifteen-puzzle/data/datasets/solutions-large.csv\""
   ]
  },
  {
   "cell_type": "code",
   "execution_count": 9,
   "metadata": {},
   "outputs": [],
   "source": [
    "train_idxs_mask, test_idxs_mask = get_idxs_masks(N_ROWS_TRAIN, N_ROWS_TEST)"
   ]
  },
  {
   "cell_type": "code",
   "execution_count": 10,
   "metadata": {},
   "outputs": [],
   "source": [
    "def save_idxs_masks():\n",
    "    import pickle\n",
    "\n",
    "    with open('train_idxs_mask.pickle', 'wb') as handle:\n",
    "        pickle.dump(train_idxs_mask, handle)\n",
    "\n",
    "    with open('test_idxs_mask.pickle', 'wb') as handle:\n",
    "        pickle.dump(test_idxs_mask, handle)"
   ]
  },
  {
   "cell_type": "code",
   "execution_count": 11,
   "metadata": {},
   "outputs": [],
   "source": [
    "def load_idxs_masks():\n",
    "    import pickle\n",
    "\n",
    "    with open('train_idxs_mask.pickle', 'rb') as handle:\n",
    "        train = pickle.load(handle)\n",
    "\n",
    "    with open('test_idxs_mask.pickle', 'rb') as handle:\n",
    "        test = pickle.load(handle)\n",
    "        \n",
    "    return train, test"
   ]
  },
  {
   "cell_type": "code",
   "execution_count": 10,
   "metadata": {},
   "outputs": [],
   "source": [
    "# generator = train_batch_generator(CSV_FILE_PATH, train_idxs_mask, BATCH_SIZE, N_BATCHES_PER_EPOCH)"
   ]
  },
  {
   "cell_type": "code",
   "execution_count": 12,
   "metadata": {},
   "outputs": [],
   "source": [
    "# train_idxs_mask, test_idxs_mask = load_idxs_masks()"
   ]
  },
  {
   "cell_type": "code",
   "execution_count": 10,
   "metadata": {},
   "outputs": [],
   "source": [
    "X_valid, y_valid = load_validation_data(CSV_FILE_PATH, test_idxs_mask)"
   ]
  },
  {
   "cell_type": "markdown",
   "metadata": {},
   "source": [
    "## Training"
   ]
  },
  {
   "cell_type": "code",
   "execution_count": 11,
   "metadata": {},
   "outputs": [],
   "source": [
    "def get_model(layer_sizes, \n",
    "              learning_rate=0.001, \n",
    "              dropout_ratio=0.2, \n",
    "              activation='elu', \n",
    "              loss='mean_squared_error',\n",
    "              kernel_initializer='he_normal', \n",
    "              batch_normalize=True):\n",
    "    model = Sequential()\n",
    "    model.add(Dense(layer_sizes[0], input_shape=(256,), activation=activation, kernel_initializer=kernel_initializer))\n",
    "    model.add(Activation(activation))\n",
    "    if batch_normalize:\n",
    "        model.add(BatchNormalization())\n",
    "    model.add(Dropout(dropout_ratio * 0.5))\n",
    "    \n",
    "    for layer_size in layer_sizes[1:]:\n",
    "        model.add(Dense(layer_size, activation=activation, kernel_initializer=kernel_initializer))\n",
    "        model.add(Activation(activation))\n",
    "        if batch_normalize:\n",
    "            model.add(BatchNormalization())\n",
    "        model.add(Dropout(dropout_ratio))\n",
    "\n",
    "    model.add(Dense(1, kernel_initializer='he_normal'))\n",
    "    model.compile(loss=loss,\n",
    "                  optimizer=Adam(lr=learning_rate),\n",
    "                  metrics=['accuracy'])\n",
    "    return model"
   ]
  },
  {
   "cell_type": "code",
   "execution_count": 15,
   "metadata": {},
   "outputs": [
    {
     "name": "stdout",
     "output_type": "stream",
     "text": [
      "Train on 4000000 samples, validate on 984832 samples\n",
      "Epoch 1/1\n",
      "4000000/4000000 [==============================] - 257s 64us/step - loss: 16.4203 - acc: 0.1199 - val_loss: 3.6040 - val_acc: 0.1951\n",
      "Train on 4000000 samples, validate on 984832 samples\n",
      "Epoch 1/1\n",
      "4000000/4000000 [==============================] - 254s 63us/step - loss: 6.1286 - acc: 0.1617 - val_loss: 3.0059 - val_acc: 0.2309\n",
      "Train on 4000000 samples, validate on 984832 samples\n",
      "Epoch 1/1\n",
      "4000000/4000000 [==============================] - 252s 63us/step - loss: 4.6350 - acc: 0.1858 - val_loss: 2.6654 - val_acc: 0.2368\n",
      "Train on 3999999 samples, validate on 984832 samples\n",
      "Epoch 1/1\n",
      "3999999/3999999 [==============================] - 237s 59us/step - loss: 4.2255 - acc: 0.1960 - val_loss: 2.5172 - val_acc: 0.2498\n",
      "Train on 4000000 samples, validate on 984832 samples\n",
      "Epoch 1/1\n",
      "4000000/4000000 [==============================] - 223s 56us/step - loss: 4.0549 - acc: 0.2005 - val_loss: 2.3305 - val_acc: 0.2543\n"
     ]
    },
    {
     "ename": "ParserError",
     "evalue": "Error tokenizing data. C error: no error message set",
     "output_type": "error",
     "traceback": [
      "\u001b[0;31m---------------------------------------------------------------------------\u001b[0m",
      "\u001b[0;31mParserError\u001b[0m                               Traceback (most recent call last)",
      "\u001b[0;32m<ipython-input-15-6b5291b93046>\u001b[0m in \u001b[0;36m<module>\u001b[0;34m\u001b[0m\n\u001b[1;32m      9\u001b[0m     \u001b[0;32mwhile\u001b[0m \u001b[0;32mTrue\u001b[0m\u001b[0;34m:\u001b[0m\u001b[0;34m\u001b[0m\u001b[0;34m\u001b[0m\u001b[0m\n\u001b[1;32m     10\u001b[0m         \u001b[0mgenerator\u001b[0m \u001b[0;34m=\u001b[0m \u001b[0mtrain_batch_generator\u001b[0m\u001b[0;34m(\u001b[0m\u001b[0mCSV_FILE_PATH\u001b[0m\u001b[0;34m,\u001b[0m \u001b[0mtrain_idxs_mask\u001b[0m\u001b[0;34m,\u001b[0m \u001b[0mBATCH_SIZE\u001b[0m\u001b[0;34m,\u001b[0m \u001b[0mN_BATCHES_PER_EPOCH\u001b[0m\u001b[0;34m)\u001b[0m\u001b[0;34m\u001b[0m\u001b[0;34m\u001b[0m\u001b[0m\n\u001b[0;32m---> 11\u001b[0;31m         \u001b[0;32mfor\u001b[0m \u001b[0mX_train\u001b[0m\u001b[0;34m,\u001b[0m \u001b[0my_train\u001b[0m \u001b[0;32min\u001b[0m \u001b[0mgenerator\u001b[0m\u001b[0;34m:\u001b[0m\u001b[0;34m\u001b[0m\u001b[0;34m\u001b[0m\u001b[0m\n\u001b[0m\u001b[1;32m     12\u001b[0m             model.fit(X_train, y_train, \n\u001b[1;32m     13\u001b[0m                       \u001b[0mbatch_size\u001b[0m\u001b[0;34m=\u001b[0m\u001b[0;36m256\u001b[0m\u001b[0;34m,\u001b[0m\u001b[0;34m\u001b[0m\u001b[0;34m\u001b[0m\u001b[0m\n",
      "\u001b[0;32m<ipython-input-5-95a3c1cb8430>\u001b[0m in \u001b[0;36mtrain_batch_generator\u001b[0;34m(csv_file_path, train_row_idxs_mask, batch_size, n_batches)\u001b[0m\n\u001b[1;32m     22\u001b[0m              \u001b[0mcsv_file_path\u001b[0m\u001b[0;34m,\u001b[0m\u001b[0;34m\u001b[0m\u001b[0;34m\u001b[0m\u001b[0m\n\u001b[1;32m     23\u001b[0m              \u001b[0mheader\u001b[0m\u001b[0;34m=\u001b[0m\u001b[0;36m0\u001b[0m\u001b[0;34m,\u001b[0m\u001b[0;34m\u001b[0m\u001b[0;34m\u001b[0m\u001b[0m\n\u001b[0;32m---> 24\u001b[0;31m              skiprows=lambda i: skiprows_mask[i])\n\u001b[0m\u001b[1;32m     25\u001b[0m \u001b[0;34m\u001b[0m\u001b[0m\n\u001b[1;32m     26\u001b[0m         \u001b[0;32myield\u001b[0m \u001b[0mget_X_y_from_df\u001b[0m\u001b[0;34m(\u001b[0m\u001b[0msolutions\u001b[0m\u001b[0;34m)\u001b[0m\u001b[0;34m\u001b[0m\u001b[0;34m\u001b[0m\u001b[0m\n",
      "\u001b[0;32m~/.miniconda3/envs/fifteen-puzzle-gpu/lib/python3.6/site-packages/pandas/io/parsers.py\u001b[0m in \u001b[0;36mparser_f\u001b[0;34m(filepath_or_buffer, sep, delimiter, header, names, index_col, usecols, squeeze, prefix, mangle_dupe_cols, dtype, engine, converters, true_values, false_values, skipinitialspace, skiprows, skipfooter, nrows, na_values, keep_default_na, na_filter, verbose, skip_blank_lines, parse_dates, infer_datetime_format, keep_date_col, date_parser, dayfirst, iterator, chunksize, compression, thousands, decimal, lineterminator, quotechar, quoting, doublequote, escapechar, comment, encoding, dialect, tupleize_cols, error_bad_lines, warn_bad_lines, delim_whitespace, low_memory, memory_map, float_precision)\u001b[0m\n\u001b[1;32m    700\u001b[0m                     skip_blank_lines=skip_blank_lines)\n\u001b[1;32m    701\u001b[0m \u001b[0;34m\u001b[0m\u001b[0m\n\u001b[0;32m--> 702\u001b[0;31m         \u001b[0;32mreturn\u001b[0m \u001b[0m_read\u001b[0m\u001b[0;34m(\u001b[0m\u001b[0mfilepath_or_buffer\u001b[0m\u001b[0;34m,\u001b[0m \u001b[0mkwds\u001b[0m\u001b[0;34m)\u001b[0m\u001b[0;34m\u001b[0m\u001b[0;34m\u001b[0m\u001b[0m\n\u001b[0m\u001b[1;32m    703\u001b[0m \u001b[0;34m\u001b[0m\u001b[0m\n\u001b[1;32m    704\u001b[0m     \u001b[0mparser_f\u001b[0m\u001b[0;34m.\u001b[0m\u001b[0m__name__\u001b[0m \u001b[0;34m=\u001b[0m \u001b[0mname\u001b[0m\u001b[0;34m\u001b[0m\u001b[0;34m\u001b[0m\u001b[0m\n",
      "\u001b[0;32m~/.miniconda3/envs/fifteen-puzzle-gpu/lib/python3.6/site-packages/pandas/io/parsers.py\u001b[0m in \u001b[0;36m_read\u001b[0;34m(filepath_or_buffer, kwds)\u001b[0m\n\u001b[1;32m    433\u001b[0m \u001b[0;34m\u001b[0m\u001b[0m\n\u001b[1;32m    434\u001b[0m     \u001b[0;32mtry\u001b[0m\u001b[0;34m:\u001b[0m\u001b[0;34m\u001b[0m\u001b[0;34m\u001b[0m\u001b[0m\n\u001b[0;32m--> 435\u001b[0;31m         \u001b[0mdata\u001b[0m \u001b[0;34m=\u001b[0m \u001b[0mparser\u001b[0m\u001b[0;34m.\u001b[0m\u001b[0mread\u001b[0m\u001b[0;34m(\u001b[0m\u001b[0mnrows\u001b[0m\u001b[0;34m)\u001b[0m\u001b[0;34m\u001b[0m\u001b[0;34m\u001b[0m\u001b[0m\n\u001b[0m\u001b[1;32m    436\u001b[0m     \u001b[0;32mfinally\u001b[0m\u001b[0;34m:\u001b[0m\u001b[0;34m\u001b[0m\u001b[0;34m\u001b[0m\u001b[0m\n\u001b[1;32m    437\u001b[0m         \u001b[0mparser\u001b[0m\u001b[0;34m.\u001b[0m\u001b[0mclose\u001b[0m\u001b[0;34m(\u001b[0m\u001b[0;34m)\u001b[0m\u001b[0;34m\u001b[0m\u001b[0;34m\u001b[0m\u001b[0m\n",
      "\u001b[0;32m~/.miniconda3/envs/fifteen-puzzle-gpu/lib/python3.6/site-packages/pandas/io/parsers.py\u001b[0m in \u001b[0;36mread\u001b[0;34m(self, nrows)\u001b[0m\n\u001b[1;32m   1137\u001b[0m     \u001b[0;32mdef\u001b[0m \u001b[0mread\u001b[0m\u001b[0;34m(\u001b[0m\u001b[0mself\u001b[0m\u001b[0;34m,\u001b[0m \u001b[0mnrows\u001b[0m\u001b[0;34m=\u001b[0m\u001b[0;32mNone\u001b[0m\u001b[0;34m)\u001b[0m\u001b[0;34m:\u001b[0m\u001b[0;34m\u001b[0m\u001b[0;34m\u001b[0m\u001b[0m\n\u001b[1;32m   1138\u001b[0m         \u001b[0mnrows\u001b[0m \u001b[0;34m=\u001b[0m \u001b[0m_validate_integer\u001b[0m\u001b[0;34m(\u001b[0m\u001b[0;34m'nrows'\u001b[0m\u001b[0;34m,\u001b[0m \u001b[0mnrows\u001b[0m\u001b[0;34m)\u001b[0m\u001b[0;34m\u001b[0m\u001b[0;34m\u001b[0m\u001b[0m\n\u001b[0;32m-> 1139\u001b[0;31m         \u001b[0mret\u001b[0m \u001b[0;34m=\u001b[0m \u001b[0mself\u001b[0m\u001b[0;34m.\u001b[0m\u001b[0m_engine\u001b[0m\u001b[0;34m.\u001b[0m\u001b[0mread\u001b[0m\u001b[0;34m(\u001b[0m\u001b[0mnrows\u001b[0m\u001b[0;34m)\u001b[0m\u001b[0;34m\u001b[0m\u001b[0;34m\u001b[0m\u001b[0m\n\u001b[0m\u001b[1;32m   1140\u001b[0m \u001b[0;34m\u001b[0m\u001b[0m\n\u001b[1;32m   1141\u001b[0m         \u001b[0;31m# May alter columns / col_dict\u001b[0m\u001b[0;34m\u001b[0m\u001b[0;34m\u001b[0m\u001b[0;34m\u001b[0m\u001b[0m\n",
      "\u001b[0;32m~/.miniconda3/envs/fifteen-puzzle-gpu/lib/python3.6/site-packages/pandas/io/parsers.py\u001b[0m in \u001b[0;36mread\u001b[0;34m(self, nrows)\u001b[0m\n\u001b[1;32m   1993\u001b[0m     \u001b[0;32mdef\u001b[0m \u001b[0mread\u001b[0m\u001b[0;34m(\u001b[0m\u001b[0mself\u001b[0m\u001b[0;34m,\u001b[0m \u001b[0mnrows\u001b[0m\u001b[0;34m=\u001b[0m\u001b[0;32mNone\u001b[0m\u001b[0;34m)\u001b[0m\u001b[0;34m:\u001b[0m\u001b[0;34m\u001b[0m\u001b[0;34m\u001b[0m\u001b[0m\n\u001b[1;32m   1994\u001b[0m         \u001b[0;32mtry\u001b[0m\u001b[0;34m:\u001b[0m\u001b[0;34m\u001b[0m\u001b[0;34m\u001b[0m\u001b[0m\n\u001b[0;32m-> 1995\u001b[0;31m             \u001b[0mdata\u001b[0m \u001b[0;34m=\u001b[0m \u001b[0mself\u001b[0m\u001b[0;34m.\u001b[0m\u001b[0m_reader\u001b[0m\u001b[0;34m.\u001b[0m\u001b[0mread\u001b[0m\u001b[0;34m(\u001b[0m\u001b[0mnrows\u001b[0m\u001b[0;34m)\u001b[0m\u001b[0;34m\u001b[0m\u001b[0;34m\u001b[0m\u001b[0m\n\u001b[0m\u001b[1;32m   1996\u001b[0m         \u001b[0;32mexcept\u001b[0m \u001b[0mStopIteration\u001b[0m\u001b[0;34m:\u001b[0m\u001b[0;34m\u001b[0m\u001b[0;34m\u001b[0m\u001b[0m\n\u001b[1;32m   1997\u001b[0m             \u001b[0;32mif\u001b[0m \u001b[0mself\u001b[0m\u001b[0;34m.\u001b[0m\u001b[0m_first_chunk\u001b[0m\u001b[0;34m:\u001b[0m\u001b[0;34m\u001b[0m\u001b[0;34m\u001b[0m\u001b[0m\n",
      "\u001b[0;32mpandas/_libs/parsers.pyx\u001b[0m in \u001b[0;36mpandas._libs.parsers.TextReader.read\u001b[0;34m()\u001b[0m\n",
      "\u001b[0;32mpandas/_libs/parsers.pyx\u001b[0m in \u001b[0;36mpandas._libs.parsers.TextReader._read_low_memory\u001b[0;34m()\u001b[0m\n",
      "\u001b[0;32mpandas/_libs/parsers.pyx\u001b[0m in \u001b[0;36mpandas._libs.parsers.TextReader._read_rows\u001b[0;34m()\u001b[0m\n",
      "\u001b[0;32mpandas/_libs/parsers.pyx\u001b[0m in \u001b[0;36mpandas._libs.parsers.TextReader._tokenize_rows\u001b[0;34m()\u001b[0m\n",
      "\u001b[0;32mpandas/_libs/parsers.pyx\u001b[0m in \u001b[0;36mpandas._libs.parsers.raise_parser_error\u001b[0;34m()\u001b[0m\n",
      "\u001b[0;31mParserError\u001b[0m: Error tokenizing data. C error: no error message set"
     ]
    }
   ],
   "source": [
    "import datetime\n",
    "\n",
    "model = get_model([1024, 1024, 512, 128, 64], \n",
    "                  learning_rate=0.01, \n",
    "                  dropout_ratio=0.2)\n",
    "\n",
    "epoch = 1\n",
    "try:\n",
    "    while True:\n",
    "        generator = train_batch_generator(CSV_FILE_PATH, train_idxs_mask, BATCH_SIZE, N_BATCHES_PER_EPOCH)\n",
    "        for X_train, y_train in generator: \n",
    "            model.fit(X_train, y_train, \n",
    "                      batch_size=256,\n",
    "                      epochs=1,\n",
    "                      verbose=1,\n",
    "                      validation_data=(X_valid, y_valid))\n",
    "            model.save(f'keras-1024-1024-512-128-64-v2_{datetime.datetime.now()}.h5')\n",
    "        epoch = epoch + 1\n",
    "except KeyboardInterrupt:\n",
    "    pass"
   ]
  },
  {
   "cell_type": "code",
   "execution_count": 16,
   "metadata": {},
   "outputs": [],
   "source": []
  },
  {
   "cell_type": "code",
   "execution_count": 16,
   "metadata": {},
   "outputs": [
    {
     "name": "stdout",
     "output_type": "stream",
     "text": [
      "Train on 4000000 samples, validate on 984832 samples\n",
      "Epoch 1/1\n",
      "4000000/4000000 [==============================] - 774s 193us/step - loss: 75.2416 - acc: 0.0993 - val_loss: 3.3887 - val_acc: 0.2248\n",
      "Train on 4000000 samples, validate on 984832 samples\n",
      "Epoch 1/1\n",
      "4000000/4000000 [==============================] - 770s 193us/step - loss: 11.1077 - acc: 0.1207 - val_loss: 2.8205 - val_acc: 0.2338\n"
     ]
    },
    {
     "ename": "ParserError",
     "evalue": "Error tokenizing data. C error: no error message set",
     "output_type": "error",
     "traceback": [
      "\u001b[0;31m---------------------------------------------------------------------------\u001b[0m",
      "\u001b[0;31mParserError\u001b[0m                               Traceback (most recent call last)",
      "\u001b[0;32m<ipython-input-16-d9eee3c56ae3>\u001b[0m in \u001b[0;36m<module>\u001b[0;34m\u001b[0m\n\u001b[1;32m      9\u001b[0m     \u001b[0;32mwhile\u001b[0m \u001b[0;32mTrue\u001b[0m\u001b[0;34m:\u001b[0m\u001b[0;34m\u001b[0m\u001b[0;34m\u001b[0m\u001b[0m\n\u001b[1;32m     10\u001b[0m         \u001b[0mgenerator\u001b[0m \u001b[0;34m=\u001b[0m \u001b[0mtrain_batch_generator\u001b[0m\u001b[0;34m(\u001b[0m\u001b[0mCSV_FILE_PATH\u001b[0m\u001b[0;34m,\u001b[0m \u001b[0mtrain_idxs_mask\u001b[0m\u001b[0;34m,\u001b[0m \u001b[0mBATCH_SIZE\u001b[0m\u001b[0;34m,\u001b[0m \u001b[0mN_BATCHES_PER_EPOCH\u001b[0m\u001b[0;34m)\u001b[0m\u001b[0;34m\u001b[0m\u001b[0;34m\u001b[0m\u001b[0m\n\u001b[0;32m---> 11\u001b[0;31m         \u001b[0;32mfor\u001b[0m \u001b[0mX_train\u001b[0m\u001b[0;34m,\u001b[0m \u001b[0my_train\u001b[0m \u001b[0;32min\u001b[0m \u001b[0mgenerator\u001b[0m\u001b[0;34m:\u001b[0m\u001b[0;34m\u001b[0m\u001b[0;34m\u001b[0m\u001b[0m\n\u001b[0m\u001b[1;32m     12\u001b[0m             model.fit(X_train, y_train, \n\u001b[1;32m     13\u001b[0m                       \u001b[0mbatch_size\u001b[0m\u001b[0;34m=\u001b[0m\u001b[0;36m256\u001b[0m\u001b[0;34m,\u001b[0m\u001b[0;34m\u001b[0m\u001b[0;34m\u001b[0m\u001b[0m\n",
      "\u001b[0;32m<ipython-input-6-95a3c1cb8430>\u001b[0m in \u001b[0;36mtrain_batch_generator\u001b[0;34m(csv_file_path, train_row_idxs_mask, batch_size, n_batches)\u001b[0m\n\u001b[1;32m     22\u001b[0m              \u001b[0mcsv_file_path\u001b[0m\u001b[0;34m,\u001b[0m\u001b[0;34m\u001b[0m\u001b[0;34m\u001b[0m\u001b[0m\n\u001b[1;32m     23\u001b[0m              \u001b[0mheader\u001b[0m\u001b[0;34m=\u001b[0m\u001b[0;36m0\u001b[0m\u001b[0;34m,\u001b[0m\u001b[0;34m\u001b[0m\u001b[0;34m\u001b[0m\u001b[0m\n\u001b[0;32m---> 24\u001b[0;31m              skiprows=lambda i: skiprows_mask[i])\n\u001b[0m\u001b[1;32m     25\u001b[0m \u001b[0;34m\u001b[0m\u001b[0m\n\u001b[1;32m     26\u001b[0m         \u001b[0;32myield\u001b[0m \u001b[0mget_X_y_from_df\u001b[0m\u001b[0;34m(\u001b[0m\u001b[0msolutions\u001b[0m\u001b[0;34m)\u001b[0m\u001b[0;34m\u001b[0m\u001b[0;34m\u001b[0m\u001b[0m\n",
      "\u001b[0;32m~/.miniconda3/envs/fifteen-puzzle-gpu/lib/python3.6/site-packages/pandas/io/parsers.py\u001b[0m in \u001b[0;36mparser_f\u001b[0;34m(filepath_or_buffer, sep, delimiter, header, names, index_col, usecols, squeeze, prefix, mangle_dupe_cols, dtype, engine, converters, true_values, false_values, skipinitialspace, skiprows, skipfooter, nrows, na_values, keep_default_na, na_filter, verbose, skip_blank_lines, parse_dates, infer_datetime_format, keep_date_col, date_parser, dayfirst, iterator, chunksize, compression, thousands, decimal, lineterminator, quotechar, quoting, doublequote, escapechar, comment, encoding, dialect, tupleize_cols, error_bad_lines, warn_bad_lines, delim_whitespace, low_memory, memory_map, float_precision)\u001b[0m\n\u001b[1;32m    700\u001b[0m                     skip_blank_lines=skip_blank_lines)\n\u001b[1;32m    701\u001b[0m \u001b[0;34m\u001b[0m\u001b[0m\n\u001b[0;32m--> 702\u001b[0;31m         \u001b[0;32mreturn\u001b[0m \u001b[0m_read\u001b[0m\u001b[0;34m(\u001b[0m\u001b[0mfilepath_or_buffer\u001b[0m\u001b[0;34m,\u001b[0m \u001b[0mkwds\u001b[0m\u001b[0;34m)\u001b[0m\u001b[0;34m\u001b[0m\u001b[0;34m\u001b[0m\u001b[0m\n\u001b[0m\u001b[1;32m    703\u001b[0m \u001b[0;34m\u001b[0m\u001b[0m\n\u001b[1;32m    704\u001b[0m     \u001b[0mparser_f\u001b[0m\u001b[0;34m.\u001b[0m\u001b[0m__name__\u001b[0m \u001b[0;34m=\u001b[0m \u001b[0mname\u001b[0m\u001b[0;34m\u001b[0m\u001b[0;34m\u001b[0m\u001b[0m\n",
      "\u001b[0;32m~/.miniconda3/envs/fifteen-puzzle-gpu/lib/python3.6/site-packages/pandas/io/parsers.py\u001b[0m in \u001b[0;36m_read\u001b[0;34m(filepath_or_buffer, kwds)\u001b[0m\n\u001b[1;32m    433\u001b[0m \u001b[0;34m\u001b[0m\u001b[0m\n\u001b[1;32m    434\u001b[0m     \u001b[0;32mtry\u001b[0m\u001b[0;34m:\u001b[0m\u001b[0;34m\u001b[0m\u001b[0;34m\u001b[0m\u001b[0m\n\u001b[0;32m--> 435\u001b[0;31m         \u001b[0mdata\u001b[0m \u001b[0;34m=\u001b[0m \u001b[0mparser\u001b[0m\u001b[0;34m.\u001b[0m\u001b[0mread\u001b[0m\u001b[0;34m(\u001b[0m\u001b[0mnrows\u001b[0m\u001b[0;34m)\u001b[0m\u001b[0;34m\u001b[0m\u001b[0;34m\u001b[0m\u001b[0m\n\u001b[0m\u001b[1;32m    436\u001b[0m     \u001b[0;32mfinally\u001b[0m\u001b[0;34m:\u001b[0m\u001b[0;34m\u001b[0m\u001b[0;34m\u001b[0m\u001b[0m\n\u001b[1;32m    437\u001b[0m         \u001b[0mparser\u001b[0m\u001b[0;34m.\u001b[0m\u001b[0mclose\u001b[0m\u001b[0;34m(\u001b[0m\u001b[0;34m)\u001b[0m\u001b[0;34m\u001b[0m\u001b[0;34m\u001b[0m\u001b[0m\n",
      "\u001b[0;32m~/.miniconda3/envs/fifteen-puzzle-gpu/lib/python3.6/site-packages/pandas/io/parsers.py\u001b[0m in \u001b[0;36mread\u001b[0;34m(self, nrows)\u001b[0m\n\u001b[1;32m   1137\u001b[0m     \u001b[0;32mdef\u001b[0m \u001b[0mread\u001b[0m\u001b[0;34m(\u001b[0m\u001b[0mself\u001b[0m\u001b[0;34m,\u001b[0m \u001b[0mnrows\u001b[0m\u001b[0;34m=\u001b[0m\u001b[0;32mNone\u001b[0m\u001b[0;34m)\u001b[0m\u001b[0;34m:\u001b[0m\u001b[0;34m\u001b[0m\u001b[0;34m\u001b[0m\u001b[0m\n\u001b[1;32m   1138\u001b[0m         \u001b[0mnrows\u001b[0m \u001b[0;34m=\u001b[0m \u001b[0m_validate_integer\u001b[0m\u001b[0;34m(\u001b[0m\u001b[0;34m'nrows'\u001b[0m\u001b[0;34m,\u001b[0m \u001b[0mnrows\u001b[0m\u001b[0;34m)\u001b[0m\u001b[0;34m\u001b[0m\u001b[0;34m\u001b[0m\u001b[0m\n\u001b[0;32m-> 1139\u001b[0;31m         \u001b[0mret\u001b[0m \u001b[0;34m=\u001b[0m \u001b[0mself\u001b[0m\u001b[0;34m.\u001b[0m\u001b[0m_engine\u001b[0m\u001b[0;34m.\u001b[0m\u001b[0mread\u001b[0m\u001b[0;34m(\u001b[0m\u001b[0mnrows\u001b[0m\u001b[0;34m)\u001b[0m\u001b[0;34m\u001b[0m\u001b[0;34m\u001b[0m\u001b[0m\n\u001b[0m\u001b[1;32m   1140\u001b[0m \u001b[0;34m\u001b[0m\u001b[0m\n\u001b[1;32m   1141\u001b[0m         \u001b[0;31m# May alter columns / col_dict\u001b[0m\u001b[0;34m\u001b[0m\u001b[0;34m\u001b[0m\u001b[0;34m\u001b[0m\u001b[0m\n",
      "\u001b[0;32m~/.miniconda3/envs/fifteen-puzzle-gpu/lib/python3.6/site-packages/pandas/io/parsers.py\u001b[0m in \u001b[0;36mread\u001b[0;34m(self, nrows)\u001b[0m\n\u001b[1;32m   1993\u001b[0m     \u001b[0;32mdef\u001b[0m \u001b[0mread\u001b[0m\u001b[0;34m(\u001b[0m\u001b[0mself\u001b[0m\u001b[0;34m,\u001b[0m \u001b[0mnrows\u001b[0m\u001b[0;34m=\u001b[0m\u001b[0;32mNone\u001b[0m\u001b[0;34m)\u001b[0m\u001b[0;34m:\u001b[0m\u001b[0;34m\u001b[0m\u001b[0;34m\u001b[0m\u001b[0m\n\u001b[1;32m   1994\u001b[0m         \u001b[0;32mtry\u001b[0m\u001b[0;34m:\u001b[0m\u001b[0;34m\u001b[0m\u001b[0;34m\u001b[0m\u001b[0m\n\u001b[0;32m-> 1995\u001b[0;31m             \u001b[0mdata\u001b[0m \u001b[0;34m=\u001b[0m \u001b[0mself\u001b[0m\u001b[0;34m.\u001b[0m\u001b[0m_reader\u001b[0m\u001b[0;34m.\u001b[0m\u001b[0mread\u001b[0m\u001b[0;34m(\u001b[0m\u001b[0mnrows\u001b[0m\u001b[0;34m)\u001b[0m\u001b[0;34m\u001b[0m\u001b[0;34m\u001b[0m\u001b[0m\n\u001b[0m\u001b[1;32m   1996\u001b[0m         \u001b[0;32mexcept\u001b[0m \u001b[0mStopIteration\u001b[0m\u001b[0;34m:\u001b[0m\u001b[0;34m\u001b[0m\u001b[0;34m\u001b[0m\u001b[0m\n\u001b[1;32m   1997\u001b[0m             \u001b[0;32mif\u001b[0m \u001b[0mself\u001b[0m\u001b[0;34m.\u001b[0m\u001b[0m_first_chunk\u001b[0m\u001b[0;34m:\u001b[0m\u001b[0;34m\u001b[0m\u001b[0;34m\u001b[0m\u001b[0m\n",
      "\u001b[0;32mpandas/_libs/parsers.pyx\u001b[0m in \u001b[0;36mpandas._libs.parsers.TextReader.read\u001b[0;34m()\u001b[0m\n",
      "\u001b[0;32mpandas/_libs/parsers.pyx\u001b[0m in \u001b[0;36mpandas._libs.parsers.TextReader._read_low_memory\u001b[0;34m()\u001b[0m\n",
      "\u001b[0;32mpandas/_libs/parsers.pyx\u001b[0m in \u001b[0;36mpandas._libs.parsers.TextReader._read_rows\u001b[0;34m()\u001b[0m\n",
      "\u001b[0;32mpandas/_libs/parsers.pyx\u001b[0m in \u001b[0;36mpandas._libs.parsers.TextReader._tokenize_rows\u001b[0;34m()\u001b[0m\n",
      "\u001b[0;32mpandas/_libs/parsers.pyx\u001b[0m in \u001b[0;36mpandas._libs.parsers.raise_parser_error\u001b[0;34m()\u001b[0m\n",
      "\u001b[0;31mParserError\u001b[0m: Error tokenizing data. C error: no error message set"
     ]
    }
   ],
   "source": [
    "import datetime\n",
    "\n",
    "model = get_model([4096, 4096, 2048, 2048, 1024, 512, 256, 128], \n",
    "                  learning_rate=0.0005, \n",
    "                  dropout_ratio=0.3)\n",
    "\n",
    "epoch = 1\n",
    "try:\n",
    "    while True:\n",
    "        generator = train_batch_generator(CSV_FILE_PATH, train_idxs_mask, BATCH_SIZE, N_BATCHES_PER_EPOCH)\n",
    "        for X_train, y_train in generator: \n",
    "            model.fit(X_train, y_train, \n",
    "                      batch_size=256,\n",
    "                      epochs=1,\n",
    "                      verbose=1,\n",
    "                      validation_data=(X_valid, y_valid))\n",
    "            model.save(f\"keras-large-4096-4096-2048-2048-1024-512-256-128_{datetime.datetime.now()}.h5\")\n",
    "        epoch = epoch + 1\n",
    "except KeyboardInterrupt:\n",
    "    pass"
   ]
  },
  {
   "cell_type": "markdown",
   "metadata": {},
   "source": [
    "## First part of training"
   ]
  },
  {
   "cell_type": "code",
   "execution_count": null,
   "metadata": {},
   "outputs": [
    {
     "name": "stdout",
     "output_type": "stream",
     "text": [
      "Train on 4000000 samples, validate on 984832 samples\n",
      "Epoch 1/1\n",
      "4000000/4000000 [==============================] - 1295s 324us/step - loss: 141.2361 - acc: 0.0913 - val_loss: 3.9740 - val_acc: 0.2175\n",
      "Train on 4000000 samples, validate on 984832 samples\n",
      "Epoch 1/1\n",
      "4000000/4000000 [==============================] - 1288s 322us/step - loss: 8.9088 - acc: 0.1437 - val_loss: 3.1159 - val_acc: 0.2275\n",
      "Train on 4000000 samples, validate on 984832 samples\n",
      "Epoch 1/1\n",
      "4000000/4000000 [==============================] - 1293s 323us/step - loss: 6.5126 - acc: 0.1613 - val_loss: 2.7866 - val_acc: 0.2354\n",
      "Train on 4000000 samples, validate on 984832 samples\n",
      "Epoch 1/1\n",
      "4000000/4000000 [==============================] - 1290s 323us/step - loss: 5.5519 - acc: 0.1717 - val_loss: 2.5180 - val_acc: 0.2466\n",
      "Train on 4000000 samples, validate on 984832 samples\n",
      "Epoch 1/1\n",
      "4000000/4000000 [==============================] - 1285s 321us/step - loss: 4.9769 - acc: 0.1797 - val_loss: 2.2996 - val_acc: 0.2645\n",
      "Train on 4000000 samples, validate on 984832 samples\n",
      "Epoch 1/1\n",
      "4000000/4000000 [==============================] - 1287s 322us/step - loss: 4.6404 - acc: 0.1849 - val_loss: 2.3214 - val_acc: 0.2572\n",
      "Train on 4000000 samples, validate on 984832 samples\n",
      "Epoch 1/1\n",
      "4000000/4000000 [==============================] - 1287s 322us/step - loss: 4.3652 - acc: 0.1900 - val_loss: 2.1809 - val_acc: 0.2715\n",
      "Train on 3999999 samples, validate on 984832 samples\n",
      "Epoch 1/1\n",
      "3999999/3999999 [==============================] - 1288s 322us/step - loss: 4.1784 - acc: 0.1938 - val_loss: 2.0448 - val_acc: 0.2772\n",
      "Train on 4000000 samples, validate on 984832 samples\n",
      "Epoch 1/1\n",
      "4000000/4000000 [==============================] - 1289s 322us/step - loss: 4.0437 - acc: 0.1974 - val_loss: 2.0081 - val_acc: 0.2807\n",
      "Train on 4000000 samples, validate on 984832 samples\n",
      "Epoch 1/1\n",
      "4000000/4000000 [==============================] - 1285s 321us/step - loss: 3.9414 - acc: 0.1996 - val_loss: 1.9402 - val_acc: 0.2875\n",
      "Train on 4000000 samples, validate on 984832 samples\n",
      "Epoch 1/1\n",
      "4000000/4000000 [==============================] - 1286s 322us/step - loss: 3.8702 - acc: 0.2016 - val_loss: 1.8876 - val_acc: 0.2946\n",
      "Train on 4000000 samples, validate on 984832 samples\n",
      "Epoch 1/1\n",
      "4000000/4000000 [==============================] - 1286s 321us/step - loss: 3.8194 - acc: 0.2030 - val_loss: 1.8797 - val_acc: 0.2998\n",
      "Train on 4000000 samples, validate on 984832 samples\n",
      "Epoch 1/1\n",
      " 812800/4000000 [=====>........................] - ETA: 16:30 - loss: 3.8160 - acc: 0.2033"
     ]
    }
   ],
   "source": [
    "import datetime\n",
    "\n",
    "model = get_model([4096, 4096, 4096, 2048, 2048, 2048, 2048, 1024, 1024, 1024], \n",
    "                  learning_rate=0.0001, \n",
    "                  dropout_ratio=0.3)\n",
    "\n",
    "epoch = 1\n",
    "try:\n",
    "    while True:\n",
    "        generator = train_batch_generator(CSV_FILE_PATH, train_idxs_mask, BATCH_SIZE, N_BATCHES_PER_EPOCH)\n",
    "        for X_train, y_train in generator: \n",
    "            model.fit(X_train, y_train, \n",
    "                      batch_size=256,\n",
    "                      epochs=1,\n",
    "                      verbose=1,\n",
    "                      validation_data=(X_valid, y_valid))\n",
    "            model.save(f\"keras-large-4096-4096-4096-2048-2048-2048-1024-1024-1024_{datetime.datetime.now()}.h5\")\n",
    "        epoch = epoch + 1\n",
    "except KeyboardInterrupt:\n",
    "    pass"
   ]
  },
  {
   "cell_type": "markdown",
   "metadata": {},
   "source": [
    "18 out of 24 batches were run."
   ]
  },
  {
   "cell_type": "markdown",
   "metadata": {},
   "source": [
    "## Second part of training"
   ]
  },
  {
   "cell_type": "markdown",
   "metadata": {},
   "source": [
    "### Import and verify model"
   ]
  },
  {
   "cell_type": "code",
   "execution_count": 20,
   "metadata": {},
   "outputs": [],
   "source": [
    "model = keras.models.load_model(\"keras-large-4096-4096-4096-2048-2048-2048-1024-1024-1024_2019-03-25 04:14:15.025421.h5\")"
   ]
  },
  {
   "cell_type": "code",
   "execution_count": 21,
   "metadata": {},
   "outputs": [
    {
     "data": {
      "text/plain": [
       "1.756599863771193"
      ]
     },
     "execution_count": 21,
     "metadata": {},
     "output_type": "execute_result"
    }
   ],
   "source": [
    "from sklearn.metrics import mean_squared_error\n",
    "\n",
    "y_pred = model.predict(X_valid)\n",
    "mean_squared_error(y_pred, y_valid)"
   ]
  },
  {
   "cell_type": "markdown",
   "metadata": {},
   "source": [
    "### Decrease the learning rate"
   ]
  },
  {
   "cell_type": "code",
   "execution_count": 25,
   "metadata": {},
   "outputs": [
    {
     "data": {
      "text/plain": [
       "1e-04"
      ]
     },
     "execution_count": 25,
     "metadata": {},
     "output_type": "execute_result"
    }
   ],
   "source": [
    "keras.backend.get_value(model.optimizer.lr)"
   ]
  },
  {
   "cell_type": "code",
   "execution_count": 26,
   "metadata": {},
   "outputs": [
    {
     "data": {
      "text/plain": [
       "1e-05"
      ]
     },
     "execution_count": 26,
     "metadata": {},
     "output_type": "execute_result"
    }
   ],
   "source": [
    "keras.backend.set_value(model.optimizer.lr, 0.00001)\n",
    "keras.backend.get_value(model.optimizer.lr)"
   ]
  },
  {
   "cell_type": "markdown",
   "metadata": {},
   "source": [
    "### Resume training"
   ]
  },
  {
   "cell_type": "code",
   "execution_count": 27,
   "metadata": {
    "scrolled": true
   },
   "outputs": [
    {
     "name": "stdout",
     "output_type": "stream",
     "text": [
      "Train on 4000000 samples, validate on 984832 samples\n",
      "Epoch 1/1\n",
      "4000000/4000000 [==============================] - 1305s 326us/step - loss: 3.4699 - acc: 0.2137 - val_loss: 1.6536 - val_acc: 0.3105\n",
      "Train on 4000000 samples, validate on 984832 samples\n",
      "Epoch 1/1\n",
      "4000000/4000000 [==============================] - 1311s 328us/step - loss: 3.4462 - acc: 0.2144 - val_loss: 1.6415 - val_acc: 0.3149\n",
      "Train on 4000000 samples, validate on 984832 samples\n",
      "Epoch 1/1\n",
      "4000000/4000000 [==============================] - 1311s 328us/step - loss: 3.4391 - acc: 0.2146 - val_loss: 1.6305 - val_acc: 0.3162\n",
      "Train on 4000000 samples, validate on 984832 samples\n",
      "Epoch 1/1\n",
      "4000000/4000000 [==============================] - 1308s 327us/step - loss: 3.8613 - acc: 0.2148 - val_loss: 1.6280 - val_acc: 0.3109\n",
      "Train on 4000000 samples, validate on 984832 samples\n",
      "Epoch 1/1\n",
      "4000000/4000000 [==============================] - 1276s 319us/step - loss: 3.4143 - acc: 0.2155 - val_loss: 1.6248 - val_acc: 0.3112\n",
      "Train on 4000000 samples, validate on 984832 samples\n",
      "Epoch 1/1\n",
      "4000000/4000000 [==============================] - 1272s 318us/step - loss: 3.4192 - acc: 0.2153 - val_loss: 1.6290 - val_acc: 0.3084\n",
      "Train on 4000000 samples, validate on 984832 samples\n",
      "Epoch 1/1\n",
      "4000000/4000000 [==============================] - 1276s 319us/step - loss: 3.4058 - acc: 0.2158 - val_loss: 1.6194 - val_acc: 0.3108\n",
      "Train on 4000000 samples, validate on 984832 samples\n",
      "Epoch 1/1\n",
      "4000000/4000000 [==============================] - 1285s 321us/step - loss: 3.4024 - acc: 0.2160 - val_loss: 1.6078 - val_acc: 0.3164\n",
      "Train on 4000000 samples, validate on 984832 samples\n",
      "Epoch 1/1\n",
      "4000000/4000000 [==============================] - 1274s 318us/step - loss: 3.3980 - acc: 0.2157 - val_loss: 1.6085 - val_acc: 0.3174\n",
      "Train on 4000000 samples, validate on 984832 samples\n",
      "Epoch 1/1\n",
      "3056128/4000000 [=====================>........] - ETA: 4:50 - loss: 3.3876 - acc: 0.2166"
     ]
    },
    {
     "name": "stderr",
     "output_type": "stream",
     "text": [
      "IOPub message rate exceeded.\n",
      "The notebook server will temporarily stop sending output\n",
      "to the client in order to avoid crashing it.\n",
      "To change this limit, set the config variable\n",
      "`--NotebookApp.iopub_msg_rate_limit`.\n",
      "\n",
      "Current values:\n",
      "NotebookApp.iopub_msg_rate_limit=1000.0 (msgs/sec)\n",
      "NotebookApp.rate_limit_window=3.0 (secs)\n",
      "\n"
     ]
    },
    {
     "name": "stdout",
     "output_type": "stream",
     "text": [
      "1190400/4000000 [=======>......................] - ETA: 14:21 - loss: 3.4022 - acc: 0.2156"
     ]
    },
    {
     "name": "stderr",
     "output_type": "stream",
     "text": [
      "IOPub message rate exceeded.\n",
      "The notebook server will temporarily stop sending output\n",
      "to the client in order to avoid crashing it.\n",
      "To change this limit, set the config variable\n",
      "`--NotebookApp.iopub_msg_rate_limit`.\n",
      "\n",
      "Current values:\n",
      "NotebookApp.iopub_msg_rate_limit=1000.0 (msgs/sec)\n",
      "NotebookApp.rate_limit_window=3.0 (secs)\n",
      "\n"
     ]
    },
    {
     "name": "stdout",
     "output_type": "stream",
     "text": [
      "4000000/4000000 [==============================] - 1273s 318us/step - loss: 3.4038 - acc: 0.2160 - val_loss: 1.5919 - val_acc: 0.3185\n",
      "Train on 4000000 samples, validate on 984832 samples\n",
      "Epoch 1/1\n",
      "4000000/4000000 [==============================] - 1273s 318us/step - loss: 3.3698 - acc: 0.2172 - val_loss: 1.5877 - val_acc: 0.3190\n"
     ]
    },
    {
     "ename": "RuntimeError",
     "evalue": "Unable to flush file's cached information (file write failed: time = Mon Mar 25 10:02:07 2019\n, filename = 'keras-large-4096-4096-4096-2048-2048-2048-1024-1024-1024_2019-03-25 10:02:07.373705.h5', file descriptor = 64, errno = 28, error message = 'No space left on device', buf = 0x55f92da90cc0, total write size = 11040, bytes this sub-write = 11040, bytes actually written = 18446744073709551615, offset = 4096)",
     "output_type": "error",
     "traceback": [
      "\u001b[0;31m---------------------------------------------------------------------------\u001b[0m",
      "\u001b[0;31mOSError\u001b[0m                                   Traceback (most recent call last)",
      "\u001b[0;32m~/.miniconda3/envs/fifteen-puzzle-gpu/lib/python3.6/site-packages/keras/engine/saving.py\u001b[0m in \u001b[0;36msave_model\u001b[0;34m(model, filepath, overwrite, include_optimizer)\u001b[0m\n\u001b[1;32m    381\u001b[0m     \u001b[0;32mtry\u001b[0m\u001b[0;34m:\u001b[0m\u001b[0;34m\u001b[0m\u001b[0;34m\u001b[0m\u001b[0m\n\u001b[0;32m--> 382\u001b[0;31m         \u001b[0m_serialize_model\u001b[0m\u001b[0;34m(\u001b[0m\u001b[0mmodel\u001b[0m\u001b[0;34m,\u001b[0m \u001b[0mf\u001b[0m\u001b[0;34m,\u001b[0m \u001b[0minclude_optimizer\u001b[0m\u001b[0;34m)\u001b[0m\u001b[0;34m\u001b[0m\u001b[0;34m\u001b[0m\u001b[0m\n\u001b[0m\u001b[1;32m    383\u001b[0m     \u001b[0;32mfinally\u001b[0m\u001b[0;34m:\u001b[0m\u001b[0;34m\u001b[0m\u001b[0;34m\u001b[0m\u001b[0m\n",
      "\u001b[0;32m~/.miniconda3/envs/fifteen-puzzle-gpu/lib/python3.6/site-packages/keras/engine/saving.py\u001b[0m in \u001b[0;36m_serialize_model\u001b[0;34m(model, f, include_optimizer)\u001b[0m\n\u001b[1;32m    170\u001b[0m                 \u001b[0;32mfor\u001b[0m \u001b[0mname\u001b[0m\u001b[0;34m,\u001b[0m \u001b[0mval\u001b[0m \u001b[0;32min\u001b[0m \u001b[0mzip\u001b[0m\u001b[0;34m(\u001b[0m\u001b[0mweight_names\u001b[0m\u001b[0;34m,\u001b[0m \u001b[0mweight_values\u001b[0m\u001b[0;34m)\u001b[0m\u001b[0;34m:\u001b[0m\u001b[0;34m\u001b[0m\u001b[0;34m\u001b[0m\u001b[0m\n\u001b[0;32m--> 171\u001b[0;31m                     \u001b[0moptimizer_weights_group\u001b[0m\u001b[0;34m[\u001b[0m\u001b[0mname\u001b[0m\u001b[0;34m]\u001b[0m \u001b[0;34m=\u001b[0m \u001b[0mval\u001b[0m\u001b[0;34m\u001b[0m\u001b[0;34m\u001b[0m\u001b[0m\n\u001b[0m\u001b[1;32m    172\u001b[0m \u001b[0;34m\u001b[0m\u001b[0m\n",
      "\u001b[0;32m~/.miniconda3/envs/fifteen-puzzle-gpu/lib/python3.6/site-packages/keras/utils/io_utils.py\u001b[0m in \u001b[0;36m__setitem__\u001b[0;34m(self, attr, val)\u001b[0m\n\u001b[1;32m    222\u001b[0m             \u001b[0;32melse\u001b[0m\u001b[0;34m:\u001b[0m\u001b[0;34m\u001b[0m\u001b[0;34m\u001b[0m\u001b[0m\n\u001b[0;32m--> 223\u001b[0;31m                 \u001b[0mdataset\u001b[0m\u001b[0;34m[\u001b[0m\u001b[0;34m:\u001b[0m\u001b[0;34m]\u001b[0m \u001b[0;34m=\u001b[0m \u001b[0mval\u001b[0m\u001b[0;34m\u001b[0m\u001b[0;34m\u001b[0m\u001b[0m\n\u001b[0m\u001b[1;32m    224\u001b[0m         \u001b[0;32melif\u001b[0m \u001b[0misinstance\u001b[0m\u001b[0;34m(\u001b[0m\u001b[0mval\u001b[0m\u001b[0;34m,\u001b[0m \u001b[0mlist\u001b[0m\u001b[0;34m)\u001b[0m\u001b[0;34m:\u001b[0m\u001b[0;34m\u001b[0m\u001b[0;34m\u001b[0m\u001b[0m\n",
      "\u001b[0;32mh5py/_objects.pyx\u001b[0m in \u001b[0;36mh5py._objects.with_phil.wrapper\u001b[0;34m()\u001b[0m\n",
      "\u001b[0;32mh5py/_objects.pyx\u001b[0m in \u001b[0;36mh5py._objects.with_phil.wrapper\u001b[0;34m()\u001b[0m\n",
      "\u001b[0;32m~/.miniconda3/envs/fifteen-puzzle-gpu/lib/python3.6/site-packages/h5py/_hl/dataset.py\u001b[0m in \u001b[0;36m__setitem__\u001b[0;34m(self, args, val)\u001b[0m\n\u001b[1;32m    707\u001b[0m         \u001b[0;32mfor\u001b[0m \u001b[0mfspace\u001b[0m \u001b[0;32min\u001b[0m \u001b[0mselection\u001b[0m\u001b[0;34m.\u001b[0m\u001b[0mbroadcast\u001b[0m\u001b[0;34m(\u001b[0m\u001b[0mmshape\u001b[0m\u001b[0;34m)\u001b[0m\u001b[0;34m:\u001b[0m\u001b[0;34m\u001b[0m\u001b[0;34m\u001b[0m\u001b[0m\n\u001b[0;32m--> 708\u001b[0;31m             \u001b[0mself\u001b[0m\u001b[0;34m.\u001b[0m\u001b[0mid\u001b[0m\u001b[0;34m.\u001b[0m\u001b[0mwrite\u001b[0m\u001b[0;34m(\u001b[0m\u001b[0mmspace\u001b[0m\u001b[0;34m,\u001b[0m \u001b[0mfspace\u001b[0m\u001b[0;34m,\u001b[0m \u001b[0mval\u001b[0m\u001b[0;34m,\u001b[0m \u001b[0mmtype\u001b[0m\u001b[0;34m,\u001b[0m \u001b[0mdxpl\u001b[0m\u001b[0;34m=\u001b[0m\u001b[0mself\u001b[0m\u001b[0;34m.\u001b[0m\u001b[0m_dxpl\u001b[0m\u001b[0;34m)\u001b[0m\u001b[0;34m\u001b[0m\u001b[0;34m\u001b[0m\u001b[0m\n\u001b[0m\u001b[1;32m    709\u001b[0m \u001b[0;34m\u001b[0m\u001b[0m\n",
      "\u001b[0;32mh5py/_objects.pyx\u001b[0m in \u001b[0;36mh5py._objects.with_phil.wrapper\u001b[0;34m()\u001b[0m\n",
      "\u001b[0;32mh5py/_objects.pyx\u001b[0m in \u001b[0;36mh5py._objects.with_phil.wrapper\u001b[0;34m()\u001b[0m\n",
      "\u001b[0;32mh5py/h5d.pyx\u001b[0m in \u001b[0;36mh5py.h5d.DatasetID.write\u001b[0;34m()\u001b[0m\n",
      "\u001b[0;32mh5py/_proxy.pyx\u001b[0m in \u001b[0;36mh5py._proxy.dset_rw\u001b[0;34m()\u001b[0m\n",
      "\u001b[0;32mh5py/_proxy.pyx\u001b[0m in \u001b[0;36mh5py._proxy.H5PY_H5Dwrite\u001b[0;34m()\u001b[0m\n",
      "\u001b[0;31mOSError\u001b[0m: Can't write data (file write failed: time = Mon Mar 25 10:02:07 2019\n, filename = 'keras-large-4096-4096-4096-2048-2048-2048-1024-1024-1024_2019-03-25 10:02:07.373705.h5', file descriptor = 64, errno = 28, error message = 'No space left on device', buf = 0x7fc3fcf6c020, total write size = 4800480, bytes this sub-write = 4800480, bytes actually written = 18446744073709551615, offset = 663166976)",
      "\nDuring handling of the above exception, another exception occurred:\n",
      "\u001b[0;31mRuntimeError\u001b[0m                              Traceback (most recent call last)",
      "\u001b[0;32m<ipython-input-27-a557c0de2041>\u001b[0m in \u001b[0;36m<module>\u001b[0;34m\u001b[0m\n\u001b[1;32m     11\u001b[0m                       \u001b[0mverbose\u001b[0m\u001b[0;34m=\u001b[0m\u001b[0;36m1\u001b[0m\u001b[0;34m,\u001b[0m\u001b[0;34m\u001b[0m\u001b[0;34m\u001b[0m\u001b[0m\n\u001b[1;32m     12\u001b[0m                       validation_data=(X_valid, y_valid))\n\u001b[0;32m---> 13\u001b[0;31m             \u001b[0mmodel\u001b[0m\u001b[0;34m.\u001b[0m\u001b[0msave\u001b[0m\u001b[0;34m(\u001b[0m\u001b[0;34mf\"keras-large-4096-4096-4096-2048-2048-2048-1024-1024-1024_{datetime.datetime.now()}.h5\"\u001b[0m\u001b[0;34m)\u001b[0m\u001b[0;34m\u001b[0m\u001b[0;34m\u001b[0m\u001b[0m\n\u001b[0m\u001b[1;32m     14\u001b[0m         \u001b[0mepoch\u001b[0m \u001b[0;34m=\u001b[0m \u001b[0mepoch\u001b[0m \u001b[0;34m+\u001b[0m \u001b[0;36m1\u001b[0m\u001b[0;34m\u001b[0m\u001b[0;34m\u001b[0m\u001b[0m\n\u001b[1;32m     15\u001b[0m \u001b[0;32mexcept\u001b[0m \u001b[0mKeyboardInterrupt\u001b[0m\u001b[0;34m:\u001b[0m\u001b[0;34m\u001b[0m\u001b[0;34m\u001b[0m\u001b[0m\n",
      "\u001b[0;32m~/.miniconda3/envs/fifteen-puzzle-gpu/lib/python3.6/site-packages/keras/engine/network.py\u001b[0m in \u001b[0;36msave\u001b[0;34m(self, filepath, overwrite, include_optimizer)\u001b[0m\n\u001b[1;32m   1088\u001b[0m             \u001b[0;32mraise\u001b[0m \u001b[0mNotImplementedError\u001b[0m\u001b[0;34m\u001b[0m\u001b[0;34m\u001b[0m\u001b[0m\n\u001b[1;32m   1089\u001b[0m         \u001b[0;32mfrom\u001b[0m \u001b[0;34m.\u001b[0m\u001b[0;34m.\u001b[0m\u001b[0mmodels\u001b[0m \u001b[0;32mimport\u001b[0m \u001b[0msave_model\u001b[0m\u001b[0;34m\u001b[0m\u001b[0;34m\u001b[0m\u001b[0m\n\u001b[0;32m-> 1090\u001b[0;31m         \u001b[0msave_model\u001b[0m\u001b[0;34m(\u001b[0m\u001b[0mself\u001b[0m\u001b[0;34m,\u001b[0m \u001b[0mfilepath\u001b[0m\u001b[0;34m,\u001b[0m \u001b[0moverwrite\u001b[0m\u001b[0;34m,\u001b[0m \u001b[0minclude_optimizer\u001b[0m\u001b[0;34m)\u001b[0m\u001b[0;34m\u001b[0m\u001b[0;34m\u001b[0m\u001b[0m\n\u001b[0m\u001b[1;32m   1091\u001b[0m \u001b[0;34m\u001b[0m\u001b[0m\n\u001b[1;32m   1092\u001b[0m     \u001b[0;32mdef\u001b[0m \u001b[0msave_weights\u001b[0m\u001b[0;34m(\u001b[0m\u001b[0mself\u001b[0m\u001b[0;34m,\u001b[0m \u001b[0mfilepath\u001b[0m\u001b[0;34m,\u001b[0m \u001b[0moverwrite\u001b[0m\u001b[0;34m=\u001b[0m\u001b[0;32mTrue\u001b[0m\u001b[0;34m)\u001b[0m\u001b[0;34m:\u001b[0m\u001b[0;34m\u001b[0m\u001b[0;34m\u001b[0m\u001b[0m\n",
      "\u001b[0;32m~/.miniconda3/envs/fifteen-puzzle-gpu/lib/python3.6/site-packages/keras/engine/saving.py\u001b[0m in \u001b[0;36msave_model\u001b[0;34m(model, filepath, overwrite, include_optimizer)\u001b[0m\n\u001b[1;32m    383\u001b[0m     \u001b[0;32mfinally\u001b[0m\u001b[0;34m:\u001b[0m\u001b[0;34m\u001b[0m\u001b[0;34m\u001b[0m\u001b[0m\n\u001b[1;32m    384\u001b[0m         \u001b[0;32mif\u001b[0m \u001b[0mopened_new_file\u001b[0m\u001b[0;34m:\u001b[0m\u001b[0;34m\u001b[0m\u001b[0;34m\u001b[0m\u001b[0m\n\u001b[0;32m--> 385\u001b[0;31m             \u001b[0mf\u001b[0m\u001b[0;34m.\u001b[0m\u001b[0mclose\u001b[0m\u001b[0;34m(\u001b[0m\u001b[0;34m)\u001b[0m\u001b[0;34m\u001b[0m\u001b[0;34m\u001b[0m\u001b[0m\n\u001b[0m\u001b[1;32m    386\u001b[0m \u001b[0;34m\u001b[0m\u001b[0m\n\u001b[1;32m    387\u001b[0m \u001b[0;34m\u001b[0m\u001b[0m\n",
      "\u001b[0;32m~/.miniconda3/envs/fifteen-puzzle-gpu/lib/python3.6/site-packages/keras/utils/io_utils.py\u001b[0m in \u001b[0;36mclose\u001b[0;34m(self)\u001b[0m\n\u001b[1;32m    328\u001b[0m     \u001b[0;32mdef\u001b[0m \u001b[0mclose\u001b[0m\u001b[0;34m(\u001b[0m\u001b[0mself\u001b[0m\u001b[0;34m)\u001b[0m\u001b[0;34m:\u001b[0m\u001b[0;34m\u001b[0m\u001b[0;34m\u001b[0m\u001b[0m\n\u001b[1;32m    329\u001b[0m         \u001b[0;32mif\u001b[0m \u001b[0misinstance\u001b[0m\u001b[0;34m(\u001b[0m\u001b[0mself\u001b[0m\u001b[0;34m.\u001b[0m\u001b[0mdata\u001b[0m\u001b[0;34m,\u001b[0m \u001b[0mh5py\u001b[0m\u001b[0;34m.\u001b[0m\u001b[0mGroup\u001b[0m\u001b[0;34m)\u001b[0m\u001b[0;34m:\u001b[0m\u001b[0;34m\u001b[0m\u001b[0;34m\u001b[0m\u001b[0m\n\u001b[0;32m--> 330\u001b[0;31m             \u001b[0mself\u001b[0m\u001b[0;34m.\u001b[0m\u001b[0mdata\u001b[0m\u001b[0;34m.\u001b[0m\u001b[0mfile\u001b[0m\u001b[0;34m.\u001b[0m\u001b[0mflush\u001b[0m\u001b[0;34m(\u001b[0m\u001b[0;34m)\u001b[0m\u001b[0;34m\u001b[0m\u001b[0;34m\u001b[0m\u001b[0m\n\u001b[0m\u001b[1;32m    331\u001b[0m             \u001b[0;32mif\u001b[0m \u001b[0mself\u001b[0m\u001b[0;34m.\u001b[0m\u001b[0m_is_file\u001b[0m\u001b[0;34m:\u001b[0m\u001b[0;34m\u001b[0m\u001b[0;34m\u001b[0m\u001b[0m\n\u001b[1;32m    332\u001b[0m                 \u001b[0mself\u001b[0m\u001b[0;34m.\u001b[0m\u001b[0mdata\u001b[0m\u001b[0;34m.\u001b[0m\u001b[0mclose\u001b[0m\u001b[0;34m(\u001b[0m\u001b[0;34m)\u001b[0m\u001b[0;34m\u001b[0m\u001b[0;34m\u001b[0m\u001b[0m\n",
      "\u001b[0;32m~/.miniconda3/envs/fifteen-puzzle-gpu/lib/python3.6/site-packages/h5py/_hl/files.py\u001b[0m in \u001b[0;36mflush\u001b[0;34m(self)\u001b[0m\n\u001b[1;32m    431\u001b[0m         \"\"\"\n\u001b[1;32m    432\u001b[0m         \u001b[0;32mwith\u001b[0m \u001b[0mphil\u001b[0m\u001b[0;34m:\u001b[0m\u001b[0;34m\u001b[0m\u001b[0;34m\u001b[0m\u001b[0m\n\u001b[0;32m--> 433\u001b[0;31m             \u001b[0mh5f\u001b[0m\u001b[0;34m.\u001b[0m\u001b[0mflush\u001b[0m\u001b[0;34m(\u001b[0m\u001b[0mself\u001b[0m\u001b[0;34m.\u001b[0m\u001b[0mid\u001b[0m\u001b[0;34m)\u001b[0m\u001b[0;34m\u001b[0m\u001b[0;34m\u001b[0m\u001b[0m\n\u001b[0m\u001b[1;32m    434\u001b[0m \u001b[0;34m\u001b[0m\u001b[0m\n\u001b[1;32m    435\u001b[0m     \u001b[0;34m@\u001b[0m\u001b[0mwith_phil\u001b[0m\u001b[0;34m\u001b[0m\u001b[0;34m\u001b[0m\u001b[0m\n",
      "\u001b[0;32mh5py/_objects.pyx\u001b[0m in \u001b[0;36mh5py._objects.with_phil.wrapper\u001b[0;34m()\u001b[0m\n",
      "\u001b[0;32mh5py/_objects.pyx\u001b[0m in \u001b[0;36mh5py._objects.with_phil.wrapper\u001b[0;34m()\u001b[0m\n",
      "\u001b[0;32mh5py/h5f.pyx\u001b[0m in \u001b[0;36mh5py.h5f.flush\u001b[0;34m()\u001b[0m\n",
      "\u001b[0;31mRuntimeError\u001b[0m: Unable to flush file's cached information (file write failed: time = Mon Mar 25 10:02:07 2019\n, filename = 'keras-large-4096-4096-4096-2048-2048-2048-1024-1024-1024_2019-03-25 10:02:07.373705.h5', file descriptor = 64, errno = 28, error message = 'No space left on device', buf = 0x55f92da90cc0, total write size = 11040, bytes this sub-write = 11040, bytes actually written = 18446744073709551615, offset = 4096)"
     ]
    }
   ],
   "source": [
    "import datetime\n",
    "\n",
    "epoch = 1\n",
    "try:\n",
    "    while True:\n",
    "        generator = train_batch_generator(CSV_FILE_PATH, train_idxs_mask, BATCH_SIZE, N_BATCHES_PER_EPOCH)\n",
    "        for X_train, y_train in generator: \n",
    "            model.fit(X_train, y_train, \n",
    "                      batch_size=256,\n",
    "                      epochs=1,\n",
    "                      verbose=1,\n",
    "                      validation_data=(X_valid, y_valid))\n",
    "            model.save(f\"keras-large-4096-4096-4096-2048-2048-2048-1024-1024-1024_{datetime.datetime.now()}.h5\")\n",
    "        epoch = epoch + 1\n",
    "except KeyboardInterrupt:\n",
    "    pass"
   ]
  },
  {
   "cell_type": "markdown",
   "metadata": {},
   "source": [
    "## Third part of training"
   ]
  },
  {
   "cell_type": "code",
   "execution_count": 20,
   "metadata": {},
   "outputs": [],
   "source": [
    "model = keras.models.load_model(\"keras-large-4096-4096-4096-2048-2048-2048-1024-1024-1024_2019-03-25 09:39:23.560560.h5\")"
   ]
  },
  {
   "cell_type": "code",
   "execution_count": 16,
   "metadata": {},
   "outputs": [
    {
     "data": {
      "text/plain": [
       "1.591857800383701"
      ]
     },
     "execution_count": 16,
     "metadata": {},
     "output_type": "execute_result"
    }
   ],
   "source": [
    "from sklearn.metrics import mean_squared_error\n",
    "\n",
    "y_pred = model.predict(X_valid)\n",
    "mean_squared_error(y_pred, y_valid)"
   ]
  },
  {
   "cell_type": "code",
   "execution_count": 21,
   "metadata": {},
   "outputs": [
    {
     "data": {
      "text/plain": [
       "1e-05"
      ]
     },
     "execution_count": 21,
     "metadata": {},
     "output_type": "execute_result"
    }
   ],
   "source": [
    "keras.backend.get_value(model.optimizer.lr)"
   ]
  },
  {
   "cell_type": "code",
   "execution_count": 22,
   "metadata": {},
   "outputs": [
    {
     "name": "stdout",
     "output_type": "stream",
     "text": [
      "Train on 4000000 samples, validate on 984832 samples\n",
      "Epoch 1/1\n",
      "4000000/4000000 [==============================] - 1319s 330us/step - loss: 3.3769 - acc: 0.2163 - val_loss: 1.5933 - val_acc: 0.3161\n",
      "Train on 4000000 samples, validate on 984832 samples\n",
      "Epoch 1/1\n",
      "4000000/4000000 [==============================] - 1342s 335us/step - loss: 3.3679 - acc: 0.2171 - val_loss: 1.5888 - val_acc: 0.3183\n",
      "Train on 4000000 samples, validate on 984832 samples\n",
      "Epoch 1/1\n",
      "4000000/4000000 [==============================] - 1357s 339us/step - loss: 3.3660 - acc: 0.2170 - val_loss: 1.5808 - val_acc: 0.3205\n",
      "Train on 4000000 samples, validate on 984832 samples\n",
      "Epoch 1/1\n",
      "4000000/4000000 [==============================] - 1301s 325us/step - loss: 3.3505 - acc: 0.2180 - val_loss: 1.5815 - val_acc: 0.3212\n",
      "Train on 4000000 samples, validate on 984832 samples\n",
      "Epoch 1/1\n",
      "4000000/4000000 [==============================] - 1282s 321us/step - loss: 3.3721 - acc: 0.2170 - val_loss: 1.5831 - val_acc: 0.3170\n",
      "Train on 4000000 samples, validate on 984832 samples\n",
      "Epoch 1/1\n",
      "4000000/4000000 [==============================] - 1308s 327us/step - loss: 3.3662 - acc: 0.2171 - val_loss: 1.5885 - val_acc: 0.3117\n"
     ]
    }
   ],
   "source": [
    "import datetime\n",
    "\n",
    "epoch = 1\n",
    "try:\n",
    "    while True:\n",
    "        generator = train_batch_generator(CSV_FILE_PATH, train_idxs_mask, BATCH_SIZE, N_BATCHES_PER_EPOCH)\n",
    "        for X_train, y_train in generator: \n",
    "            model.fit(X_train, y_train, \n",
    "                      batch_size=256,\n",
    "                      epochs=1,\n",
    "                      verbose=1,\n",
    "                      validation_data=(X_valid, y_valid))\n",
    "            model.save(f\"keras-large-4096-4096-4096-2048-2048-2048-1024-1024-1024_{datetime.datetime.now()}.h5\")\n",
    "        epoch = epoch + 1\n",
    "except KeyboardInterrupt:\n",
    "    pass"
   ]
  },
  {
   "cell_type": "markdown",
   "metadata": {},
   "source": [
    "## Fourth part of training"
   ]
  },
  {
   "cell_type": "code",
   "execution_count": 24,
   "metadata": {},
   "outputs": [
    {
     "data": {
      "text/plain": [
       "1e-05"
      ]
     },
     "execution_count": 24,
     "metadata": {},
     "output_type": "execute_result"
    }
   ],
   "source": [
    "keras.backend.get_value(model.optimizer.lr)"
   ]
  },
  {
   "cell_type": "code",
   "execution_count": 25,
   "metadata": {},
   "outputs": [
    {
     "data": {
      "text/plain": [
       "5e-05"
      ]
     },
     "execution_count": 25,
     "metadata": {},
     "output_type": "execute_result"
    }
   ],
   "source": [
    "keras.backend.set_value(model.optimizer.lr, 0.00005)\n",
    "keras.backend.get_value(model.optimizer.lr)"
   ]
  },
  {
   "cell_type": "code",
   "execution_count": 26,
   "metadata": {},
   "outputs": [
    {
     "name": "stdout",
     "output_type": "stream",
     "text": [
      "Train on 4000000 samples, validate on 984832 samples\n",
      "Epoch 1/1\n",
      "4000000/4000000 [==============================] - 1293s 323us/step - loss: 3.4015 - acc: 0.2158 - val_loss: 1.6350 - val_acc: 0.3057\n",
      "Train on 4000000 samples, validate on 984832 samples\n",
      "Epoch 1/1\n",
      "4000000/4000000 [==============================] - 1284s 321us/step - loss: 3.3964 - acc: 0.2165 - val_loss: 1.6177 - val_acc: 0.3102\n",
      "Train on 4000000 samples, validate on 984832 samples\n",
      "Epoch 1/1\n",
      "4000000/4000000 [==============================] - 1281s 320us/step - loss: 3.3850 - acc: 0.2162 - val_loss: 1.6266 - val_acc: 0.3093\n",
      "Train on 4000000 samples, validate on 984832 samples\n",
      "Epoch 1/1\n",
      "4000000/4000000 [==============================] - 1277s 319us/step - loss: 3.3770 - acc: 0.2166 - val_loss: 1.6017 - val_acc: 0.3188\n",
      "Train on 4000000 samples, validate on 984832 samples\n",
      "Epoch 1/1\n",
      "4000000/4000000 [==============================] - 1280s 320us/step - loss: 3.3778 - acc: 0.2167 - val_loss: 1.5963 - val_acc: 0.3112\n",
      "Train on 4000000 samples, validate on 984832 samples\n",
      "Epoch 1/1\n",
      "4000000/4000000 [==============================] - 1282s 320us/step - loss: 3.3821 - acc: 0.2166 - val_loss: 1.5840 - val_acc: 0.3240\n",
      "Train on 4000000 samples, validate on 984832 samples\n",
      "Epoch 1/1\n",
      "4000000/4000000 [==============================] - 1274s 318us/step - loss: 3.3605 - acc: 0.2175 - val_loss: 1.5606 - val_acc: 0.3284\n",
      "Train on 4000000 samples, validate on 984832 samples\n",
      "Epoch 1/1\n",
      "4000000/4000000 [==============================] - 1275s 319us/step - loss: 3.3392 - acc: 0.2184 - val_loss: 1.5904 - val_acc: 0.3106\n",
      "Train on 4000000 samples, validate on 984832 samples\n",
      "Epoch 1/1\n",
      "4000000/4000000 [==============================] - 1277s 319us/step - loss: 3.3318 - acc: 0.2184 - val_loss: 1.5800 - val_acc: 0.3141\n",
      "Train on 4000000 samples, validate on 984832 samples\n",
      "Epoch 1/1\n",
      "4000000/4000000 [==============================] - 1279s 320us/step - loss: 3.3272 - acc: 0.2186 - val_loss: 1.5637 - val_acc: 0.3223\n",
      "Train on 4000000 samples, validate on 984832 samples\n",
      "Epoch 1/1\n",
      "4000000/4000000 [==============================] - 1278s 319us/step - loss: 3.3141 - acc: 0.2192 - val_loss: 1.5802 - val_acc: 0.3122\n",
      "Train on 4000000 samples, validate on 984832 samples\n",
      "Epoch 1/1\n",
      "4000000/4000000 [==============================] - 1276s 319us/step - loss: 3.3113 - acc: 0.2192 - val_loss: 1.5723 - val_acc: 0.3095\n",
      "Train on 4000000 samples, validate on 984832 samples\n",
      "Epoch 1/1\n",
      "4000000/4000000 [==============================] - 1278s 319us/step - loss: 3.2979 - acc: 0.2194 - val_loss: 1.5587 - val_acc: 0.3130\n",
      "Train on 4000000 samples, validate on 984832 samples\n",
      "Epoch 1/1\n",
      "4000000/4000000 [==============================] - 1276s 319us/step - loss: 3.2961 - acc: 0.2193 - val_loss: 1.5760 - val_acc: 0.3033\n",
      "Train on 4000000 samples, validate on 984832 samples\n",
      "Epoch 1/1\n",
      "4000000/4000000 [==============================] - 1286s 322us/step - loss: 3.3087 - acc: 0.2190 - val_loss: 1.5569 - val_acc: 0.3133\n",
      "Train on 4000000 samples, validate on 984832 samples\n",
      "Epoch 1/1\n",
      "4000000/4000000 [==============================] - 1280s 320us/step - loss: 3.2893 - acc: 0.2203 - val_loss: 1.5621 - val_acc: 0.3054\n",
      "Train on 4000000 samples, validate on 984832 samples\n",
      "Epoch 1/1\n",
      "4000000/4000000 [==============================] - 1282s 321us/step - loss: 3.2828 - acc: 0.2200 - val_loss: 1.6005 - val_acc: 0.2971\n",
      "Train on 3999999 samples, validate on 984832 samples\n",
      "Epoch 1/1\n",
      "3999999/3999999 [==============================] - 1280s 320us/step - loss: 3.2789 - acc: 0.2203 - val_loss: 1.5653 - val_acc: 0.3037\n",
      "Train on 4000000 samples, validate on 984832 samples\n",
      "Epoch 1/1\n",
      "4000000/4000000 [==============================] - 1277s 319us/step - loss: 3.2696 - acc: 0.2207 - val_loss: 1.5628 - val_acc: 0.3048\n",
      "Train on 4000000 samples, validate on 984832 samples\n",
      "Epoch 1/1\n",
      "4000000/4000000 [==============================] - 1275s 319us/step - loss: 3.2580 - acc: 0.2214 - val_loss: 1.5600 - val_acc: 0.3026\n",
      "Train on 4000000 samples, validate on 984832 samples\n",
      "Epoch 1/1\n",
      "4000000/4000000 [==============================] - 1279s 320us/step - loss: 3.2571 - acc: 0.2211 - val_loss: 1.5667 - val_acc: 0.3035\n"
     ]
    },
    {
     "ename": "RuntimeError",
     "evalue": "Unable to flush file's cached information (file write failed: time = Tue Mar 26 00:31:16 2019\n, filename = 'keras-large-4096-4096-4096-2048-2048-2048-1024-1024-1024_2019-03-26 00:31:16.404914.h5', file descriptor = 64, errno = 28, error message = 'No space left on device', buf = 0x55ddca0a6a80, total write size = 11040, bytes this sub-write = 11040, bytes actually written = 18446744073709551615, offset = 4096)",
     "output_type": "error",
     "traceback": [
      "\u001b[0;31m---------------------------------------------------------------------------\u001b[0m",
      "\u001b[0;31mOSError\u001b[0m                                   Traceback (most recent call last)",
      "\u001b[0;32m~/.miniconda3/envs/fifteen-puzzle-gpu/lib/python3.6/site-packages/keras/engine/saving.py\u001b[0m in \u001b[0;36msave_model\u001b[0;34m(model, filepath, overwrite, include_optimizer)\u001b[0m\n\u001b[1;32m    381\u001b[0m     \u001b[0;32mtry\u001b[0m\u001b[0;34m:\u001b[0m\u001b[0;34m\u001b[0m\u001b[0;34m\u001b[0m\u001b[0m\n\u001b[0;32m--> 382\u001b[0;31m         \u001b[0m_serialize_model\u001b[0m\u001b[0;34m(\u001b[0m\u001b[0mmodel\u001b[0m\u001b[0;34m,\u001b[0m \u001b[0mf\u001b[0m\u001b[0;34m,\u001b[0m \u001b[0minclude_optimizer\u001b[0m\u001b[0;34m)\u001b[0m\u001b[0;34m\u001b[0m\u001b[0;34m\u001b[0m\u001b[0m\n\u001b[0m\u001b[1;32m    383\u001b[0m     \u001b[0;32mfinally\u001b[0m\u001b[0;34m:\u001b[0m\u001b[0;34m\u001b[0m\u001b[0;34m\u001b[0m\u001b[0m\n",
      "\u001b[0;32m~/.miniconda3/envs/fifteen-puzzle-gpu/lib/python3.6/site-packages/keras/engine/saving.py\u001b[0m in \u001b[0;36m_serialize_model\u001b[0;34m(model, f, include_optimizer)\u001b[0m\n\u001b[1;32m    170\u001b[0m                 \u001b[0;32mfor\u001b[0m \u001b[0mname\u001b[0m\u001b[0;34m,\u001b[0m \u001b[0mval\u001b[0m \u001b[0;32min\u001b[0m \u001b[0mzip\u001b[0m\u001b[0;34m(\u001b[0m\u001b[0mweight_names\u001b[0m\u001b[0;34m,\u001b[0m \u001b[0mweight_values\u001b[0m\u001b[0;34m)\u001b[0m\u001b[0;34m:\u001b[0m\u001b[0;34m\u001b[0m\u001b[0;34m\u001b[0m\u001b[0m\n\u001b[0;32m--> 171\u001b[0;31m                     \u001b[0moptimizer_weights_group\u001b[0m\u001b[0;34m[\u001b[0m\u001b[0mname\u001b[0m\u001b[0;34m]\u001b[0m \u001b[0;34m=\u001b[0m \u001b[0mval\u001b[0m\u001b[0;34m\u001b[0m\u001b[0;34m\u001b[0m\u001b[0m\n\u001b[0m\u001b[1;32m    172\u001b[0m \u001b[0;34m\u001b[0m\u001b[0m\n",
      "\u001b[0;32m~/.miniconda3/envs/fifteen-puzzle-gpu/lib/python3.6/site-packages/keras/utils/io_utils.py\u001b[0m in \u001b[0;36m__setitem__\u001b[0;34m(self, attr, val)\u001b[0m\n\u001b[1;32m    222\u001b[0m             \u001b[0;32melse\u001b[0m\u001b[0;34m:\u001b[0m\u001b[0;34m\u001b[0m\u001b[0;34m\u001b[0m\u001b[0m\n\u001b[0;32m--> 223\u001b[0;31m                 \u001b[0mdataset\u001b[0m\u001b[0;34m[\u001b[0m\u001b[0;34m:\u001b[0m\u001b[0;34m]\u001b[0m \u001b[0;34m=\u001b[0m \u001b[0mval\u001b[0m\u001b[0;34m\u001b[0m\u001b[0;34m\u001b[0m\u001b[0m\n\u001b[0m\u001b[1;32m    224\u001b[0m         \u001b[0;32melif\u001b[0m \u001b[0misinstance\u001b[0m\u001b[0;34m(\u001b[0m\u001b[0mval\u001b[0m\u001b[0;34m,\u001b[0m \u001b[0mlist\u001b[0m\u001b[0;34m)\u001b[0m\u001b[0;34m:\u001b[0m\u001b[0;34m\u001b[0m\u001b[0;34m\u001b[0m\u001b[0m\n",
      "\u001b[0;32mh5py/_objects.pyx\u001b[0m in \u001b[0;36mh5py._objects.with_phil.wrapper\u001b[0;34m()\u001b[0m\n",
      "\u001b[0;32mh5py/_objects.pyx\u001b[0m in \u001b[0;36mh5py._objects.with_phil.wrapper\u001b[0;34m()\u001b[0m\n",
      "\u001b[0;32m~/.miniconda3/envs/fifteen-puzzle-gpu/lib/python3.6/site-packages/h5py/_hl/dataset.py\u001b[0m in \u001b[0;36m__setitem__\u001b[0;34m(self, args, val)\u001b[0m\n\u001b[1;32m    707\u001b[0m         \u001b[0;32mfor\u001b[0m \u001b[0mfspace\u001b[0m \u001b[0;32min\u001b[0m \u001b[0mselection\u001b[0m\u001b[0;34m.\u001b[0m\u001b[0mbroadcast\u001b[0m\u001b[0;34m(\u001b[0m\u001b[0mmshape\u001b[0m\u001b[0;34m)\u001b[0m\u001b[0;34m:\u001b[0m\u001b[0;34m\u001b[0m\u001b[0;34m\u001b[0m\u001b[0m\n\u001b[0;32m--> 708\u001b[0;31m             \u001b[0mself\u001b[0m\u001b[0;34m.\u001b[0m\u001b[0mid\u001b[0m\u001b[0;34m.\u001b[0m\u001b[0mwrite\u001b[0m\u001b[0;34m(\u001b[0m\u001b[0mmspace\u001b[0m\u001b[0;34m,\u001b[0m \u001b[0mfspace\u001b[0m\u001b[0;34m,\u001b[0m \u001b[0mval\u001b[0m\u001b[0;34m,\u001b[0m \u001b[0mmtype\u001b[0m\u001b[0;34m,\u001b[0m \u001b[0mdxpl\u001b[0m\u001b[0;34m=\u001b[0m\u001b[0mself\u001b[0m\u001b[0;34m.\u001b[0m\u001b[0m_dxpl\u001b[0m\u001b[0;34m)\u001b[0m\u001b[0;34m\u001b[0m\u001b[0;34m\u001b[0m\u001b[0m\n\u001b[0m\u001b[1;32m    709\u001b[0m \u001b[0;34m\u001b[0m\u001b[0m\n",
      "\u001b[0;32mh5py/_objects.pyx\u001b[0m in \u001b[0;36mh5py._objects.with_phil.wrapper\u001b[0;34m()\u001b[0m\n",
      "\u001b[0;32mh5py/_objects.pyx\u001b[0m in \u001b[0;36mh5py._objects.with_phil.wrapper\u001b[0;34m()\u001b[0m\n",
      "\u001b[0;32mh5py/h5d.pyx\u001b[0m in \u001b[0;36mh5py.h5d.DatasetID.write\u001b[0;34m()\u001b[0m\n",
      "\u001b[0;32mh5py/_proxy.pyx\u001b[0m in \u001b[0;36mh5py._proxy.dset_rw\u001b[0;34m()\u001b[0m\n",
      "\u001b[0;32mh5py/_proxy.pyx\u001b[0m in \u001b[0;36mh5py._proxy.H5PY_H5Dwrite\u001b[0;34m()\u001b[0m\n",
      "\u001b[0;31mOSError\u001b[0m: Can't write data (file write failed: time = Tue Mar 26 00:31:16 2019\n, filename = 'keras-large-4096-4096-4096-2048-2048-2048-1024-1024-1024_2019-03-26 00:31:16.404914.h5', file descriptor = 64, errno = 28, error message = 'No space left on device', buf = 0x7f182e8ca6f0, total write size = 24336656, bytes this sub-write = 24336656, bytes actually written = 18446744073709551615, offset = 353845248)",
      "\nDuring handling of the above exception, another exception occurred:\n",
      "\u001b[0;31mRuntimeError\u001b[0m                              Traceback (most recent call last)",
      "\u001b[0;32m<ipython-input-26-a557c0de2041>\u001b[0m in \u001b[0;36m<module>\u001b[0;34m\u001b[0m\n\u001b[1;32m     11\u001b[0m                       \u001b[0mverbose\u001b[0m\u001b[0;34m=\u001b[0m\u001b[0;36m1\u001b[0m\u001b[0;34m,\u001b[0m\u001b[0;34m\u001b[0m\u001b[0;34m\u001b[0m\u001b[0m\n\u001b[1;32m     12\u001b[0m                       validation_data=(X_valid, y_valid))\n\u001b[0;32m---> 13\u001b[0;31m             \u001b[0mmodel\u001b[0m\u001b[0;34m.\u001b[0m\u001b[0msave\u001b[0m\u001b[0;34m(\u001b[0m\u001b[0;34mf\"keras-large-4096-4096-4096-2048-2048-2048-1024-1024-1024_{datetime.datetime.now()}.h5\"\u001b[0m\u001b[0;34m)\u001b[0m\u001b[0;34m\u001b[0m\u001b[0;34m\u001b[0m\u001b[0m\n\u001b[0m\u001b[1;32m     14\u001b[0m         \u001b[0mepoch\u001b[0m \u001b[0;34m=\u001b[0m \u001b[0mepoch\u001b[0m \u001b[0;34m+\u001b[0m \u001b[0;36m1\u001b[0m\u001b[0;34m\u001b[0m\u001b[0;34m\u001b[0m\u001b[0m\n\u001b[1;32m     15\u001b[0m \u001b[0;32mexcept\u001b[0m \u001b[0mKeyboardInterrupt\u001b[0m\u001b[0;34m:\u001b[0m\u001b[0;34m\u001b[0m\u001b[0;34m\u001b[0m\u001b[0m\n",
      "\u001b[0;32m~/.miniconda3/envs/fifteen-puzzle-gpu/lib/python3.6/site-packages/keras/engine/network.py\u001b[0m in \u001b[0;36msave\u001b[0;34m(self, filepath, overwrite, include_optimizer)\u001b[0m\n\u001b[1;32m   1088\u001b[0m             \u001b[0;32mraise\u001b[0m \u001b[0mNotImplementedError\u001b[0m\u001b[0;34m\u001b[0m\u001b[0;34m\u001b[0m\u001b[0m\n\u001b[1;32m   1089\u001b[0m         \u001b[0;32mfrom\u001b[0m \u001b[0;34m.\u001b[0m\u001b[0;34m.\u001b[0m\u001b[0mmodels\u001b[0m \u001b[0;32mimport\u001b[0m \u001b[0msave_model\u001b[0m\u001b[0;34m\u001b[0m\u001b[0;34m\u001b[0m\u001b[0m\n\u001b[0;32m-> 1090\u001b[0;31m         \u001b[0msave_model\u001b[0m\u001b[0;34m(\u001b[0m\u001b[0mself\u001b[0m\u001b[0;34m,\u001b[0m \u001b[0mfilepath\u001b[0m\u001b[0;34m,\u001b[0m \u001b[0moverwrite\u001b[0m\u001b[0;34m,\u001b[0m \u001b[0minclude_optimizer\u001b[0m\u001b[0;34m)\u001b[0m\u001b[0;34m\u001b[0m\u001b[0;34m\u001b[0m\u001b[0m\n\u001b[0m\u001b[1;32m   1091\u001b[0m \u001b[0;34m\u001b[0m\u001b[0m\n\u001b[1;32m   1092\u001b[0m     \u001b[0;32mdef\u001b[0m \u001b[0msave_weights\u001b[0m\u001b[0;34m(\u001b[0m\u001b[0mself\u001b[0m\u001b[0;34m,\u001b[0m \u001b[0mfilepath\u001b[0m\u001b[0;34m,\u001b[0m \u001b[0moverwrite\u001b[0m\u001b[0;34m=\u001b[0m\u001b[0;32mTrue\u001b[0m\u001b[0;34m)\u001b[0m\u001b[0;34m:\u001b[0m\u001b[0;34m\u001b[0m\u001b[0;34m\u001b[0m\u001b[0m\n",
      "\u001b[0;32m~/.miniconda3/envs/fifteen-puzzle-gpu/lib/python3.6/site-packages/keras/engine/saving.py\u001b[0m in \u001b[0;36msave_model\u001b[0;34m(model, filepath, overwrite, include_optimizer)\u001b[0m\n\u001b[1;32m    383\u001b[0m     \u001b[0;32mfinally\u001b[0m\u001b[0;34m:\u001b[0m\u001b[0;34m\u001b[0m\u001b[0;34m\u001b[0m\u001b[0m\n\u001b[1;32m    384\u001b[0m         \u001b[0;32mif\u001b[0m \u001b[0mopened_new_file\u001b[0m\u001b[0;34m:\u001b[0m\u001b[0;34m\u001b[0m\u001b[0;34m\u001b[0m\u001b[0m\n\u001b[0;32m--> 385\u001b[0;31m             \u001b[0mf\u001b[0m\u001b[0;34m.\u001b[0m\u001b[0mclose\u001b[0m\u001b[0;34m(\u001b[0m\u001b[0;34m)\u001b[0m\u001b[0;34m\u001b[0m\u001b[0;34m\u001b[0m\u001b[0m\n\u001b[0m\u001b[1;32m    386\u001b[0m \u001b[0;34m\u001b[0m\u001b[0m\n\u001b[1;32m    387\u001b[0m \u001b[0;34m\u001b[0m\u001b[0m\n",
      "\u001b[0;32m~/.miniconda3/envs/fifteen-puzzle-gpu/lib/python3.6/site-packages/keras/utils/io_utils.py\u001b[0m in \u001b[0;36mclose\u001b[0;34m(self)\u001b[0m\n\u001b[1;32m    328\u001b[0m     \u001b[0;32mdef\u001b[0m \u001b[0mclose\u001b[0m\u001b[0;34m(\u001b[0m\u001b[0mself\u001b[0m\u001b[0;34m)\u001b[0m\u001b[0;34m:\u001b[0m\u001b[0;34m\u001b[0m\u001b[0;34m\u001b[0m\u001b[0m\n\u001b[1;32m    329\u001b[0m         \u001b[0;32mif\u001b[0m \u001b[0misinstance\u001b[0m\u001b[0;34m(\u001b[0m\u001b[0mself\u001b[0m\u001b[0;34m.\u001b[0m\u001b[0mdata\u001b[0m\u001b[0;34m,\u001b[0m \u001b[0mh5py\u001b[0m\u001b[0;34m.\u001b[0m\u001b[0mGroup\u001b[0m\u001b[0;34m)\u001b[0m\u001b[0;34m:\u001b[0m\u001b[0;34m\u001b[0m\u001b[0;34m\u001b[0m\u001b[0m\n\u001b[0;32m--> 330\u001b[0;31m             \u001b[0mself\u001b[0m\u001b[0;34m.\u001b[0m\u001b[0mdata\u001b[0m\u001b[0;34m.\u001b[0m\u001b[0mfile\u001b[0m\u001b[0;34m.\u001b[0m\u001b[0mflush\u001b[0m\u001b[0;34m(\u001b[0m\u001b[0;34m)\u001b[0m\u001b[0;34m\u001b[0m\u001b[0;34m\u001b[0m\u001b[0m\n\u001b[0m\u001b[1;32m    331\u001b[0m             \u001b[0;32mif\u001b[0m \u001b[0mself\u001b[0m\u001b[0;34m.\u001b[0m\u001b[0m_is_file\u001b[0m\u001b[0;34m:\u001b[0m\u001b[0;34m\u001b[0m\u001b[0;34m\u001b[0m\u001b[0m\n\u001b[1;32m    332\u001b[0m                 \u001b[0mself\u001b[0m\u001b[0;34m.\u001b[0m\u001b[0mdata\u001b[0m\u001b[0;34m.\u001b[0m\u001b[0mclose\u001b[0m\u001b[0;34m(\u001b[0m\u001b[0;34m)\u001b[0m\u001b[0;34m\u001b[0m\u001b[0;34m\u001b[0m\u001b[0m\n",
      "\u001b[0;32m~/.miniconda3/envs/fifteen-puzzle-gpu/lib/python3.6/site-packages/h5py/_hl/files.py\u001b[0m in \u001b[0;36mflush\u001b[0;34m(self)\u001b[0m\n\u001b[1;32m    431\u001b[0m         \"\"\"\n\u001b[1;32m    432\u001b[0m         \u001b[0;32mwith\u001b[0m \u001b[0mphil\u001b[0m\u001b[0;34m:\u001b[0m\u001b[0;34m\u001b[0m\u001b[0;34m\u001b[0m\u001b[0m\n\u001b[0;32m--> 433\u001b[0;31m             \u001b[0mh5f\u001b[0m\u001b[0;34m.\u001b[0m\u001b[0mflush\u001b[0m\u001b[0;34m(\u001b[0m\u001b[0mself\u001b[0m\u001b[0;34m.\u001b[0m\u001b[0mid\u001b[0m\u001b[0;34m)\u001b[0m\u001b[0;34m\u001b[0m\u001b[0;34m\u001b[0m\u001b[0m\n\u001b[0m\u001b[1;32m    434\u001b[0m \u001b[0;34m\u001b[0m\u001b[0m\n\u001b[1;32m    435\u001b[0m     \u001b[0;34m@\u001b[0m\u001b[0mwith_phil\u001b[0m\u001b[0;34m\u001b[0m\u001b[0;34m\u001b[0m\u001b[0m\n",
      "\u001b[0;32mh5py/_objects.pyx\u001b[0m in \u001b[0;36mh5py._objects.with_phil.wrapper\u001b[0;34m()\u001b[0m\n",
      "\u001b[0;32mh5py/_objects.pyx\u001b[0m in \u001b[0;36mh5py._objects.with_phil.wrapper\u001b[0;34m()\u001b[0m\n",
      "\u001b[0;32mh5py/h5f.pyx\u001b[0m in \u001b[0;36mh5py.h5f.flush\u001b[0;34m()\u001b[0m\n",
      "\u001b[0;31mRuntimeError\u001b[0m: Unable to flush file's cached information (file write failed: time = Tue Mar 26 00:31:16 2019\n, filename = 'keras-large-4096-4096-4096-2048-2048-2048-1024-1024-1024_2019-03-26 00:31:16.404914.h5', file descriptor = 64, errno = 28, error message = 'No space left on device', buf = 0x55ddca0a6a80, total write size = 11040, bytes this sub-write = 11040, bytes actually written = 18446744073709551615, offset = 4096)"
     ]
    }
   ],
   "source": [
    "import datetime\n",
    "\n",
    "epoch = 1\n",
    "try:\n",
    "    while True:\n",
    "        generator = train_batch_generator(CSV_FILE_PATH, train_idxs_mask, BATCH_SIZE, N_BATCHES_PER_EPOCH)\n",
    "        for X_train, y_train in generator: \n",
    "            model.fit(X_train, y_train, \n",
    "                      batch_size=256,\n",
    "                      epochs=1,\n",
    "                      verbose=1,\n",
    "                      validation_data=(X_valid, y_valid))\n",
    "            model.save(f\"keras-large-4096-4096-4096-2048-2048-2048-1024-1024-1024_{datetime.datetime.now()}.h5\")\n",
    "        epoch = epoch + 1\n",
    "except KeyboardInterrupt:\n",
    "    pass"
   ]
  },
  {
   "cell_type": "code",
   "execution_count": null,
   "metadata": {},
   "outputs": [],
   "source": [
    "model = keras.models.load_model(\"keras-large-4096-4096-4096-2048-2048-2048-1024-1024-1024_2019-03-26 00:31:16.404914.h5\")"
   ]
  },
  {
   "cell_type": "code",
   "execution_count": null,
   "metadata": {},
   "outputs": [],
   "source": [
    "keras-large-4096-4096-4096-2048-2048-2048-1024-1024-1024_2019-03-26 00:31:16.404914.h5"
   ]
  },
  {
   "cell_type": "markdown",
   "metadata": {},
   "source": [
    "## Legacy code"
   ]
  },
  {
   "cell_type": "code",
   "execution_count": 12,
   "metadata": {},
   "outputs": [
    {
     "name": "stdout",
     "output_type": "stream",
     "text": [
      "Train on 4000000 samples, validate on 1000000 samples\n",
      "Epoch 1/2\n",
      "4000000/4000000 [==============================] - 158s 39us/step - loss: 11.9641 - acc: 0.1360 - val_loss: 3.3926 - val_acc: 0.2132\n",
      "Epoch 2/2\n",
      "4000000/4000000 [==============================] - 157s 39us/step - loss: 6.0351 - acc: 0.1618 - val_loss: 3.0711 - val_acc: 0.2184\n"
     ]
    }
   ],
   "source": [
    "model = get_model([512, 256, 128], \n",
    "                  learning_rate=0.01, \n",
    "                  dropout_ratio=0.2)\n",
    "\n",
    "history = model.fit(X_train, y_train,\n",
    "                    batch_size=256,\n",
    "                    epochs=2,\n",
    "                    verbose=1,\n",
    "                    validation_data=(X_valid, y_valid))"
   ]
  },
  {
   "cell_type": "code",
   "execution_count": 14,
   "metadata": {},
   "outputs": [
    {
     "name": "stdout",
     "output_type": "stream",
     "text": [
      "Train on 4000000 samples, validate on 1000000 samples\n",
      "Epoch 1/2\n",
      "4000000/4000000 [==============================] - 200s 50us/step - loss: 14.8466 - acc: 0.1240 - val_loss: 3.3457 - val_acc: 0.2239\n",
      "Epoch 2/2\n",
      "4000000/4000000 [==============================] - 195s 49us/step - loss: 5.7408 - acc: 0.1667 - val_loss: 2.7952 - val_acc: 0.2382\n"
     ]
    }
   ],
   "source": [
    "model = get_model([1024, 256, 128, 64], \n",
    "                  learning_rate=0.01, \n",
    "                  dropout_ratio=0.2)\n",
    "\n",
    "history = model.fit(X_train, y_train,\n",
    "                    batch_size=256,\n",
    "                    epochs=2,\n",
    "                    verbose=1,\n",
    "                    validation_data=(X_valid, y_valid))"
   ]
  },
  {
   "cell_type": "code",
   "execution_count": 9,
   "metadata": {},
   "outputs": [
    {
     "name": "stdout",
     "output_type": "stream",
     "text": [
      "Train on 4800000 samples, validate on 1200000 samples\n",
      "Epoch 1/2\n",
      "4800000/4800000 [==============================] - 311s 65us/step - loss: 13.5032 - acc: 0.1289 - val_loss: 3.4299 - val_acc: 0.2158\n",
      "Epoch 2/2\n",
      "4800000/4800000 [==============================] - 319s 66us/step - loss: 5.1966 - acc: 0.1755 - val_loss: 2.6096 - val_acc: 0.2476\n"
     ]
    }
   ],
   "source": [
    "model = get_model([1024, 1024, 512, 128, 64], \n",
    "                  learning_rate=0.01, \n",
    "                  dropout_ratio=0.2)\n",
    "\n",
    "history = model.fit(X_train, y_train,\n",
    "                    batch_size=256,\n",
    "                    epochs=2,\n",
    "                    verbose=1,\n",
    "                    validation_data=(X_valid, y_valid))"
   ]
  },
  {
   "cell_type": "code",
   "execution_count": 11,
   "metadata": {},
   "outputs": [],
   "source": [
    "model.save('keras-1024-1024-512-128-64.h5')"
   ]
  },
  {
   "cell_type": "code",
   "execution_count": 16,
   "metadata": {},
   "outputs": [
    {
     "name": "stdout",
     "output_type": "stream",
     "text": [
      "Train on 4800000 samples, validate on 1200000 samples\n",
      "Epoch 1/2\n",
      "4800000/4800000 [==============================] - 233s 48us/step - loss: 1557.2172 - acc: 0.1186 - val_loss: 423521.2604 - val_acc: 0.1561\n",
      "Epoch 2/2\n",
      "4800000/4800000 [==============================] - 230s 48us/step - loss: 2558.4671 - acc: 0.0931 - val_loss: 1869.0462 - val_acc: 0.1885\n"
     ]
    }
   ],
   "source": [
    "model = get_model([1024, 1024, 512, 128, 64], \n",
    "                  learning_rate=0.01, \n",
    "                  dropout_ratio=0.2,\n",
    "                  loss='mean_absolute_percentage_error')\n",
    "\n",
    "history = model.fit(X_train, y_train,\n",
    "                    batch_size=256,\n",
    "                    epochs=2,\n",
    "                    verbose=1,\n",
    "                    validation_data=(X_valid, y_valid))"
   ]
  },
  {
   "cell_type": "code",
   "execution_count": 17,
   "metadata": {},
   "outputs": [],
   "source": [
    "model.save('keras-1024-1024-512-128-64_mape.h5')"
   ]
  },
  {
   "cell_type": "code",
   "execution_count": 18,
   "metadata": {},
   "outputs": [
    {
     "name": "stdout",
     "output_type": "stream",
     "text": [
      "Train on 4800000 samples, validate on 1200000 samples\n",
      "Epoch 1/1\n",
      "4800000/4800000 [==============================] - 230s 48us/step - loss: 7287.6247 - acc: 0.0878 - val_loss: 4.2608 - val_acc: 0.1933\n"
     ]
    }
   ],
   "source": [
    "history = model.fit(X_train, y_train,\n",
    "                    batch_size=256,\n",
    "                    epochs=1,\n",
    "                    verbose=1,\n",
    "                    validation_data=(X_valid, y_valid))"
   ]
  },
  {
   "cell_type": "code",
   "execution_count": 19,
   "metadata": {},
   "outputs": [],
   "source": [
    "model.save('keras-1024-1024-512-128-64_mape2.h5')"
   ]
  },
  {
   "cell_type": "code",
   "execution_count": 20,
   "metadata": {},
   "outputs": [
    {
     "name": "stdout",
     "output_type": "stream",
     "text": [
      "Train on 4800000 samples, validate on 1200000 samples\n",
      "Epoch 1/1\n",
      "4800000/4800000 [==============================] - 263s 55us/step - loss: 2321.8209 - acc: 0.1173 - val_loss: 44997985.8582 - val_acc: 0.1750\n"
     ]
    }
   ],
   "source": [
    "history = model.fit(X_train, y_train,\n",
    "                    batch_size=256,\n",
    "                    epochs=1,\n",
    "                    verbose=1,\n",
    "                    validation_data=(X_valid, y_valid))"
   ]
  },
  {
   "cell_type": "code",
   "execution_count": 23,
   "metadata": {},
   "outputs": [],
   "source": [
    "model.save('keras-1024-1024-512-128-64_mape3.h5')"
   ]
  },
  {
   "cell_type": "code",
   "execution_count": 24,
   "metadata": {},
   "outputs": [
    {
     "name": "stdout",
     "output_type": "stream",
     "text": [
      "Train on 4800000 samples, validate on 1200000 samples\n",
      "Epoch 1/2\n",
      "4800000/4800000 [==============================] - 282s 59us/step - loss: 2.5457 - acc: 0.1316 - val_loss: 1.4757 - val_acc: 0.2082\n",
      "Epoch 2/2\n",
      "4800000/4800000 [==============================] - 279s 58us/step - loss: 1.8285 - acc: 0.1742 - val_loss: 1.4870 - val_acc: 0.1991\n"
     ]
    }
   ],
   "source": [
    "model = get_model([1024, 1024, 512, 128, 64], \n",
    "                  learning_rate=0.01, \n",
    "                  dropout_ratio=0.2,\n",
    "                  loss='mean_absolute_error')\n",
    "\n",
    "history = model.fit(X_train, y_train,\n",
    "                    batch_size=256,\n",
    "                    epochs=2,\n",
    "                    verbose=1,\n",
    "                    validation_data=(X_valid, y_valid))"
   ]
  },
  {
   "cell_type": "code",
   "execution_count": 27,
   "metadata": {},
   "outputs": [],
   "source": [
    "model.save('keras-1024-1024-512-128-64_mae.h5')"
   ]
  },
  {
   "cell_type": "code",
   "execution_count": 28,
   "metadata": {},
   "outputs": [
    {
     "name": "stdout",
     "output_type": "stream",
     "text": [
      "Train on 4800000 samples, validate on 1200000 samples\n",
      "Epoch 1/2\n",
      "4800000/4800000 [==============================] - 276s 57us/step - loss: 1.6753 - acc: 0.1915 - val_loss: 1.3044 - val_acc: 0.2453\n",
      "Epoch 2/2\n",
      "4800000/4800000 [==============================] - 276s 57us/step - loss: 1.6310 - acc: 0.1977 - val_loss: 1.4081 - val_acc: 0.2099\n"
     ]
    }
   ],
   "source": [
    "history = model.fit(X_train, y_train,\n",
    "                    batch_size=256,\n",
    "                    epochs=2,\n",
    "                    verbose=1,\n",
    "                    validation_data=(X_valid, y_valid))"
   ]
  },
  {
   "cell_type": "code",
   "execution_count": 29,
   "metadata": {},
   "outputs": [],
   "source": [
    "model.save('keras-1024-1024-512-128-64_mae.h5')"
   ]
  },
  {
   "cell_type": "code",
   "execution_count": 31,
   "metadata": {},
   "outputs": [
    {
     "name": "stdout",
     "output_type": "stream",
     "text": [
      "Train on 4800000 samples, validate on 1200000 samples\n",
      "Epoch 1/2\n",
      "4800000/4800000 [==============================] - 370s 77us/step - loss: 10.8468 - acc: 0.1411 - val_loss: 3.1935 - val_acc: 0.2217\n",
      "Epoch 2/2\n",
      "4800000/4800000 [==============================] - 366s 76us/step - loss: 5.3088 - acc: 0.1727 - val_loss: 3.5829 - val_acc: 0.2167\n"
     ]
    }
   ],
   "source": [
    "model = get_model([2048, 2048, 1024, 512, 256, 128], \n",
    "                  learning_rate=0.01, \n",
    "                  dropout_ratio=0.2)\n",
    "\n",
    "history = model.fit(X_train, y_train,\n",
    "                    batch_size=256,\n",
    "                    epochs=2,\n",
    "                    verbose=1,\n",
    "                    validation_data=(X_valid, y_valid))"
   ]
  },
  {
   "cell_type": "code",
   "execution_count": null,
   "metadata": {},
   "outputs": [
    {
     "name": "stdout",
     "output_type": "stream",
     "text": [
      "Train on 4800000 samples, validate on 1200000 samples\n",
      "Epoch 1/1\n",
      "  60160/4800000 [..............................] - ETA: 6:11 - loss: 4.4502 - acc: 0.1863"
     ]
    }
   ],
   "source": [
    "history = model.fit(X_train, y_train,\n",
    "                    batch_size=256,\n",
    "                    epochs=1,\n",
    "                    verbose=1,\n",
    "                    validation_data=(X_valid, y_valid))"
   ]
  },
  {
   "cell_type": "code",
   "execution_count": null,
   "metadata": {},
   "outputs": [],
   "source": []
  },
  {
   "cell_type": "code",
   "execution_count": 32,
   "metadata": {},
   "outputs": [
    {
     "data": {
      "text/plain": [
       "5.009056898193359"
      ]
     },
     "execution_count": 32,
     "metadata": {},
     "output_type": "execute_result"
    }
   ],
   "source": [
    "history.history['val_loss'][-1]"
   ]
  },
  {
   "cell_type": "code",
   "execution_count": 33,
   "metadata": {},
   "outputs": [],
   "source": [
    "arr = np.array([15,  0,  1,  2,  3,  4,  5,  6,  7,  8,  9, 10, 11, 12, 13, 14])"
   ]
  },
  {
   "cell_type": "code",
   "execution_count": null,
   "metadata": {},
   "outputs": [],
   "source": []
  },
  {
   "cell_type": "code",
   "execution_count": 26,
   "metadata": {},
   "outputs": [
    {
     "data": {
      "text/plain": [
       "array([0., 0., 0., 0., 1., 0., 0., 0., 0., 0., 0., 0., 0., 0., 0., 0., 0.,\n",
       "       0., 0., 0., 0., 0., 0., 1., 0., 0., 0., 0., 0., 0., 0., 0., 0., 0.,\n",
       "       0., 0., 0., 1., 0., 0., 0., 0., 0., 0., 0., 0., 0., 0., 0., 0., 0.,\n",
       "       0., 0., 0., 0., 0., 1., 0., 0., 0., 0., 0., 0., 0., 0., 0., 0., 0.,\n",
       "       0., 0., 0., 0., 0., 0., 0., 0., 0., 1., 0., 0., 1., 0., 0., 0., 0.,\n",
       "       0., 0., 0., 0., 0., 0., 0., 0., 0., 0., 0., 0., 0., 0., 0., 0., 0.,\n",
       "       0., 0., 0., 0., 0., 0., 1., 0., 0., 0., 0., 0., 0., 1., 0., 0., 0.,\n",
       "       0., 0., 0., 0., 0., 0., 0., 0., 0., 0., 0., 1., 0., 0., 0., 0., 0.,\n",
       "       0., 0., 0., 0., 0., 0., 0., 0., 0., 1., 0., 0., 0., 0., 0., 0., 0.,\n",
       "       0., 0., 0., 0., 0., 0., 0., 0., 0., 0., 0., 0., 0., 1., 0., 0., 0.,\n",
       "       0., 0., 0., 0., 0., 0., 0., 0., 0., 0., 0., 0., 0., 0., 0., 0., 1.,\n",
       "       0., 0., 0., 0., 0., 0., 0., 0., 0., 0., 0., 0., 0., 0., 0., 0., 0.,\n",
       "       0., 0., 1., 0., 0., 0., 0., 0., 0., 0., 0., 0., 0., 1., 0., 0., 0.,\n",
       "       0., 0., 0., 0., 0., 0., 0., 0., 0., 0., 0., 0., 0., 0., 1., 0., 0.,\n",
       "       0., 0., 0., 0., 0., 0., 0., 0., 0., 0., 0., 0., 0., 0., 0., 0., 0.,\n",
       "       1.])"
      ]
     },
     "execution_count": 26,
     "metadata": {},
     "output_type": "execute_result"
    }
   ],
   "source": [
    "# X_valid[0].reshape(1, -1)\n",
    "X_valid[0]"
   ]
  },
  {
   "cell_type": "code",
   "execution_count": 28,
   "metadata": {},
   "outputs": [
    {
     "data": {
      "text/plain": [
       "36.97019958496094"
      ]
     },
     "execution_count": 28,
     "metadata": {},
     "output_type": "execute_result"
    }
   ],
   "source": [
    "model.predict(X_valid[0].reshape(1, -1)).item()"
   ]
  },
  {
   "cell_type": "code",
   "execution_count": 25,
   "metadata": {},
   "outputs": [],
   "source": [
    "y_pred = model.predict(X_valid)"
   ]
  },
  {
   "cell_type": "code",
   "execution_count": 26,
   "metadata": {},
   "outputs": [
    {
     "data": {
      "text/plain": [
       "3.3344361351995495"
      ]
     },
     "execution_count": 26,
     "metadata": {},
     "output_type": "execute_result"
    }
   ],
   "source": [
    "from sklearn.metrics import mean_squared_error\n",
    "\n",
    "mean_squared_error(y_pred, y_valid)"
   ]
  },
  {
   "cell_type": "code",
   "execution_count": 15,
   "metadata": {},
   "outputs": [],
   "source": [
    "predictions = pd.DataFrame({'predicted': y_pred.flatten(), 'real': y_valid.flatten()})\n",
    "predictions['difference'] = predictions['predicted'] - predictions['real']"
   ]
  },
  {
   "cell_type": "code",
   "execution_count": 16,
   "metadata": {},
   "outputs": [
    {
     "data": {
      "text/plain": [
       "10.624881744384766"
      ]
     },
     "execution_count": 16,
     "metadata": {},
     "output_type": "execute_result"
    }
   ],
   "source": [
    "predictions['difference'].max()"
   ]
  },
  {
   "cell_type": "code",
   "execution_count": 17,
   "metadata": {},
   "outputs": [
    {
     "data": {
      "text/plain": [
       "5.203792724609379"
      ]
     },
     "execution_count": 17,
     "metadata": {},
     "output_type": "execute_result"
    }
   ],
   "source": [
    "predictions['difference'].quantile(0.99)"
   ]
  },
  {
   "cell_type": "code",
   "execution_count": 18,
   "metadata": {},
   "outputs": [
    {
     "data": {
      "text/plain": [
       "count    200000.000000\n",
       "mean         -0.121780\n",
       "std           2.234782\n",
       "min          -9.608101\n",
       "25%          -1.726406\n",
       "50%          -0.271679\n",
       "75%           1.396399\n",
       "max          10.624882\n",
       "Name: difference, dtype: float64"
      ]
     },
     "execution_count": 18,
     "metadata": {},
     "output_type": "execute_result"
    }
   ],
   "source": [
    "predictions['difference'].describe()"
   ]
  },
  {
   "cell_type": "code",
   "execution_count": 19,
   "metadata": {},
   "outputs": [
    {
     "data": {
      "image/png": "[encoded data removed]",
      "text/plain": [
       "<Figure size 432x288 with 1 Axes>"
      ]
     },
     "metadata": {
      "image/png": {
       "height": 250,
       "width": 377
      },
      "needs_background": "light"
     },
     "output_type": "display_data"
    }
   ],
   "source": [
    "predictions['difference'].sample(10000).hist(bins=50);"
   ]
  },
  {
   "cell_type": "code",
   "execution_count": 33,
   "metadata": {},
   "outputs": [
    {
     "data": {
      "text/html": [
       "<div>\n",
       "<style scoped>\n",
       "    .dataframe tbody tr th:only-of-type {\n",
       "        vertical-align: middle;\n",
       "    }\n",
       "\n",
       "    .dataframe tbody tr th {\n",
       "        vertical-align: top;\n",
       "    }\n",
       "\n",
       "    .dataframe thead th {\n",
       "        text-align: right;\n",
       "    }\n",
       "</style>\n",
       "<table border=\"1\" class=\"dataframe\">\n",
       "  <thead>\n",
       "    <tr style=\"text-align: right;\">\n",
       "      <th></th>\n",
       "      <th>predicted</th>\n",
       "      <th>real</th>\n",
       "      <th>difference</th>\n",
       "    </tr>\n",
       "  </thead>\n",
       "  <tbody>\n",
       "    <tr>\n",
       "      <th>0</th>\n",
       "      <td>43.336647</td>\n",
       "      <td>40</td>\n",
       "      <td>3.336647</td>\n",
       "    </tr>\n",
       "    <tr>\n",
       "      <th>1</th>\n",
       "      <td>48.727898</td>\n",
       "      <td>49</td>\n",
       "      <td>-0.272102</td>\n",
       "    </tr>\n",
       "    <tr>\n",
       "      <th>2</th>\n",
       "      <td>51.447117</td>\n",
       "      <td>51</td>\n",
       "      <td>0.447117</td>\n",
       "    </tr>\n",
       "    <tr>\n",
       "      <th>3</th>\n",
       "      <td>42.822010</td>\n",
       "      <td>44</td>\n",
       "      <td>-1.177990</td>\n",
       "    </tr>\n",
       "    <tr>\n",
       "      <th>4</th>\n",
       "      <td>22.060034</td>\n",
       "      <td>21</td>\n",
       "      <td>1.060034</td>\n",
       "    </tr>\n",
       "    <tr>\n",
       "      <th>5</th>\n",
       "      <td>50.969612</td>\n",
       "      <td>50</td>\n",
       "      <td>0.969612</td>\n",
       "    </tr>\n",
       "    <tr>\n",
       "      <th>6</th>\n",
       "      <td>38.290455</td>\n",
       "      <td>40</td>\n",
       "      <td>-1.709545</td>\n",
       "    </tr>\n",
       "    <tr>\n",
       "      <th>7</th>\n",
       "      <td>54.615852</td>\n",
       "      <td>55</td>\n",
       "      <td>-0.384148</td>\n",
       "    </tr>\n",
       "    <tr>\n",
       "      <th>8</th>\n",
       "      <td>30.009943</td>\n",
       "      <td>33</td>\n",
       "      <td>-2.990057</td>\n",
       "    </tr>\n",
       "    <tr>\n",
       "      <th>9</th>\n",
       "      <td>45.195145</td>\n",
       "      <td>46</td>\n",
       "      <td>-0.804855</td>\n",
       "    </tr>\n",
       "    <tr>\n",
       "      <th>10</th>\n",
       "      <td>48.217373</td>\n",
       "      <td>48</td>\n",
       "      <td>0.217373</td>\n",
       "    </tr>\n",
       "    <tr>\n",
       "      <th>11</th>\n",
       "      <td>50.445663</td>\n",
       "      <td>52</td>\n",
       "      <td>-1.554337</td>\n",
       "    </tr>\n",
       "    <tr>\n",
       "      <th>12</th>\n",
       "      <td>28.089382</td>\n",
       "      <td>28</td>\n",
       "      <td>0.089382</td>\n",
       "    </tr>\n",
       "    <tr>\n",
       "      <th>13</th>\n",
       "      <td>50.991966</td>\n",
       "      <td>51</td>\n",
       "      <td>-0.008034</td>\n",
       "    </tr>\n",
       "    <tr>\n",
       "      <th>14</th>\n",
       "      <td>33.110794</td>\n",
       "      <td>35</td>\n",
       "      <td>-1.889206</td>\n",
       "    </tr>\n",
       "  </tbody>\n",
       "</table>\n",
       "</div>"
      ],
      "text/plain": [
       "    predicted  real  difference\n",
       "0   43.336647    40    3.336647\n",
       "1   48.727898    49   -0.272102\n",
       "2   51.447117    51    0.447117\n",
       "3   42.822010    44   -1.177990\n",
       "4   22.060034    21    1.060034\n",
       "5   50.969612    50    0.969612\n",
       "6   38.290455    40   -1.709545\n",
       "7   54.615852    55   -0.384148\n",
       "8   30.009943    33   -2.990057\n",
       "9   45.195145    46   -0.804855\n",
       "10  48.217373    48    0.217373\n",
       "11  50.445663    52   -1.554337\n",
       "12  28.089382    28    0.089382\n",
       "13  50.991966    51   -0.008034\n",
       "14  33.110794    35   -1.889206"
      ]
     },
     "execution_count": 33,
     "metadata": {},
     "output_type": "execute_result"
    }
   ],
   "source": [
    "predictions.head(15)"
   ]
  },
  {
   "cell_type": "code",
   "execution_count": 32,
   "metadata": {},
   "outputs": [
    {
     "data": {
      "text/html": [
       "<div>\n",
       "<style scoped>\n",
       "    .dataframe tbody tr th:only-of-type {\n",
       "        vertical-align: middle;\n",
       "    }\n",
       "\n",
       "    .dataframe tbody tr th {\n",
       "        vertical-align: top;\n",
       "    }\n",
       "\n",
       "    .dataframe thead th {\n",
       "        text-align: right;\n",
       "    }\n",
       "</style>\n",
       "<table border=\"1\" class=\"dataframe\">\n",
       "  <thead>\n",
       "    <tr style=\"text-align: right;\">\n",
       "      <th></th>\n",
       "      <th>predicted</th>\n",
       "      <th>real</th>\n",
       "      <th>difference</th>\n",
       "    </tr>\n",
       "  </thead>\n",
       "  <tbody>\n",
       "    <tr>\n",
       "      <th>1147</th>\n",
       "      <td>6.510941</td>\n",
       "      <td>4</td>\n",
       "      <td>2.510941</td>\n",
       "    </tr>\n",
       "    <tr>\n",
       "      <th>1395</th>\n",
       "      <td>7.607174</td>\n",
       "      <td>7</td>\n",
       "      <td>0.607174</td>\n",
       "    </tr>\n",
       "    <tr>\n",
       "      <th>4936</th>\n",
       "      <td>10.983410</td>\n",
       "      <td>9</td>\n",
       "      <td>1.983410</td>\n",
       "    </tr>\n",
       "    <tr>\n",
       "      <th>10571</th>\n",
       "      <td>9.789221</td>\n",
       "      <td>8</td>\n",
       "      <td>1.789221</td>\n",
       "    </tr>\n",
       "    <tr>\n",
       "      <th>10755</th>\n",
       "      <td>10.208565</td>\n",
       "      <td>9</td>\n",
       "      <td>1.208565</td>\n",
       "    </tr>\n",
       "    <tr>\n",
       "      <th>11722</th>\n",
       "      <td>9.288631</td>\n",
       "      <td>8</td>\n",
       "      <td>1.288631</td>\n",
       "    </tr>\n",
       "    <tr>\n",
       "      <th>12007</th>\n",
       "      <td>10.361462</td>\n",
       "      <td>8</td>\n",
       "      <td>2.361462</td>\n",
       "    </tr>\n",
       "    <tr>\n",
       "      <th>17918</th>\n",
       "      <td>10.325645</td>\n",
       "      <td>9</td>\n",
       "      <td>1.325645</td>\n",
       "    </tr>\n",
       "    <tr>\n",
       "      <th>18558</th>\n",
       "      <td>9.967926</td>\n",
       "      <td>9</td>\n",
       "      <td>0.967926</td>\n",
       "    </tr>\n",
       "    <tr>\n",
       "      <th>18679</th>\n",
       "      <td>10.692951</td>\n",
       "      <td>8</td>\n",
       "      <td>2.692951</td>\n",
       "    </tr>\n",
       "    <tr>\n",
       "      <th>20680</th>\n",
       "      <td>11.008759</td>\n",
       "      <td>9</td>\n",
       "      <td>2.008759</td>\n",
       "    </tr>\n",
       "    <tr>\n",
       "      <th>21148</th>\n",
       "      <td>10.296591</td>\n",
       "      <td>9</td>\n",
       "      <td>1.296591</td>\n",
       "    </tr>\n",
       "    <tr>\n",
       "      <th>22656</th>\n",
       "      <td>9.702623</td>\n",
       "      <td>9</td>\n",
       "      <td>0.702623</td>\n",
       "    </tr>\n",
       "    <tr>\n",
       "      <th>27520</th>\n",
       "      <td>9.942295</td>\n",
       "      <td>9</td>\n",
       "      <td>0.942295</td>\n",
       "    </tr>\n",
       "    <tr>\n",
       "      <th>28228</th>\n",
       "      <td>11.139366</td>\n",
       "      <td>9</td>\n",
       "      <td>2.139366</td>\n",
       "    </tr>\n",
       "  </tbody>\n",
       "</table>\n",
       "</div>"
      ],
      "text/plain": [
       "       predicted  real  difference\n",
       "1147    6.510941     4    2.510941\n",
       "1395    7.607174     7    0.607174\n",
       "4936   10.983410     9    1.983410\n",
       "10571   9.789221     8    1.789221\n",
       "10755  10.208565     9    1.208565\n",
       "11722   9.288631     8    1.288631\n",
       "12007  10.361462     8    2.361462\n",
       "17918  10.325645     9    1.325645\n",
       "18558   9.967926     9    0.967926\n",
       "18679  10.692951     8    2.692951\n",
       "20680  11.008759     9    2.008759\n",
       "21148  10.296591     9    1.296591\n",
       "22656   9.702623     9    0.702623\n",
       "27520   9.942295     9    0.942295\n",
       "28228  11.139366     9    2.139366"
      ]
     },
     "execution_count": 32,
     "metadata": {},
     "output_type": "execute_result"
    }
   ],
   "source": [
    "predictions[predictions.real < 10].head(15)"
   ]
  },
  {
   "cell_type": "code",
   "execution_count": 23,
   "metadata": {
    "scrolled": true
   },
   "outputs": [],
   "source": [
    "def benchmark(layer_sizes, epochs=10, dropout_ratio=0.2):\n",
    "    histories = []\n",
    "\n",
    "    for layers in layer_sizes:\n",
    "        model = get_model(layers, dropout_ratio=dropout_ratio)\n",
    "        history = model.fit(X_train, y_train,\n",
    "                        batch_size=batch_size,\n",
    "                        epochs=epochs,\n",
    "                        verbose=1,\n",
    "                        validation_data=(X_test, y_test))\n",
    "        histories.append(history)\n",
    "        \n",
    "    return histories"
   ]
  },
  {
   "cell_type": "code",
   "execution_count": 24,
   "metadata": {},
   "outputs": [],
   "source": [
    "def plot_histories(histories, layer_sizes, metric_name='val_acc'):\n",
    "    accuracy_histories = [history.history[metric_name] for history in histories]\n",
    "\n",
    "    plt.figure(figsize=(14,10))\n",
    "\n",
    "    for accuracy_history in accuracy_histories:\n",
    "        plt.plot(accuracy_history, linewidth=3)\n",
    "\n",
    "    labels = [str(layers) for layers in layer_sizes]\n",
    "    plt.legend(labels);"
   ]
  },
  {
   "cell_type": "code",
   "execution_count": 151,
   "metadata": {},
   "outputs": [
    {
     "name": "stdout",
     "output_type": "stream",
     "text": [
      "Train on 60000 samples, validate on 10000 samples\n",
      "Epoch 1/100\n",
      "60000/60000 [==============================] - 8s 138us/step - loss: 0.3916 - acc: 0.8814 - val_loss: 0.1312 - val_acc: 0.9609\n",
      "Epoch 2/100\n",
      "60000/60000 [==============================] - 5s 86us/step - loss: 0.1533 - acc: 0.9546 - val_loss: 0.0952 - val_acc: 0.9713\n",
      "Epoch 3/100\n",
      "60000/60000 [==============================] - 5s 85us/step - loss: 0.1154 - acc: 0.9659 - val_loss: 0.0890 - val_acc: 0.9727\n",
      "Epoch 4/100\n",
      "60000/60000 [==============================] - 5s 87us/step - loss: 0.0939 - acc: 0.9720 - val_loss: 0.0814 - val_acc: 0.9761\n",
      "Epoch 5/100\n",
      "60000/60000 [==============================] - 5s 83us/step - loss: 0.0813 - acc: 0.9758 - val_loss: 0.0678 - val_acc: 0.9794\n",
      "Epoch 6/100\n",
      "60000/60000 [==============================] - 5s 88us/step - loss: 0.0685 - acc: 0.9794 - val_loss: 0.0716 - val_acc: 0.9788\n",
      "Epoch 7/100\n",
      "60000/60000 [==============================] - 5s 90us/step - loss: 0.0614 - acc: 0.9810 - val_loss: 0.0775 - val_acc: 0.9773\n",
      "Epoch 8/100\n",
      "60000/60000 [==============================] - 6s 105us/step - loss: 0.0555 - acc: 0.9826 - val_loss: 0.0625 - val_acc: 0.9829\n",
      "Epoch 9/100\n",
      "60000/60000 [==============================] - 5s 91us/step - loss: 0.0521 - acc: 0.9841 - val_loss: 0.0682 - val_acc: 0.9797\n",
      "Epoch 10/100\n",
      "60000/60000 [==============================] - 6s 97us/step - loss: 0.0465 - acc: 0.9857 - val_loss: 0.0650 - val_acc: 0.9812\n",
      "Epoch 11/100\n",
      "60000/60000 [==============================] - 6s 92us/step - loss: 0.0432 - acc: 0.9866 - val_loss: 0.0665 - val_acc: 0.9808\n",
      "Epoch 12/100\n",
      "60000/60000 [==============================] - 5s 89us/step - loss: 0.0396 - acc: 0.9878 - val_loss: 0.0759 - val_acc: 0.9793\n",
      "Epoch 13/100\n",
      "60000/60000 [==============================] - 5s 91us/step - loss: 0.0355 - acc: 0.9886 - val_loss: 0.0701 - val_acc: 0.9809\n",
      "Epoch 14/100\n",
      "60000/60000 [==============================] - 5s 89us/step - loss: 0.0352 - acc: 0.9887 - val_loss: 0.0689 - val_acc: 0.9830\n",
      "Epoch 15/100\n",
      "60000/60000 [==============================] - 6s 97us/step - loss: 0.0326 - acc: 0.9899 - val_loss: 0.0728 - val_acc: 0.9810\n",
      "Epoch 16/100\n",
      "60000/60000 [==============================] - 5s 83us/step - loss: 0.0338 - acc: 0.9895 - val_loss: 0.0667 - val_acc: 0.9845\n",
      "Epoch 17/100\n",
      "60000/60000 [==============================] - 5s 88us/step - loss: 0.0324 - acc: 0.9893 - val_loss: 0.0647 - val_acc: 0.9824\n",
      "Epoch 18/100\n",
      "60000/60000 [==============================] - 6s 92us/step - loss: 0.0267 - acc: 0.9917 - val_loss: 0.0668 - val_acc: 0.9837\n",
      "Epoch 19/100\n",
      "60000/60000 [==============================] - 5s 85us/step - loss: 0.0280 - acc: 0.9912 - val_loss: 0.0677 - val_acc: 0.9817\n",
      "Epoch 20/100\n",
      "60000/60000 [==============================] - 5s 90us/step - loss: 0.0279 - acc: 0.9913 - val_loss: 0.0682 - val_acc: 0.9833\n",
      "Epoch 21/100\n",
      "60000/60000 [==============================] - 5s 89us/step - loss: 0.0250 - acc: 0.9922 - val_loss: 0.0732 - val_acc: 0.9820\n",
      "Epoch 22/100\n",
      "60000/60000 [==============================] - 5s 87us/step - loss: 0.0259 - acc: 0.9918 - val_loss: 0.0701 - val_acc: 0.9840\n",
      "Epoch 23/100\n",
      "60000/60000 [==============================] - 5s 86us/step - loss: 0.0241 - acc: 0.9927 - val_loss: 0.0713 - val_acc: 0.9823\n",
      "Epoch 24/100\n",
      "60000/60000 [==============================] - 5s 87us/step - loss: 0.0214 - acc: 0.9931 - val_loss: 0.0694 - val_acc: 0.9841\n",
      "Epoch 25/100\n",
      "60000/60000 [==============================] - 5s 86us/step - loss: 0.0225 - acc: 0.9927 - val_loss: 0.0782 - val_acc: 0.9826\n",
      "Epoch 26/100\n",
      "60000/60000 [==============================] - 5s 88us/step - loss: 0.0209 - acc: 0.9933 - val_loss: 0.0654 - val_acc: 0.9831\n",
      "Epoch 27/100\n",
      "60000/60000 [==============================] - 6s 101us/step - loss: 0.0217 - acc: 0.9931 - val_loss: 0.0718 - val_acc: 0.9848\n",
      "Epoch 28/100\n",
      "60000/60000 [==============================] - 5s 91us/step - loss: 0.0223 - acc: 0.9932 - val_loss: 0.0639 - val_acc: 0.9850\n",
      "Epoch 29/100\n",
      "60000/60000 [==============================] - 5s 91us/step - loss: 0.0215 - acc: 0.9938 - val_loss: 0.0599 - val_acc: 0.9852\n",
      "Epoch 30/100\n",
      "60000/60000 [==============================] - 5s 88us/step - loss: 0.0195 - acc: 0.9940 - val_loss: 0.0618 - val_acc: 0.9851\n",
      "Epoch 31/100\n",
      "60000/60000 [==============================] - 5s 85us/step - loss: 0.0170 - acc: 0.9941 - val_loss: 0.0725 - val_acc: 0.9832\n",
      "Epoch 32/100\n",
      "60000/60000 [==============================] - 5s 85us/step - loss: 0.0204 - acc: 0.9938 - val_loss: 0.0812 - val_acc: 0.9814\n",
      "Epoch 33/100\n",
      "60000/60000 [==============================] - 5s 83us/step - loss: 0.0187 - acc: 0.9942 - val_loss: 0.0678 - val_acc: 0.9836\n",
      "Epoch 34/100\n",
      "60000/60000 [==============================] - 5s 86us/step - loss: 0.0167 - acc: 0.9947 - val_loss: 0.0769 - val_acc: 0.9836\n",
      "Epoch 35/100\n",
      "60000/60000 [==============================] - 5s 90us/step - loss: 0.0158 - acc: 0.9953 - val_loss: 0.0721 - val_acc: 0.9840\n",
      "Epoch 36/100\n",
      "60000/60000 [==============================] - 5s 86us/step - loss: 0.0145 - acc: 0.9954 - val_loss: 0.0650 - val_acc: 0.9861\n",
      "Epoch 37/100\n",
      "60000/60000 [==============================] - 5s 89us/step - loss: 0.0166 - acc: 0.9949 - val_loss: 0.0640 - val_acc: 0.9857\n",
      "Epoch 38/100\n",
      "60000/60000 [==============================] - 5s 86us/step - loss: 0.0157 - acc: 0.9950 - val_loss: 0.0729 - val_acc: 0.9843\n",
      "Epoch 39/100\n",
      "60000/60000 [==============================] - 5s 83us/step - loss: 0.0166 - acc: 0.9944 - val_loss: 0.0807 - val_acc: 0.9832\n",
      "Epoch 40/100\n",
      "60000/60000 [==============================] - 5s 83us/step - loss: 0.0181 - acc: 0.9944 - val_loss: 0.0747 - val_acc: 0.9847\n",
      "Epoch 41/100\n",
      "60000/60000 [==============================] - 5s 82us/step - loss: 0.0156 - acc: 0.9952 - val_loss: 0.0718 - val_acc: 0.9854\n",
      "Epoch 42/100\n",
      "60000/60000 [==============================] - 5s 85us/step - loss: 0.0130 - acc: 0.9959 - val_loss: 0.0800 - val_acc: 0.9825\n",
      "Epoch 43/100\n",
      "60000/60000 [==============================] - 5s 84us/step - loss: 0.0148 - acc: 0.9952 - val_loss: 0.0844 - val_acc: 0.9839\n",
      "Epoch 44/100\n",
      "60000/60000 [==============================] - 5s 86us/step - loss: 0.0140 - acc: 0.9955 - val_loss: 0.0808 - val_acc: 0.9839\n",
      "Epoch 45/100\n",
      "60000/60000 [==============================] - 5s 84us/step - loss: 0.0144 - acc: 0.9956 - val_loss: 0.0756 - val_acc: 0.9847\n",
      "Epoch 46/100\n",
      "60000/60000 [==============================] - 5s 82us/step - loss: 0.0158 - acc: 0.9951 - val_loss: 0.0774 - val_acc: 0.9850\n",
      "Epoch 47/100\n",
      "60000/60000 [==============================] - 5s 84us/step - loss: 0.0128 - acc: 0.9958 - val_loss: 0.0747 - val_acc: 0.9859\n",
      "Epoch 48/100\n",
      "60000/60000 [==============================] - 5s 85us/step - loss: 0.0141 - acc: 0.9956 - val_loss: 0.0788 - val_acc: 0.9845\n",
      "Epoch 49/100\n",
      "60000/60000 [==============================] - 5s 85us/step - loss: 0.0133 - acc: 0.9958 - val_loss: 0.0794 - val_acc: 0.9834\n",
      "Epoch 50/100\n",
      "60000/60000 [==============================] - 5s 86us/step - loss: 0.0151 - acc: 0.9954 - val_loss: 0.0748 - val_acc: 0.9846\n",
      "Epoch 51/100\n",
      "60000/60000 [==============================] - 5s 84us/step - loss: 0.0129 - acc: 0.9959 - val_loss: 0.0839 - val_acc: 0.9842\n",
      "Epoch 52/100\n",
      "60000/60000 [==============================] - 5s 85us/step - loss: 0.0139 - acc: 0.9958 - val_loss: 0.0755 - val_acc: 0.9850\n",
      "Epoch 53/100\n",
      "60000/60000 [==============================] - 5s 82us/step - loss: 0.0122 - acc: 0.9961 - val_loss: 0.0723 - val_acc: 0.9854\n",
      "Epoch 54/100\n",
      "60000/60000 [==============================] - 5s 84us/step - loss: 0.0126 - acc: 0.9962 - val_loss: 0.0758 - val_acc: 0.9847\n",
      "Epoch 55/100\n",
      "60000/60000 [==============================] - 5s 84us/step - loss: 0.0126 - acc: 0.9960 - val_loss: 0.0767 - val_acc: 0.9847\n",
      "Epoch 56/100\n",
      "60000/60000 [==============================] - 5s 83us/step - loss: 0.0110 - acc: 0.9964 - val_loss: 0.0788 - val_acc: 0.9847\n",
      "Epoch 57/100\n",
      "60000/60000 [==============================] - 5s 85us/step - loss: 0.0118 - acc: 0.9965 - val_loss: 0.0761 - val_acc: 0.9846\n",
      "Epoch 58/100\n",
      "60000/60000 [==============================] - 5s 84us/step - loss: 0.0111 - acc: 0.9967 - val_loss: 0.0748 - val_acc: 0.9852\n",
      "Epoch 59/100\n",
      "60000/60000 [==============================] - 5s 82us/step - loss: 0.0109 - acc: 0.9965 - val_loss: 0.0827 - val_acc: 0.9833\n",
      "Epoch 60/100\n",
      "60000/60000 [==============================] - 5s 82us/step - loss: 0.0107 - acc: 0.9966 - val_loss: 0.0875 - val_acc: 0.9828\n",
      "Epoch 61/100\n",
      "60000/60000 [==============================] - 5s 83us/step - loss: 0.0122 - acc: 0.9963 - val_loss: 0.0779 - val_acc: 0.9854\n",
      "Epoch 62/100\n",
      "60000/60000 [==============================] - 5s 83us/step - loss: 0.0108 - acc: 0.9962 - val_loss: 0.0798 - val_acc: 0.9846\n",
      "Epoch 63/100\n",
      "60000/60000 [==============================] - 5s 82us/step - loss: 0.0096 - acc: 0.9971 - val_loss: 0.0826 - val_acc: 0.9850\n",
      "Epoch 64/100\n",
      "60000/60000 [==============================] - 5s 81us/step - loss: 0.0124 - acc: 0.9961 - val_loss: 0.0777 - val_acc: 0.9857\n",
      "Epoch 65/100\n",
      "60000/60000 [==============================] - 5s 83us/step - loss: 0.0103 - acc: 0.9969 - val_loss: 0.0727 - val_acc: 0.9859\n",
      "Epoch 66/100\n",
      "60000/60000 [==============================] - 5s 84us/step - loss: 0.0118 - acc: 0.9963 - val_loss: 0.0793 - val_acc: 0.9853\n",
      "Epoch 67/100\n",
      "60000/60000 [==============================] - 5s 82us/step - loss: 0.0112 - acc: 0.9963 - val_loss: 0.0766 - val_acc: 0.9854\n",
      "Epoch 68/100\n",
      "60000/60000 [==============================] - 5s 83us/step - loss: 0.0101 - acc: 0.9967 - val_loss: 0.0981 - val_acc: 0.9833\n",
      "Epoch 69/100\n",
      "60000/60000 [==============================] - 5s 83us/step - loss: 0.0107 - acc: 0.9968 - val_loss: 0.0786 - val_acc: 0.9848\n",
      "Epoch 70/100\n",
      "60000/60000 [==============================] - 5s 82us/step - loss: 0.0116 - acc: 0.9964 - val_loss: 0.0744 - val_acc: 0.9857\n",
      "Epoch 71/100\n",
      "60000/60000 [==============================] - 5s 83us/step - loss: 0.0104 - acc: 0.9966 - val_loss: 0.0828 - val_acc: 0.9851\n",
      "Epoch 72/100\n",
      "60000/60000 [==============================] - 5s 82us/step - loss: 0.0097 - acc: 0.9973 - val_loss: 0.0802 - val_acc: 0.9854\n",
      "Epoch 73/100\n",
      "60000/60000 [==============================] - 5s 82us/step - loss: 0.0106 - acc: 0.9962 - val_loss: 0.0828 - val_acc: 0.9854\n",
      "Epoch 74/100\n",
      "60000/60000 [==============================] - 5s 82us/step - loss: 0.0093 - acc: 0.9971 - val_loss: 0.0925 - val_acc: 0.9842\n",
      "Epoch 75/100\n",
      "60000/60000 [==============================] - 5s 81us/step - loss: 0.0088 - acc: 0.9974 - val_loss: 0.0850 - val_acc: 0.9860\n",
      "Epoch 76/100\n",
      "60000/60000 [==============================] - 5s 86us/step - loss: 0.0098 - acc: 0.9969 - val_loss: 0.0810 - val_acc: 0.9859\n",
      "Epoch 77/100\n",
      "60000/60000 [==============================] - 5s 88us/step - loss: 0.0108 - acc: 0.9966 - val_loss: 0.0844 - val_acc: 0.9858\n",
      "Epoch 78/100\n",
      "60000/60000 [==============================] - 5s 87us/step - loss: 0.0094 - acc: 0.9971 - val_loss: 0.0887 - val_acc: 0.9848\n",
      "Epoch 79/100\n",
      "60000/60000 [==============================] - 5s 85us/step - loss: 0.0086 - acc: 0.9972 - val_loss: 0.0902 - val_acc: 0.9853\n",
      "Epoch 80/100\n",
      "60000/60000 [==============================] - 5s 81us/step - loss: 0.0109 - acc: 0.9967 - val_loss: 0.0853 - val_acc: 0.9845\n",
      "Epoch 81/100\n",
      "60000/60000 [==============================] - 5s 82us/step - loss: 0.0095 - acc: 0.9970 - val_loss: 0.0900 - val_acc: 0.9846\n",
      "Epoch 82/100\n",
      "60000/60000 [==============================] - 5s 86us/step - loss: 0.0096 - acc: 0.9970 - val_loss: 0.0813 - val_acc: 0.9853\n",
      "Epoch 83/100\n",
      "60000/60000 [==============================] - 5s 83us/step - loss: 0.0096 - acc: 0.9971 - val_loss: 0.0884 - val_acc: 0.9846\n",
      "Epoch 84/100\n",
      "60000/60000 [==============================] - 5s 84us/step - loss: 0.0086 - acc: 0.9975 - val_loss: 0.0947 - val_acc: 0.9830\n",
      "Epoch 85/100\n",
      "60000/60000 [==============================] - 5s 83us/step - loss: 0.0101 - acc: 0.9970 - val_loss: 0.0860 - val_acc: 0.9868\n",
      "Epoch 86/100\n",
      "60000/60000 [==============================] - 5s 84us/step - loss: 0.0085 - acc: 0.9974 - val_loss: 0.0875 - val_acc: 0.9865\n",
      "Epoch 87/100\n",
      "60000/60000 [==============================] - 5s 84us/step - loss: 0.0089 - acc: 0.9972 - val_loss: 0.0889 - val_acc: 0.9839\n",
      "Epoch 88/100\n",
      "60000/60000 [==============================] - 5s 86us/step - loss: 0.0083 - acc: 0.9975 - val_loss: 0.0896 - val_acc: 0.9850\n",
      "Epoch 89/100\n",
      "60000/60000 [==============================] - 5s 89us/step - loss: 0.0097 - acc: 0.9975 - val_loss: 0.0851 - val_acc: 0.9854\n",
      "Epoch 90/100\n",
      "60000/60000 [==============================] - 5s 88us/step - loss: 0.0085 - acc: 0.9974 - val_loss: 0.0928 - val_acc: 0.9845\n",
      "Epoch 91/100\n",
      "60000/60000 [==============================] - 5s 90us/step - loss: 0.0100 - acc: 0.9970 - val_loss: 0.0872 - val_acc: 0.9860\n",
      "Epoch 92/100\n",
      "60000/60000 [==============================] - 5s 88us/step - loss: 0.0088 - acc: 0.9977 - val_loss: 0.0837 - val_acc: 0.9855\n",
      "Epoch 93/100\n",
      "60000/60000 [==============================] - 6s 93us/step - loss: 0.0105 - acc: 0.9972 - val_loss: 0.0801 - val_acc: 0.9859\n",
      "Epoch 94/100\n",
      "60000/60000 [==============================] - 5s 90us/step - loss: 0.0080 - acc: 0.9977 - val_loss: 0.0873 - val_acc: 0.9847\n",
      "Epoch 95/100\n",
      "60000/60000 [==============================] - 5s 87us/step - loss: 0.0100 - acc: 0.9973 - val_loss: 0.0768 - val_acc: 0.9846\n",
      "Epoch 96/100\n",
      "60000/60000 [==============================] - 5s 86us/step - loss: 0.0101 - acc: 0.9974 - val_loss: 0.0747 - val_acc: 0.9868\n",
      "Epoch 97/100\n",
      "60000/60000 [==============================] - 6s 92us/step - loss: 0.0077 - acc: 0.9977 - val_loss: 0.0864 - val_acc: 0.9858\n",
      "Epoch 98/100\n",
      "60000/60000 [==============================] - 5s 90us/step - loss: 0.0088 - acc: 0.9975 - val_loss: 0.0781 - val_acc: 0.9876\n",
      "Epoch 99/100\n",
      "60000/60000 [==============================] - 5s 88us/step - loss: 0.0106 - acc: 0.9971 - val_loss: 0.0854 - val_acc: 0.9850\n",
      "Epoch 100/100\n",
      "60000/60000 [==============================] - 5s 89us/step - loss: 0.0085 - acc: 0.9977 - val_loss: 0.0807 - val_acc: 0.9859\n",
      "Train on 60000 samples, validate on 10000 samples\n",
      "Epoch 1/100\n",
      "60000/60000 [==============================] - 11s 185us/step - loss: 0.2975 - acc: 0.9088 - val_loss: 0.1125 - val_acc: 0.9653\n",
      "Epoch 2/100\n",
      "60000/60000 [==============================] - 8s 132us/step - loss: 0.1216 - acc: 0.9634 - val_loss: 0.0859 - val_acc: 0.9746\n",
      "Epoch 3/100\n",
      "60000/60000 [==============================] - 8s 132us/step - loss: 0.0898 - acc: 0.9728 - val_loss: 0.0819 - val_acc: 0.9764\n",
      "Epoch 4/100\n",
      "60000/60000 [==============================] - 8s 136us/step - loss: 0.0712 - acc: 0.9778 - val_loss: 0.0726 - val_acc: 0.9787\n",
      "Epoch 5/100\n",
      "60000/60000 [==============================] - 8s 133us/step - loss: 0.0599 - acc: 0.9816 - val_loss: 0.0777 - val_acc: 0.9755\n",
      "Epoch 6/100\n",
      "60000/60000 [==============================] - 8s 131us/step - loss: 0.0519 - acc: 0.9832 - val_loss: 0.0654 - val_acc: 0.9818\n",
      "Epoch 7/100\n",
      "60000/60000 [==============================] - 8s 133us/step - loss: 0.0434 - acc: 0.9857 - val_loss: 0.0651 - val_acc: 0.9820\n",
      "Epoch 8/100\n",
      "60000/60000 [==============================] - 8s 138us/step - loss: 0.0390 - acc: 0.9880 - val_loss: 0.0736 - val_acc: 0.9815\n",
      "Epoch 9/100\n",
      "60000/60000 [==============================] - 8s 137us/step - loss: 0.0355 - acc: 0.9892 - val_loss: 0.0646 - val_acc: 0.9837\n",
      "Epoch 10/100\n",
      "60000/60000 [==============================] - 8s 137us/step - loss: 0.0327 - acc: 0.9895 - val_loss: 0.0730 - val_acc: 0.9804\n",
      "Epoch 11/100\n",
      "60000/60000 [==============================] - 8s 137us/step - loss: 0.0325 - acc: 0.9895 - val_loss: 0.0734 - val_acc: 0.9816\n",
      "Epoch 12/100\n",
      "60000/60000 [==============================] - 8s 132us/step - loss: 0.0299 - acc: 0.9904 - val_loss: 0.0725 - val_acc: 0.9823\n",
      "Epoch 13/100\n",
      "60000/60000 [==============================] - 8s 136us/step - loss: 0.0268 - acc: 0.9912 - val_loss: 0.0678 - val_acc: 0.9818\n",
      "Epoch 14/100\n",
      "60000/60000 [==============================] - 8s 139us/step - loss: 0.0245 - acc: 0.9922 - val_loss: 0.0792 - val_acc: 0.9821\n",
      "Epoch 15/100\n",
      "60000/60000 [==============================] - 8s 139us/step - loss: 0.0231 - acc: 0.9925 - val_loss: 0.0740 - val_acc: 0.9830\n",
      "Epoch 16/100\n",
      "60000/60000 [==============================] - 8s 136us/step - loss: 0.0258 - acc: 0.9918 - val_loss: 0.0797 - val_acc: 0.9834\n",
      "Epoch 17/100\n"
     ]
    },
    {
     "name": "stdout",
     "output_type": "stream",
     "text": [
      "60000/60000 [==============================] - 8s 130us/step - loss: 0.0195 - acc: 0.9937 - val_loss: 0.0761 - val_acc: 0.9827\n",
      "Epoch 18/100\n",
      "60000/60000 [==============================] - 8s 131us/step - loss: 0.0213 - acc: 0.9931 - val_loss: 0.0630 - val_acc: 0.9852\n",
      "Epoch 19/100\n",
      "60000/60000 [==============================] - 8s 132us/step - loss: 0.0187 - acc: 0.9939 - val_loss: 0.0855 - val_acc: 0.9807\n",
      "Epoch 20/100\n",
      "60000/60000 [==============================] - 8s 132us/step - loss: 0.0216 - acc: 0.9933 - val_loss: 0.0682 - val_acc: 0.9834\n",
      "Epoch 21/100\n",
      "60000/60000 [==============================] - 8s 132us/step - loss: 0.0189 - acc: 0.9942 - val_loss: 0.0747 - val_acc: 0.9826\n",
      "Epoch 22/100\n",
      "60000/60000 [==============================] - 8s 138us/step - loss: 0.0199 - acc: 0.9937 - val_loss: 0.0647 - val_acc: 0.9849\n",
      "Epoch 23/100\n",
      "60000/60000 [==============================] - 8s 134us/step - loss: 0.0159 - acc: 0.9948 - val_loss: 0.0740 - val_acc: 0.9832\n",
      "Epoch 24/100\n",
      "60000/60000 [==============================] - 8s 131us/step - loss: 0.0149 - acc: 0.9953 - val_loss: 0.0762 - val_acc: 0.9833\n",
      "Epoch 25/100\n",
      "60000/60000 [==============================] - 8s 129us/step - loss: 0.0198 - acc: 0.9940 - val_loss: 0.0744 - val_acc: 0.9829\n",
      "Epoch 26/100\n",
      "60000/60000 [==============================] - 8s 135us/step - loss: 0.0131 - acc: 0.9958 - val_loss: 0.0741 - val_acc: 0.9842\n",
      "Epoch 27/100\n",
      "60000/60000 [==============================] - 8s 134us/step - loss: 0.0145 - acc: 0.9953 - val_loss: 0.0689 - val_acc: 0.9861\n",
      "Epoch 28/100\n",
      "60000/60000 [==============================] - 8s 135us/step - loss: 0.0156 - acc: 0.9950 - val_loss: 0.0725 - val_acc: 0.9853\n",
      "Epoch 29/100\n",
      "60000/60000 [==============================] - 8s 131us/step - loss: 0.0128 - acc: 0.9958 - val_loss: 0.0745 - val_acc: 0.9845\n",
      "Epoch 30/100\n",
      "60000/60000 [==============================] - 8s 133us/step - loss: 0.0161 - acc: 0.9949 - val_loss: 0.0762 - val_acc: 0.9850\n",
      "Epoch 31/100\n",
      "60000/60000 [==============================] - 8s 133us/step - loss: 0.0119 - acc: 0.9963 - val_loss: 0.0887 - val_acc: 0.9806\n",
      "Epoch 32/100\n",
      "60000/60000 [==============================] - 8s 136us/step - loss: 0.0139 - acc: 0.9957 - val_loss: 0.0868 - val_acc: 0.9829\n",
      "Epoch 33/100\n",
      "60000/60000 [==============================] - 8s 137us/step - loss: 0.0144 - acc: 0.9954 - val_loss: 0.0879 - val_acc: 0.9839\n",
      "Epoch 34/100\n",
      "60000/60000 [==============================] - 8s 135us/step - loss: 0.0139 - acc: 0.9959 - val_loss: 0.0831 - val_acc: 0.9843\n",
      "Epoch 35/100\n",
      "60000/60000 [==============================] - 8s 136us/step - loss: 0.0123 - acc: 0.9960 - val_loss: 0.0792 - val_acc: 0.9841\n",
      "Epoch 36/100\n",
      "60000/60000 [==============================] - 8s 131us/step - loss: 0.0116 - acc: 0.9964 - val_loss: 0.0726 - val_acc: 0.9846\n",
      "Epoch 37/100\n",
      "60000/60000 [==============================] - 8s 130us/step - loss: 0.0104 - acc: 0.9967 - val_loss: 0.0849 - val_acc: 0.9859\n",
      "Epoch 38/100\n",
      "60000/60000 [==============================] - 8s 130us/step - loss: 0.0120 - acc: 0.9966 - val_loss: 0.0831 - val_acc: 0.9837\n",
      "Epoch 39/100\n",
      "60000/60000 [==============================] - 8s 135us/step - loss: 0.0134 - acc: 0.9959 - val_loss: 0.0774 - val_acc: 0.9855\n",
      "Epoch 40/100\n",
      "60000/60000 [==============================] - 8s 137us/step - loss: 0.0111 - acc: 0.9967 - val_loss: 0.0731 - val_acc: 0.9859\n",
      "Epoch 41/100\n",
      "60000/60000 [==============================] - 8s 136us/step - loss: 0.0094 - acc: 0.9969 - val_loss: 0.0865 - val_acc: 0.9852\n",
      "Epoch 42/100\n",
      "60000/60000 [==============================] - 8s 133us/step - loss: 0.0129 - acc: 0.9961 - val_loss: 0.1011 - val_acc: 0.9829\n",
      "Epoch 43/100\n",
      "60000/60000 [==============================] - 8s 132us/step - loss: 0.0120 - acc: 0.9965 - val_loss: 0.0820 - val_acc: 0.9851\n",
      "Epoch 44/100\n",
      "60000/60000 [==============================] - 8s 135us/step - loss: 0.0091 - acc: 0.9973 - val_loss: 0.0878 - val_acc: 0.9858\n",
      "Epoch 45/100\n",
      "60000/60000 [==============================] - 8s 133us/step - loss: 0.0098 - acc: 0.9970 - val_loss: 0.0877 - val_acc: 0.9852\n",
      "Epoch 46/100\n",
      "60000/60000 [==============================] - 8s 134us/step - loss: 0.0097 - acc: 0.9970 - val_loss: 0.0877 - val_acc: 0.9839\n",
      "Epoch 47/100\n",
      "60000/60000 [==============================] - 8s 135us/step - loss: 0.0108 - acc: 0.9967 - val_loss: 0.0902 - val_acc: 0.9849\n",
      "Epoch 48/100\n",
      "60000/60000 [==============================] - 9s 149us/step - loss: 0.0111 - acc: 0.9968 - val_loss: 0.0870 - val_acc: 0.9856\n",
      "Epoch 49/100\n",
      "60000/60000 [==============================] - 8s 137us/step - loss: 0.0114 - acc: 0.9968 - val_loss: 0.0992 - val_acc: 0.9832\n",
      "Epoch 50/100\n",
      "60000/60000 [==============================] - 8s 132us/step - loss: 0.0110 - acc: 0.9968 - val_loss: 0.0932 - val_acc: 0.9840\n",
      "Epoch 51/100\n",
      "60000/60000 [==============================] - 8s 134us/step - loss: 0.0101 - acc: 0.9971 - val_loss: 0.1023 - val_acc: 0.9837\n",
      "Epoch 52/100\n",
      "60000/60000 [==============================] - 8s 131us/step - loss: 0.0113 - acc: 0.9964 - val_loss: 0.0962 - val_acc: 0.9841\n",
      "Epoch 53/100\n",
      "60000/60000 [==============================] - 8s 133us/step - loss: 0.0097 - acc: 0.9971 - val_loss: 0.0970 - val_acc: 0.9847\n",
      "Epoch 54/100\n",
      "60000/60000 [==============================] - 8s 132us/step - loss: 0.0091 - acc: 0.9977 - val_loss: 0.0915 - val_acc: 0.9848\n",
      "Epoch 55/100\n",
      "60000/60000 [==============================] - 8s 133us/step - loss: 0.0092 - acc: 0.9973 - val_loss: 0.1038 - val_acc: 0.9835\n",
      "Epoch 56/100\n",
      "60000/60000 [==============================] - 8s 131us/step - loss: 0.0115 - acc: 0.9967 - val_loss: 0.0893 - val_acc: 0.9850\n",
      "Epoch 57/100\n",
      "60000/60000 [==============================] - 8s 129us/step - loss: 0.0081 - acc: 0.9976 - val_loss: 0.0883 - val_acc: 0.9857\n",
      "Epoch 58/100\n",
      "60000/60000 [==============================] - 8s 133us/step - loss: 0.0096 - acc: 0.9974 - val_loss: 0.0836 - val_acc: 0.9857\n",
      "Epoch 59/100\n",
      "60000/60000 [==============================] - 8s 136us/step - loss: 0.0077 - acc: 0.9978 - val_loss: 0.0918 - val_acc: 0.9856\n",
      "Epoch 60/100\n",
      "60000/60000 [==============================] - 8s 137us/step - loss: 0.0085 - acc: 0.9974 - val_loss: 0.0900 - val_acc: 0.9850\n",
      "Epoch 61/100\n",
      "60000/60000 [==============================] - 8s 133us/step - loss: 0.0109 - acc: 0.9971 - val_loss: 0.0893 - val_acc: 0.9848\n",
      "Epoch 62/100\n",
      "60000/60000 [==============================] - 8s 136us/step - loss: 0.0079 - acc: 0.9975 - val_loss: 0.0888 - val_acc: 0.9852\n",
      "Epoch 63/100\n",
      "60000/60000 [==============================] - 8s 133us/step - loss: 0.0090 - acc: 0.9973 - val_loss: 0.0865 - val_acc: 0.9855\n",
      "Epoch 64/100\n",
      "60000/60000 [==============================] - 8s 136us/step - loss: 0.0081 - acc: 0.9975 - val_loss: 0.0893 - val_acc: 0.9837\n",
      "Epoch 65/100\n",
      "60000/60000 [==============================] - 8s 135us/step - loss: 0.0095 - acc: 0.9972 - val_loss: 0.0875 - val_acc: 0.9844\n",
      "Epoch 66/100\n",
      "60000/60000 [==============================] - 9s 154us/step - loss: 0.0091 - acc: 0.9976 - val_loss: 0.0805 - val_acc: 0.9859\n",
      "Epoch 67/100\n",
      "60000/60000 [==============================] - 8s 139us/step - loss: 0.0084 - acc: 0.9977 - val_loss: 0.0820 - val_acc: 0.9858\n",
      "Epoch 68/100\n",
      "60000/60000 [==============================] - 8s 133us/step - loss: 0.0084 - acc: 0.9975 - val_loss: 0.0875 - val_acc: 0.9861\n",
      "Epoch 69/100\n",
      "60000/60000 [==============================] - 8s 139us/step - loss: 0.0072 - acc: 0.9977 - val_loss: 0.1072 - val_acc: 0.9833\n",
      "Epoch 70/100\n",
      "60000/60000 [==============================] - 8s 133us/step - loss: 0.0094 - acc: 0.9972 - val_loss: 0.0954 - val_acc: 0.9853\n",
      "Epoch 71/100\n",
      "60000/60000 [==============================] - 8s 137us/step - loss: 0.0083 - acc: 0.9975 - val_loss: 0.0908 - val_acc: 0.9847\n",
      "Epoch 72/100\n",
      "60000/60000 [==============================] - 8s 138us/step - loss: 0.0091 - acc: 0.9974 - val_loss: 0.0922 - val_acc: 0.9850\n",
      "Epoch 73/100\n",
      "60000/60000 [==============================] - 9s 153us/step - loss: 0.0067 - acc: 0.9982 - val_loss: 0.1104 - val_acc: 0.9841\n",
      "Epoch 74/100\n",
      "60000/60000 [==============================] - 8s 139us/step - loss: 0.0105 - acc: 0.9971 - val_loss: 0.1063 - val_acc: 0.9836\n",
      "Epoch 75/100\n",
      "60000/60000 [==============================] - 8s 137us/step - loss: 0.0097 - acc: 0.9974 - val_loss: 0.0795 - val_acc: 0.9862\n",
      "Epoch 76/100\n",
      "60000/60000 [==============================] - 8s 140us/step - loss: 0.0096 - acc: 0.9974 - val_loss: 0.0916 - val_acc: 0.9840\n",
      "Epoch 77/100\n",
      "60000/60000 [==============================] - 8s 138us/step - loss: 0.0071 - acc: 0.9979 - val_loss: 0.0922 - val_acc: 0.9858\n",
      "Epoch 78/100\n",
      "60000/60000 [==============================] - 9s 146us/step - loss: 0.0074 - acc: 0.9979 - val_loss: 0.0919 - val_acc: 0.9853\n",
      "Epoch 79/100\n",
      "60000/60000 [==============================] - 9s 148us/step - loss: 0.0059 - acc: 0.9983 - val_loss: 0.0865 - val_acc: 0.9857\n",
      "Epoch 80/100\n",
      "60000/60000 [==============================] - 9s 142us/step - loss: 0.0067 - acc: 0.9979 - val_loss: 0.0927 - val_acc: 0.9847\n",
      "Epoch 81/100\n",
      "60000/60000 [==============================] - 8s 141us/step - loss: 0.0062 - acc: 0.9984 - val_loss: 0.1075 - val_acc: 0.9834\n",
      "Epoch 82/100\n",
      "60000/60000 [==============================] - 9s 152us/step - loss: 0.0091 - acc: 0.9975 - val_loss: 0.1026 - val_acc: 0.9841\n",
      "Epoch 83/100\n",
      "60000/60000 [==============================] - 9s 147us/step - loss: 0.0102 - acc: 0.9971 - val_loss: 0.1107 - val_acc: 0.9848\n",
      "Epoch 84/100\n",
      "60000/60000 [==============================] - 9s 153us/step - loss: 0.0077 - acc: 0.9977 - val_loss: 0.0982 - val_acc: 0.9851\n",
      "Epoch 85/100\n",
      "60000/60000 [==============================] - 9s 142us/step - loss: 0.0066 - acc: 0.9981 - val_loss: 0.0896 - val_acc: 0.9865\n",
      "Epoch 86/100\n",
      "60000/60000 [==============================] - 9s 145us/step - loss: 0.0065 - acc: 0.9982 - val_loss: 0.0945 - val_acc: 0.9854\n",
      "Epoch 87/100\n",
      "60000/60000 [==============================] - 9s 146us/step - loss: 0.0083 - acc: 0.9978 - val_loss: 0.0956 - val_acc: 0.9863\n",
      "Epoch 88/100\n",
      "60000/60000 [==============================] - 8s 136us/step - loss: 0.0090 - acc: 0.9977 - val_loss: 0.0897 - val_acc: 0.9861\n",
      "Epoch 89/100\n",
      "60000/60000 [==============================] - 8s 134us/step - loss: 0.0085 - acc: 0.9979 - val_loss: 0.0955 - val_acc: 0.9851\n",
      "Epoch 90/100\n",
      "60000/60000 [==============================] - 8s 137us/step - loss: 0.0073 - acc: 0.9979 - val_loss: 0.1037 - val_acc: 0.9853\n",
      "Epoch 91/100\n",
      "60000/60000 [==============================] - 8s 139us/step - loss: 0.0091 - acc: 0.9976 - val_loss: 0.1026 - val_acc: 0.9850\n",
      "Epoch 92/100\n",
      "60000/60000 [==============================] - 8s 140us/step - loss: 0.0077 - acc: 0.9979 - val_loss: 0.0973 - val_acc: 0.9855\n",
      "Epoch 93/100\n",
      "60000/60000 [==============================] - 8s 134us/step - loss: 0.0066 - acc: 0.9982 - val_loss: 0.1055 - val_acc: 0.9854\n",
      "Epoch 94/100\n",
      "60000/60000 [==============================] - 9s 142us/step - loss: 0.0073 - acc: 0.9979 - val_loss: 0.0888 - val_acc: 0.9850\n",
      "Epoch 95/100\n",
      "60000/60000 [==============================] - 9s 149us/step - loss: 0.0070 - acc: 0.9982 - val_loss: 0.1122 - val_acc: 0.9844\n",
      "Epoch 96/100\n",
      "60000/60000 [==============================] - 8s 141us/step - loss: 0.0083 - acc: 0.9979 - val_loss: 0.0938 - val_acc: 0.9862\n",
      "Epoch 97/100\n",
      "60000/60000 [==============================] - 8s 136us/step - loss: 0.0062 - acc: 0.9985 - val_loss: 0.1002 - val_acc: 0.9847\n",
      "Epoch 98/100\n",
      "60000/60000 [==============================] - 8s 139us/step - loss: 0.0057 - acc: 0.9985 - val_loss: 0.0962 - val_acc: 0.9858\n",
      "Epoch 99/100\n",
      "60000/60000 [==============================] - 8s 138us/step - loss: 0.0062 - acc: 0.9984 - val_loss: 0.1101 - val_acc: 0.9854\n",
      "Epoch 100/100\n",
      "60000/60000 [==============================] - 8s 138us/step - loss: 0.0066 - acc: 0.9981 - val_loss: 0.1102 - val_acc: 0.9853\n",
      "Train on 60000 samples, validate on 10000 samples\n",
      "Epoch 1/100\n",
      "60000/60000 [==============================] - 12s 208us/step - loss: 0.3688 - acc: 0.8885 - val_loss: 0.1329 - val_acc: 0.9582\n",
      "Epoch 2/100\n",
      "60000/60000 [==============================] - 9s 150us/step - loss: 0.1481 - acc: 0.9583 - val_loss: 0.0968 - val_acc: 0.9716\n",
      "Epoch 3/100\n",
      "60000/60000 [==============================] - 9s 142us/step - loss: 0.1060 - acc: 0.9698 - val_loss: 0.0819 - val_acc: 0.9750\n",
      "Epoch 4/100\n",
      "60000/60000 [==============================] - 8s 140us/step - loss: 0.0876 - acc: 0.9753 - val_loss: 0.0933 - val_acc: 0.9716\n",
      "Epoch 5/100\n",
      "60000/60000 [==============================] - 8s 140us/step - loss: 0.0743 - acc: 0.9792 - val_loss: 0.0744 - val_acc: 0.9772\n",
      "Epoch 6/100\n",
      "60000/60000 [==============================] - 8s 142us/step - loss: 0.0622 - acc: 0.9819 - val_loss: 0.0727 - val_acc: 0.9802\n",
      "Epoch 7/100\n",
      "60000/60000 [==============================] - 8s 139us/step - loss: 0.0555 - acc: 0.9835 - val_loss: 0.0798 - val_acc: 0.9792\n",
      "Epoch 8/100\n",
      "60000/60000 [==============================] - 9s 144us/step - loss: 0.0484 - acc: 0.9855 - val_loss: 0.0801 - val_acc: 0.9783\n",
      "Epoch 9/100\n",
      "60000/60000 [==============================] - 8s 140us/step - loss: 0.0443 - acc: 0.9871 - val_loss: 0.0737 - val_acc: 0.9808\n",
      "Epoch 10/100\n",
      "60000/60000 [==============================] - 9s 143us/step - loss: 0.0395 - acc: 0.9886 - val_loss: 0.0723 - val_acc: 0.9801\n",
      "Epoch 11/100\n",
      "60000/60000 [==============================] - 9s 156us/step - loss: 0.0358 - acc: 0.9892 - val_loss: 0.0669 - val_acc: 0.9829\n",
      "Epoch 12/100\n",
      "60000/60000 [==============================] - 9s 155us/step - loss: 0.0339 - acc: 0.9894 - val_loss: 0.0767 - val_acc: 0.9817\n",
      "Epoch 13/100\n",
      "60000/60000 [==============================] - 9s 145us/step - loss: 0.0352 - acc: 0.9896 - val_loss: 0.0767 - val_acc: 0.9804\n",
      "Epoch 14/100\n",
      "60000/60000 [==============================] - 9s 145us/step - loss: 0.0293 - acc: 0.9914 - val_loss: 0.0731 - val_acc: 0.9823\n",
      "Epoch 15/100\n",
      "60000/60000 [==============================] - 9s 146us/step - loss: 0.0288 - acc: 0.9912 - val_loss: 0.0654 - val_acc: 0.9855\n",
      "Epoch 16/100\n",
      "60000/60000 [==============================] - 9s 146us/step - loss: 0.0264 - acc: 0.9915 - val_loss: 0.0698 - val_acc: 0.9829\n",
      "Epoch 17/100\n",
      "60000/60000 [==============================] - 9s 144us/step - loss: 0.0284 - acc: 0.9914 - val_loss: 0.0689 - val_acc: 0.9840\n",
      "Epoch 18/100\n",
      "60000/60000 [==============================] - 9s 145us/step - loss: 0.0249 - acc: 0.9924 - val_loss: 0.0739 - val_acc: 0.9824\n",
      "Epoch 19/100\n",
      "60000/60000 [==============================] - 9s 149us/step - loss: 0.0205 - acc: 0.9938 - val_loss: 0.0887 - val_acc: 0.9815\n",
      "Epoch 20/100\n",
      "60000/60000 [==============================] - 9s 151us/step - loss: 0.0213 - acc: 0.9936 - val_loss: 0.0851 - val_acc: 0.9821\n",
      "Epoch 21/100\n",
      "60000/60000 [==============================] - 9s 151us/step - loss: 0.0210 - acc: 0.9932 - val_loss: 0.0912 - val_acc: 0.9805\n",
      "Epoch 22/100\n",
      "60000/60000 [==============================] - 9s 152us/step - loss: 0.0197 - acc: 0.9941 - val_loss: 0.0912 - val_acc: 0.9827\n",
      "Epoch 23/100\n",
      "60000/60000 [==============================] - 9s 143us/step - loss: 0.0203 - acc: 0.9941 - val_loss: 0.0811 - val_acc: 0.9837\n",
      "Epoch 24/100\n",
      "60000/60000 [==============================] - 9s 148us/step - loss: 0.0197 - acc: 0.9943 - val_loss: 0.0810 - val_acc: 0.9851\n",
      "Epoch 25/100\n",
      "60000/60000 [==============================] - 9s 149us/step - loss: 0.0186 - acc: 0.9944 - val_loss: 0.0865 - val_acc: 0.9813\n",
      "Epoch 26/100\n",
      "60000/60000 [==============================] - 9s 145us/step - loss: 0.0208 - acc: 0.9941 - val_loss: 0.0737 - val_acc: 0.9833\n",
      "Epoch 27/100\n",
      "60000/60000 [==============================] - 9s 146us/step - loss: 0.0200 - acc: 0.9940 - val_loss: 0.0791 - val_acc: 0.9834\n",
      "Epoch 28/100\n",
      "60000/60000 [==============================] - 9s 146us/step - loss: 0.0134 - acc: 0.9958 - val_loss: 0.0820 - val_acc: 0.9846\n",
      "Epoch 29/100\n",
      "60000/60000 [==============================] - 9s 146us/step - loss: 0.0164 - acc: 0.9950 - val_loss: 0.0872 - val_acc: 0.9835\n",
      "Epoch 30/100\n",
      "60000/60000 [==============================] - 9s 144us/step - loss: 0.0177 - acc: 0.9949 - val_loss: 0.0808 - val_acc: 0.9831\n",
      "Epoch 31/100\n",
      "60000/60000 [==============================] - 9s 147us/step - loss: 0.0164 - acc: 0.9950 - val_loss: 0.0856 - val_acc: 0.9831\n",
      "Epoch 32/100\n",
      "60000/60000 [==============================] - 9s 148us/step - loss: 0.0146 - acc: 0.9953 - val_loss: 0.1020 - val_acc: 0.9813\n",
      "Epoch 33/100\n"
     ]
    },
    {
     "name": "stdout",
     "output_type": "stream",
     "text": [
      "60000/60000 [==============================] - 9s 148us/step - loss: 0.0154 - acc: 0.9954 - val_loss: 0.0762 - val_acc: 0.9847\n",
      "Epoch 34/100\n",
      "60000/60000 [==============================] - 9s 146us/step - loss: 0.0128 - acc: 0.9962 - val_loss: 0.0945 - val_acc: 0.9829\n",
      "Epoch 35/100\n",
      "60000/60000 [==============================] - 9s 143us/step - loss: 0.0133 - acc: 0.9961 - val_loss: 0.0945 - val_acc: 0.9832\n",
      "Epoch 36/100\n",
      "60000/60000 [==============================] - 9s 143us/step - loss: 0.0157 - acc: 0.9956 - val_loss: 0.0841 - val_acc: 0.9814\n",
      "Epoch 37/100\n",
      "60000/60000 [==============================] - 9s 144us/step - loss: 0.0136 - acc: 0.9961 - val_loss: 0.0765 - val_acc: 0.9854\n",
      "Epoch 38/100\n",
      "60000/60000 [==============================] - 9s 150us/step - loss: 0.0149 - acc: 0.9958 - val_loss: 0.1054 - val_acc: 0.9803\n",
      "Epoch 39/100\n",
      "60000/60000 [==============================] - 9s 152us/step - loss: 0.0142 - acc: 0.9958 - val_loss: 0.1122 - val_acc: 0.9816\n",
      "Epoch 40/100\n",
      "60000/60000 [==============================] - 9s 154us/step - loss: 0.0132 - acc: 0.9960 - val_loss: 0.0951 - val_acc: 0.9828\n",
      "Epoch 41/100\n",
      "60000/60000 [==============================] - 9s 151us/step - loss: 0.0137 - acc: 0.9960 - val_loss: 0.0919 - val_acc: 0.9844\n",
      "Epoch 42/100\n",
      "60000/60000 [==============================] - 9s 145us/step - loss: 0.0139 - acc: 0.9960 - val_loss: 0.0835 - val_acc: 0.9849\n",
      "Epoch 43/100\n",
      "60000/60000 [==============================] - 9s 144us/step - loss: 0.0112 - acc: 0.9969 - val_loss: 0.0940 - val_acc: 0.9821\n",
      "Epoch 44/100\n",
      "60000/60000 [==============================] - 9s 152us/step - loss: 0.0116 - acc: 0.9968 - val_loss: 0.0887 - val_acc: 0.9844\n",
      "Epoch 45/100\n",
      "60000/60000 [==============================] - 9s 149us/step - loss: 0.0109 - acc: 0.9967 - val_loss: 0.0789 - val_acc: 0.9857\n",
      "Epoch 46/100\n",
      "60000/60000 [==============================] - 9s 149us/step - loss: 0.0119 - acc: 0.9966 - val_loss: 0.0905 - val_acc: 0.9848\n",
      "Epoch 47/100\n",
      "60000/60000 [==============================] - 9s 147us/step - loss: 0.0126 - acc: 0.9964 - val_loss: 0.0879 - val_acc: 0.9848\n",
      "Epoch 48/100\n",
      "60000/60000 [==============================] - 9s 146us/step - loss: 0.0114 - acc: 0.9968 - val_loss: 0.0913 - val_acc: 0.9852\n",
      "Epoch 49/100\n",
      "60000/60000 [==============================] - 9s 142us/step - loss: 0.0145 - acc: 0.9962 - val_loss: 0.0823 - val_acc: 0.9837\n",
      "Epoch 50/100\n",
      "60000/60000 [==============================] - 9s 151us/step - loss: 0.0134 - acc: 0.9966 - val_loss: 0.1038 - val_acc: 0.9806\n",
      "Epoch 51/100\n",
      "60000/60000 [==============================] - 10s 175us/step - loss: 0.0126 - acc: 0.9966 - val_loss: 0.0897 - val_acc: 0.9845\n",
      "Epoch 52/100\n",
      "60000/60000 [==============================] - 9s 147us/step - loss: 0.0104 - acc: 0.9972 - val_loss: 0.1046 - val_acc: 0.9827\n",
      "Epoch 53/100\n",
      "60000/60000 [==============================] - 9s 144us/step - loss: 0.0111 - acc: 0.9972 - val_loss: 0.0908 - val_acc: 0.9845\n",
      "Epoch 54/100\n",
      "60000/60000 [==============================] - 9s 149us/step - loss: 0.0089 - acc: 0.9975 - val_loss: 0.0940 - val_acc: 0.9837\n",
      "Epoch 55/100\n",
      "60000/60000 [==============================] - 8s 142us/step - loss: 0.0100 - acc: 0.9973 - val_loss: 0.0912 - val_acc: 0.9841\n",
      "Epoch 56/100\n",
      "60000/60000 [==============================] - 9s 145us/step - loss: 0.0113 - acc: 0.9972 - val_loss: 0.0919 - val_acc: 0.9840\n",
      "Epoch 57/100\n",
      "60000/60000 [==============================] - 9s 147us/step - loss: 0.0096 - acc: 0.9971 - val_loss: 0.1002 - val_acc: 0.9845\n",
      "Epoch 58/100\n",
      "60000/60000 [==============================] - 9s 146us/step - loss: 0.0118 - acc: 0.9968 - val_loss: 0.0848 - val_acc: 0.9856\n",
      "Epoch 59/100\n",
      "60000/60000 [==============================] - 9s 147us/step - loss: 0.0092 - acc: 0.9975 - val_loss: 0.0834 - val_acc: 0.9860\n",
      "Epoch 60/100\n",
      "60000/60000 [==============================] - 9s 143us/step - loss: 0.0104 - acc: 0.9971 - val_loss: 0.0946 - val_acc: 0.9853\n",
      "Epoch 61/100\n",
      "60000/60000 [==============================] - 9s 142us/step - loss: 0.0076 - acc: 0.9978 - val_loss: 0.1167 - val_acc: 0.9836\n",
      "Epoch 62/100\n",
      "60000/60000 [==============================] - 9s 142us/step - loss: 0.0115 - acc: 0.9968 - val_loss: 0.0946 - val_acc: 0.9850\n",
      "Epoch 63/100\n",
      "60000/60000 [==============================] - 9s 143us/step - loss: 0.0106 - acc: 0.9971 - val_loss: 0.1071 - val_acc: 0.9838\n",
      "Epoch 64/100\n",
      "60000/60000 [==============================] - 9s 144us/step - loss: 0.0088 - acc: 0.9977 - val_loss: 0.0939 - val_acc: 0.9847\n",
      "Epoch 65/100\n",
      "60000/60000 [==============================] - 9s 150us/step - loss: 0.0093 - acc: 0.9975 - val_loss: 0.1115 - val_acc: 0.9837\n",
      "Epoch 66/100\n",
      "60000/60000 [==============================] - 9s 149us/step - loss: 0.0072 - acc: 0.9980 - val_loss: 0.0993 - val_acc: 0.9849\n",
      "Epoch 67/100\n",
      "60000/60000 [==============================] - 9s 146us/step - loss: 0.0089 - acc: 0.9976 - val_loss: 0.1033 - val_acc: 0.9820\n",
      "Epoch 68/100\n",
      "60000/60000 [==============================] - 9s 152us/step - loss: 0.0118 - acc: 0.9969 - val_loss: 0.0969 - val_acc: 0.9843\n",
      "Epoch 69/100\n",
      "60000/60000 [==============================] - 9s 150us/step - loss: 0.0097 - acc: 0.9975 - val_loss: 0.0992 - val_acc: 0.9840\n",
      "Epoch 70/100\n",
      "60000/60000 [==============================] - 9s 147us/step - loss: 0.0095 - acc: 0.9974 - val_loss: 0.0922 - val_acc: 0.9850\n",
      "Epoch 71/100\n",
      "60000/60000 [==============================] - 9s 150us/step - loss: 0.0084 - acc: 0.9978 - val_loss: 0.0941 - val_acc: 0.9853\n",
      "Epoch 72/100\n",
      "60000/60000 [==============================] - 9s 152us/step - loss: 0.0098 - acc: 0.9976 - val_loss: 0.0933 - val_acc: 0.9844\n",
      "Epoch 73/100\n",
      "60000/60000 [==============================] - 9s 148us/step - loss: 0.0087 - acc: 0.9978 - val_loss: 0.1067 - val_acc: 0.9829\n",
      "Epoch 74/100\n",
      "60000/60000 [==============================] - 8s 141us/step - loss: 0.0071 - acc: 0.9981 - val_loss: 0.1088 - val_acc: 0.9843\n",
      "Epoch 75/100\n",
      "60000/60000 [==============================] - 9s 144us/step - loss: 0.0075 - acc: 0.9979 - val_loss: 0.0989 - val_acc: 0.9848\n",
      "Epoch 76/100\n",
      "60000/60000 [==============================] - 8s 142us/step - loss: 0.0116 - acc: 0.9973 - val_loss: 0.1149 - val_acc: 0.9843\n",
      "Epoch 77/100\n",
      "60000/60000 [==============================] - 8s 141us/step - loss: 0.0121 - acc: 0.9971 - val_loss: 0.1031 - val_acc: 0.9838\n",
      "Epoch 78/100\n",
      "60000/60000 [==============================] - 9s 142us/step - loss: 0.0076 - acc: 0.9979 - val_loss: 0.1062 - val_acc: 0.9841\n",
      "Epoch 79/100\n",
      "60000/60000 [==============================] - 8s 140us/step - loss: 0.0053 - acc: 0.9985 - val_loss: 0.1050 - val_acc: 0.9855\n",
      "Epoch 80/100\n",
      "60000/60000 [==============================] - 8s 140us/step - loss: 0.0084 - acc: 0.9980 - val_loss: 0.1098 - val_acc: 0.9846\n",
      "Epoch 81/100\n",
      "60000/60000 [==============================] - 8s 141us/step - loss: 0.0099 - acc: 0.9975 - val_loss: 0.1064 - val_acc: 0.9850\n",
      "Epoch 82/100\n",
      "60000/60000 [==============================] - 8s 141us/step - loss: 0.0071 - acc: 0.9983 - val_loss: 0.0976 - val_acc: 0.9853\n",
      "Epoch 83/100\n",
      "60000/60000 [==============================] - 9s 142us/step - loss: 0.0070 - acc: 0.9981 - val_loss: 0.1057 - val_acc: 0.9839\n",
      "Epoch 84/100\n",
      "60000/60000 [==============================] - 9s 142us/step - loss: 0.0088 - acc: 0.9976 - val_loss: 0.0870 - val_acc: 0.9862\n",
      "Epoch 85/100\n",
      "60000/60000 [==============================] - 9s 143us/step - loss: 0.0091 - acc: 0.9976 - val_loss: 0.0985 - val_acc: 0.9851\n",
      "Epoch 86/100\n",
      "60000/60000 [==============================] - 8s 141us/step - loss: 0.0088 - acc: 0.9978 - val_loss: 0.1048 - val_acc: 0.9840\n",
      "Epoch 87/100\n",
      "60000/60000 [==============================] - 9s 142us/step - loss: 0.0090 - acc: 0.9978 - val_loss: 0.1100 - val_acc: 0.9849\n",
      "Epoch 88/100\n",
      "60000/60000 [==============================] - 9s 142us/step - loss: 0.0089 - acc: 0.9975 - val_loss: 0.1058 - val_acc: 0.9847\n",
      "Epoch 89/100\n",
      "60000/60000 [==============================] - 8s 141us/step - loss: 0.0101 - acc: 0.9973 - val_loss: 0.1036 - val_acc: 0.9844\n",
      "Epoch 90/100\n",
      "60000/60000 [==============================] - 9s 145us/step - loss: 0.0081 - acc: 0.9980 - val_loss: 0.1047 - val_acc: 0.9849\n",
      "Epoch 91/100\n",
      "60000/60000 [==============================] - 9s 143us/step - loss: 0.0067 - acc: 0.9984 - val_loss: 0.1234 - val_acc: 0.9837\n",
      "Epoch 92/100\n",
      "60000/60000 [==============================] - 9s 144us/step - loss: 0.0072 - acc: 0.9979 - val_loss: 0.1082 - val_acc: 0.9843\n",
      "Epoch 93/100\n",
      "60000/60000 [==============================] - 9s 146us/step - loss: 0.0082 - acc: 0.9978 - val_loss: 0.1142 - val_acc: 0.9853\n",
      "Epoch 94/100\n",
      "60000/60000 [==============================] - 8s 140us/step - loss: 0.0073 - acc: 0.9983 - val_loss: 0.1001 - val_acc: 0.9854\n",
      "Epoch 95/100\n",
      "60000/60000 [==============================] - 8s 138us/step - loss: 0.0092 - acc: 0.9980 - val_loss: 0.1105 - val_acc: 0.9837\n",
      "Epoch 96/100\n",
      "60000/60000 [==============================] - 8s 140us/step - loss: 0.0089 - acc: 0.9978 - val_loss: 0.1151 - val_acc: 0.9843\n",
      "Epoch 97/100\n",
      "60000/60000 [==============================] - 9s 146us/step - loss: 0.0073 - acc: 0.9980 - val_loss: 0.1099 - val_acc: 0.9849\n",
      "Epoch 98/100\n",
      "60000/60000 [==============================] - 9s 146us/step - loss: 0.0057 - acc: 0.9984 - val_loss: 0.1122 - val_acc: 0.9843\n",
      "Epoch 99/100\n",
      "60000/60000 [==============================] - 9s 144us/step - loss: 0.0078 - acc: 0.9981 - val_loss: 0.1261 - val_acc: 0.9829\n",
      "Epoch 100/100\n",
      "60000/60000 [==============================] - 9s 142us/step - loss: 0.0111 - acc: 0.9975 - val_loss: 0.1143 - val_acc: 0.9842\n"
     ]
    },
    {
     "ename": "TypeError",
     "evalue": "plot_histories() missing 1 required positional argument: 'layer_sizes'",
     "output_type": "error",
     "traceback": [
      "\u001b[0;31m---------------------------------------------------------------------------\u001b[0m",
      "\u001b[0;31mTypeError\u001b[0m                                 Traceback (most recent call last)",
      "\u001b[0;32m<ipython-input-151-30d186fe1900>\u001b[0m in \u001b[0;36m<module>\u001b[0;34m\u001b[0m\n\u001b[1;32m      6\u001b[0m \u001b[0;34m\u001b[0m\u001b[0m\n\u001b[1;32m      7\u001b[0m \u001b[0mhistories\u001b[0m \u001b[0;34m=\u001b[0m \u001b[0mbenchmark\u001b[0m\u001b[0;34m(\u001b[0m\u001b[0mlayer_sizes\u001b[0m\u001b[0;34m,\u001b[0m \u001b[0mepochs\u001b[0m\u001b[0;34m=\u001b[0m\u001b[0;36m100\u001b[0m\u001b[0;34m)\u001b[0m\u001b[0;34m\u001b[0m\u001b[0;34m\u001b[0m\u001b[0m\n\u001b[0;32m----> 8\u001b[0;31m \u001b[0mplot_histories\u001b[0m\u001b[0;34m(\u001b[0m\u001b[0mhistories\u001b[0m\u001b[0;34m)\u001b[0m\u001b[0;34m\u001b[0m\u001b[0;34m\u001b[0m\u001b[0m\n\u001b[0m",
      "\u001b[0;31mTypeError\u001b[0m: plot_histories() missing 1 required positional argument: 'layer_sizes'"
     ]
    }
   ],
   "source": [
    "layer_sizes = [\n",
    "    [256, 128, 64],\n",
    "    [512, 256, 128],\n",
    "    [512, 256, 128, 64]\n",
    "]\n",
    "\n",
    "histories = benchmark(layer_sizes, epochs=100)"
   ]
  },
  {
   "cell_type": "code",
   "execution_count": 155,
   "metadata": {},
   "outputs": [
    {
     "data": {
      "image/png": "[encoded data removed]",
      "text/plain": [
       "<Figure size 1008x720 with 1 Axes>"
      ]
     },
     "metadata": {
      "image/png": {
       "height": 576,
       "width": 833
      },
      "needs_background": "light"
     },
     "output_type": "display_data"
    }
   ],
   "source": [
    "plot_histories(histories, layer_sizes, 'val_acc')"
   ]
  },
  {
   "cell_type": "code",
   "execution_count": null,
   "metadata": {},
   "outputs": [],
   "source": []
  }
 ],
 "metadata": {
  "kernelspec": {
   "display_name": "Python 3",
   "language": "python",
   "name": "python3"
  },
  "language_info": {
   "codemirror_mode": {
    "name": "ipython",
    "version": 3
   },
   "file_extension": ".py",
   "mimetype": "text/x-python",
   "name": "python",
   "nbconvert_exporter": "python",
   "pygments_lexer": "ipython3",
   "version": "3.6.8"
  }
 },
 "nbformat": 4,
 "nbformat_minor": 2
}
