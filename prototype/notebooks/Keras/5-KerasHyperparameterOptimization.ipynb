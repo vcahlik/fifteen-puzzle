{
 "cells": [
  {
   "cell_type": "code",
   "execution_count": 1,
   "metadata": {},
   "outputs": [],
   "source": [
    "from __future__ import print_function\n",
    "\n",
    "import tensorflow as tf\n",
    "\n",
    "from tensorflow.keras.models import Sequential\n",
    "from tensorflow.keras.layers import Activation, Dense, Dropout\n",
    "from tensorflow.keras.optimizers import RMSprop, Adam\n",
    "from tensorflow.keras.layers import BatchNormalization\n",
    "from tensorflow.keras.models import load_model\n",
    "from tensorflow.keras.callbacks import Callback\n",
    "from tensorflow.keras import regularizers"
   ]
  },
  {
   "cell_type": "code",
   "execution_count": 2,
   "metadata": {},
   "outputs": [],
   "source": [
    "import matplotlib.pyplot as plt\n",
    "import numpy as np\n",
    "import pandas as pd\n",
    "plt.style.use('ggplot')\n",
    "\n",
    "%matplotlib inline\n",
    "%config InlineBackend.figure_format='retina'"
   ]
  },
  {
   "cell_type": "code",
   "execution_count": 3,
   "metadata": {},
   "outputs": [],
   "source": [
    "from tensorflow.keras import backend as K\n",
    "# assert len(backend.tensorflow_backend._get_available_gpus()) > 0"
   ]
  },
  {
   "cell_type": "markdown",
   "metadata": {},
   "source": [
    "# Perform the search"
   ]
  },
  {
   "cell_type": "code",
   "execution_count": 4,
   "metadata": {},
   "outputs": [
    {
     "data": {
      "text/plain": [
       "(4000000, 17)"
      ]
     },
     "execution_count": 4,
     "metadata": {},
     "output_type": "execute_result"
    }
   ],
   "source": [
    "costs = pd.read_csv(\"~/code/fifteen-puzzle/data/datasets/15-costs-v1.csv\", nrows=4000000)\n",
    "costs.shape"
   ]
  },
  {
   "cell_type": "code",
   "execution_count": 5,
   "metadata": {},
   "outputs": [
    {
     "data": {
      "text/html": [
       "<div>\n",
       "<style scoped>\n",
       "    .dataframe tbody tr th:only-of-type {\n",
       "        vertical-align: middle;\n",
       "    }\n",
       "\n",
       "    .dataframe tbody tr th {\n",
       "        vertical-align: top;\n",
       "    }\n",
       "\n",
       "    .dataframe thead th {\n",
       "        text-align: right;\n",
       "    }\n",
       "</style>\n",
       "<table border=\"1\" class=\"dataframe\">\n",
       "  <thead>\n",
       "    <tr style=\"text-align: right;\">\n",
       "      <th></th>\n",
       "      <th>0</th>\n",
       "      <th>1</th>\n",
       "      <th>2</th>\n",
       "      <th>3</th>\n",
       "      <th>4</th>\n",
       "      <th>5</th>\n",
       "      <th>6</th>\n",
       "      <th>7</th>\n",
       "      <th>8</th>\n",
       "      <th>9</th>\n",
       "      <th>10</th>\n",
       "      <th>11</th>\n",
       "      <th>12</th>\n",
       "      <th>13</th>\n",
       "      <th>14</th>\n",
       "      <th>15</th>\n",
       "      <th>cost</th>\n",
       "    </tr>\n",
       "  </thead>\n",
       "  <tbody>\n",
       "    <tr>\n",
       "      <th>0</th>\n",
       "      <td>13</td>\n",
       "      <td>4</td>\n",
       "      <td>7</td>\n",
       "      <td>15</td>\n",
       "      <td>8</td>\n",
       "      <td>0</td>\n",
       "      <td>2</td>\n",
       "      <td>1</td>\n",
       "      <td>9</td>\n",
       "      <td>6</td>\n",
       "      <td>10</td>\n",
       "      <td>14</td>\n",
       "      <td>3</td>\n",
       "      <td>12</td>\n",
       "      <td>5</td>\n",
       "      <td>11</td>\n",
       "      <td>56</td>\n",
       "    </tr>\n",
       "    <tr>\n",
       "      <th>1</th>\n",
       "      <td>10</td>\n",
       "      <td>2</td>\n",
       "      <td>4</td>\n",
       "      <td>12</td>\n",
       "      <td>3</td>\n",
       "      <td>13</td>\n",
       "      <td>8</td>\n",
       "      <td>0</td>\n",
       "      <td>1</td>\n",
       "      <td>5</td>\n",
       "      <td>6</td>\n",
       "      <td>7</td>\n",
       "      <td>14</td>\n",
       "      <td>9</td>\n",
       "      <td>11</td>\n",
       "      <td>15</td>\n",
       "      <td>34</td>\n",
       "    </tr>\n",
       "    <tr>\n",
       "      <th>2</th>\n",
       "      <td>8</td>\n",
       "      <td>15</td>\n",
       "      <td>11</td>\n",
       "      <td>14</td>\n",
       "      <td>13</td>\n",
       "      <td>5</td>\n",
       "      <td>6</td>\n",
       "      <td>7</td>\n",
       "      <td>4</td>\n",
       "      <td>9</td>\n",
       "      <td>12</td>\n",
       "      <td>0</td>\n",
       "      <td>1</td>\n",
       "      <td>2</td>\n",
       "      <td>10</td>\n",
       "      <td>3</td>\n",
       "      <td>59</td>\n",
       "    </tr>\n",
       "    <tr>\n",
       "      <th>3</th>\n",
       "      <td>1</td>\n",
       "      <td>0</td>\n",
       "      <td>10</td>\n",
       "      <td>6</td>\n",
       "      <td>2</td>\n",
       "      <td>3</td>\n",
       "      <td>14</td>\n",
       "      <td>8</td>\n",
       "      <td>9</td>\n",
       "      <td>7</td>\n",
       "      <td>4</td>\n",
       "      <td>13</td>\n",
       "      <td>5</td>\n",
       "      <td>11</td>\n",
       "      <td>12</td>\n",
       "      <td>15</td>\n",
       "      <td>43</td>\n",
       "    </tr>\n",
       "    <tr>\n",
       "      <th>4</th>\n",
       "      <td>1</td>\n",
       "      <td>5</td>\n",
       "      <td>6</td>\n",
       "      <td>8</td>\n",
       "      <td>3</td>\n",
       "      <td>4</td>\n",
       "      <td>9</td>\n",
       "      <td>14</td>\n",
       "      <td>11</td>\n",
       "      <td>10</td>\n",
       "      <td>2</td>\n",
       "      <td>12</td>\n",
       "      <td>13</td>\n",
       "      <td>15</td>\n",
       "      <td>0</td>\n",
       "      <td>7</td>\n",
       "      <td>41</td>\n",
       "    </tr>\n",
       "  </tbody>\n",
       "</table>\n",
       "</div>"
      ],
      "text/plain": [
       "    0   1   2   3   4   5   6   7   8   9  10  11  12  13  14  15  cost\n",
       "0  13   4   7  15   8   0   2   1   9   6  10  14   3  12   5  11    56\n",
       "1  10   2   4  12   3  13   8   0   1   5   6   7  14   9  11  15    34\n",
       "2   8  15  11  14  13   5   6   7   4   9  12   0   1   2  10   3    59\n",
       "3   1   0  10   6   2   3  14   8   9   7   4  13   5  11  12  15    43\n",
       "4   1   5   6   8   3   4   9  14  11  10   2  12  13  15   0   7    41"
      ]
     },
     "execution_count": 5,
     "metadata": {},
     "output_type": "execute_result"
    }
   ],
   "source": [
    "costs.head()"
   ]
  },
  {
   "cell_type": "code",
   "execution_count": 6,
   "metadata": {},
   "outputs": [
    {
     "data": {
      "image/png": "[encoded data removed]",
      "text/plain": [
       "<Figure size 432x288 with 1 Axes>"
      ]
     },
     "metadata": {
      "image/png": {
       "height": 250,
       "width": 381
      },
      "needs_background": "light"
     },
     "output_type": "display_data"
    }
   ],
   "source": [
    "costs.sample(10000).cost.hist(bins=20);"
   ]
  },
  {
   "cell_type": "code",
   "execution_count": 7,
   "metadata": {},
   "outputs": [],
   "source": [
    "X_raw = costs.iloc[:,:-1].values\n",
    "y = costs['cost'].values"
   ]
  },
  {
   "cell_type": "code",
   "execution_count": 8,
   "metadata": {},
   "outputs": [],
   "source": [
    "X = np.apply_along_axis(lambda x: np.eye(16)[x].ravel(), 1, X_raw)"
   ]
  },
  {
   "cell_type": "code",
   "execution_count": 9,
   "metadata": {},
   "outputs": [],
   "source": [
    "from sklearn.model_selection import train_test_split\n",
    "\n",
    "X_train, X_valid, y_train, y_valid = train_test_split(X, y, test_size=0.2, random_state=42)"
   ]
  },
  {
   "cell_type": "code",
   "execution_count": 10,
   "metadata": {},
   "outputs": [],
   "source": [
    "def asymmetric_mean_squared_error(y_true, y_pred):\n",
    "    return K.mean(K.square(y_pred - y_true) * K.square(K.sign(y_pred - y_true) + 0.4), axis=-1)\n",
    "\n",
    "def get_model(layer_sizes, \n",
    "              learning_rate=0.001, \n",
    "              dropout_ratio=0.2, \n",
    "              activation='elu', \n",
    "              loss='mean_squared_error',\n",
    "              kernel_initializer='he_normal', \n",
    "              batch_normalize=True,\n",
    "              kernel_regularizer=None):\n",
    "    model = Sequential()\n",
    "    model.add(Dense(layer_sizes[0], \n",
    "                    input_shape=(256,), \n",
    "                    activation=activation, \n",
    "                    kernel_initializer=kernel_initializer,\n",
    "                    kernel_regularizer=kernel_regularizer))\n",
    "    model.add(Activation(activation))\n",
    "    if batch_normalize:\n",
    "        model.add(BatchNormalization())\n",
    "    model.add(Dropout(dropout_ratio))\n",
    "    \n",
    "    for layer_size in layer_sizes[1:]:\n",
    "        model.add(Dense(layer_size, \n",
    "                        activation=activation, \n",
    "                        kernel_initializer=kernel_initializer,\n",
    "                        kernel_regularizer=kernel_regularizer))\n",
    "        model.add(Activation(activation))\n",
    "        if batch_normalize:\n",
    "            model.add(BatchNormalization())\n",
    "        model.add(Dropout(dropout_ratio))\n",
    "\n",
    "    model.add(Dense(1, kernel_initializer='he_normal', kernel_regularizer=kernel_regularizer))\n",
    "    model.compile(loss=loss,\n",
    "                  optimizer=Adam(lr=learning_rate),\n",
    "                  metrics=['accuracy'])\n",
    "    return model"
   ]
  },
  {
   "cell_type": "code",
   "execution_count": 11,
   "metadata": {},
   "outputs": [],
   "source": [
    "params_layer_sizes = [\n",
    "#     [1024, 512, 256],\n",
    "#     [2048, 1024, 512],\n",
    "#     [1024, 512, 256, 128],\n",
    "#     [2048, 1024, 512, 256],\n",
    "    [1024, 512, 256, 128, 64],\n",
    "#     [2048, 1024, 512, 256, 128],\n",
    "#     [1024, 512, 256, 128, 64, 32],\n",
    "#     [2048, 1024, 512, 256, 128, 64],\n",
    "#     [1024, 512, 256, 128, 64, 32, 16],\n",
    "#     [2048, 1024, 512, 256, 128, 64, 32]\n",
    "]\n",
    "\n",
    "params_dropout = [0.2]\n",
    "\n",
    "params_regularizer = [regularizers.l2(0.000001), regularizers.l2(0.00001)]\n",
    "\n",
    "results_history = dict()"
   ]
  },
  {
   "cell_type": "code",
   "execution_count": 12,
   "metadata": {},
   "outputs": [
    {
     "name": "stdout",
     "output_type": "stream",
     "text": [
      "### ANN TRAINING STARTED, layers: [1024, 512, 256, 128, 64], dropout: 0.2 ###\n",
      "WARNING:tensorflow:From /home/vojta/.miniconda3/envs/fifteen-puzzle/lib/python3.7/site-packages/tensorflow_core/python/ops/resource_variable_ops.py:1630: calling BaseResourceVariable.__init__ (from tensorflow.python.ops.resource_variable_ops) with constraint is deprecated and will be removed in a future version.\n",
      "Instructions for updating:\n",
      "If using Keras pass *_constraint arguments to layers.\n",
      "Train on 3200000 samples, validate on 800000 samples\n",
      "Epoch 1/5\n",
      "3200000/3200000 [==============================] - 866s 271us/sample - loss: 8.5904 - acc: 6.2500e-07 - val_loss: 3.8974 - val_acc: 0.0000e+00\n",
      "Epoch 2/5\n",
      "3200000/3200000 [==============================] - 873s 273us/sample - loss: 5.5754 - acc: 6.2500e-07 - val_loss: 3.7264 - val_acc: 0.0000e+00\n",
      "Epoch 3/5\n",
      "3200000/3200000 [==============================] - 861s 269us/sample - loss: 5.3773 - acc: 6.2500e-07 - val_loss: 4.5093 - val_acc: 0.0000e+00\n",
      "Epoch 4/5\n",
      "3200000/3200000 [==============================] - 869s 272us/sample - loss: 5.2749 - acc: 3.1250e-07 - val_loss: 3.9990 - val_acc: 0.0000e+00\n",
      "### ANN TRAINING ENDED, val_loss: 3.7263705921936037, n_epochs: 4 ###\n",
      "### ANN TRAINING STARTED, layers: [1024, 512, 256, 128, 64], dropout: 0.2 ###\n",
      "Train on 3200000 samples, validate on 800000 samples\n",
      "Epoch 1/5\n",
      "3200000/3200000 [==============================] - 889s 278us/sample - loss: 10.0499 - acc: 6.2500e-07 - val_loss: 5.1968 - val_acc: 0.0000e+00\n",
      "Epoch 2/5\n",
      "3200000/3200000 [==============================] - 893s 279us/sample - loss: 6.8935 - acc: 6.2500e-07 - val_loss: 5.0336 - val_acc: 0.0000e+00\n",
      "Epoch 3/5\n",
      "3200000/3200000 [==============================] - 895s 280us/sample - loss: 6.6632 - acc: 3.1250e-07 - val_loss: 5.5437 - val_acc: 0.0000e+00\n",
      "Epoch 4/5\n",
      "3200000/3200000 [==============================] - 899s 281us/sample - loss: 6.6440 - acc: 3.1250e-07 - val_loss: 6.5246 - val_acc: 0.0000e+00\n",
      "### ANN TRAINING ENDED, val_loss: 5.033572533721924, n_epochs: 4 ###\n"
     ]
    }
   ],
   "source": [
    "for layer_sizes in params_layer_sizes:\n",
    "    for dropout in params_dropout:\n",
    "        for regularizer in params_regularizer:\n",
    "            name = f\"layers: {layer_sizes}, dropout: {dropout}\"\n",
    "            print(f\"### ANN TRAINING STARTED, {name} ###\")\n",
    "\n",
    "            early_stopping = tf.keras.callbacks.EarlyStopping(patience=2, verbose=0, restore_best_weights=False)\n",
    "\n",
    "            model = get_model(layer_sizes, \n",
    "                              learning_rate=0.03, \n",
    "                              dropout_ratio=dropout,\n",
    "                              loss=asymmetric_mean_squared_error,\n",
    "                              kernel_regularizer=regularizer)\n",
    "\n",
    "            history = model.fit(X_train, y_train,\n",
    "                                batch_size=256,\n",
    "                                epochs=5,\n",
    "                                verbose=1,\n",
    "                                validation_data=(X_valid, y_valid),\n",
    "                                callbacks=[early_stopping])\n",
    "\n",
    "            val_loss = min(history.history['val_loss'])\n",
    "            n_epochs = len(history.history['val_loss'])\n",
    "            results = f\"val_loss: {val_loss}, n_epochs: {n_epochs}\"\n",
    "            print(f\"### ANN TRAINING ENDED, {results} ###\")\n",
    "            results_history[name] = results"
   ]
  },
  {
   "cell_type": "code",
   "execution_count": 13,
   "metadata": {},
   "outputs": [
    {
     "data": {
      "text/plain": [
       "{'layers: [1024, 512, 256, 128, 64], dropout: 0.2': 'val_loss: 5.033572533721924, n_epochs: 4'}"
      ]
     },
     "execution_count": 13,
     "metadata": {},
     "output_type": "execute_result"
    }
   ],
   "source": [
    "results_history"
   ]
  },
  {
   "cell_type": "markdown",
   "metadata": {},
   "source": [
    "# Results"
   ]
  },
  {
   "cell_type": "markdown",
   "metadata": {},
   "source": [
    "layers: [1024, 512, 256, 128], dropout: 0.2, val_loss: 2.537219319267273, n_epochs: 3\n",
    "\n",
    "layers: [1024, 512, 256, 128], dropout: 0.4, val_loss: 2.3189011152648926, n_epochs: 4\n",
    "\n",
    "layers: [1024, 512, 256, 128, 64], dropout: 0.2, val_loss: 2.167449114265442, n_epochs: 4\n",
    "\n",
    "layers: [1024, 512, 256, 128, 64], dropout: 0.4, val_loss: 2.9026869491577147, n_epochs: 3\n",
    "\n",
    "layers: [2048, 1024, 512, 256, 128], dropout: 0.2, val_loss: 2.151426022758484, n_epochs: 4\n",
    "\n",
    "layers: [1024, 512, 256, 128, 64, 32], dropout: 0.2, val_loss: 2.3699882026672365, n_epochs: 4\n",
    "\n",
    "layers: [1024, 512, 256, 128, 64, 32], dropout: 0.4, val_loss: 2.7748224792861937, n_epochs: 4\n",
    "\n",
    "layers: [1024, 512, 256, 128, 64, 32, 16], dropout: 0.2, val_loss: 2.4911141011428835, n_epochs: 4\n",
    "\n",
    "layers: [1024, 512, 256, 128, 64, 32, 16], dropout: 0.4, val_loss: 2.9838143817138674, n_epochs: 4\n",
    "\n",
    "layers: [1024, 512, 256, 128, 64], dropout: 0.2, l2: 0.000001, val_loss: 3.7263705921936037, n_epochs: 4\n",
    "\n",
    "layers: [1024, 512, 256, 128, 64], dropout: 0.2, l2: 0.00001, val_loss: 5.033572533721924, n_epochs: 4"
   ]
  },
  {
   "cell_type": "code",
   "execution_count": null,
   "metadata": {},
   "outputs": [],
   "source": []
  }
 ],
 "metadata": {
  "kernelspec": {
   "display_name": "Python 3",
   "language": "python",
   "name": "python3"
  },
  "language_info": {
   "codemirror_mode": {
    "name": "ipython",
    "version": 3
   },
   "file_extension": ".py",
   "mimetype": "text/x-python",
   "name": "python",
   "nbconvert_exporter": "python",
   "pygments_lexer": "ipython3",
   "version": "3.7.5"
  }
 },
 "nbformat": 4,
 "nbformat_minor": 2
}
