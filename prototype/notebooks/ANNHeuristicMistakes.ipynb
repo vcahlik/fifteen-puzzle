{
 "cells": [
  {
   "cell_type": "code",
   "execution_count": 5,
   "metadata": {},
   "outputs": [],
   "source": [
    "import matplotlib.pyplot as plt\n",
    "import numpy as np\n",
    "import pandas as pd\n",
    "plt.style.use('ggplot')\n",
    "\n",
    "%matplotlib inline\n",
    "%config InlineBackend.figure_format='retina'"
   ]
  },
  {
   "cell_type": "code",
   "execution_count": 19,
   "metadata": {},
   "outputs": [
    {
     "data": {
      "text/plain": [
       "(712, 9)"
      ]
     },
     "execution_count": 19,
     "metadata": {},
     "output_type": "execute_result"
    }
   ],
   "source": [
    "results = pd.read_csv(\"/home/batman/code/fifteen-puzzle/data/experiments/chaotic-generator-heuristic-benchmark.csv\")\n",
    "results.shape"
   ]
  },
  {
   "cell_type": "code",
   "execution_count": 20,
   "metadata": {},
   "outputs": [
    {
     "data": {
      "text/html": [
       "<div>\n",
       "<style scoped>\n",
       "    .dataframe tbody tr th:only-of-type {\n",
       "        vertical-align: middle;\n",
       "    }\n",
       "\n",
       "    .dataframe tbody tr th {\n",
       "        vertical-align: top;\n",
       "    }\n",
       "\n",
       "    .dataframe thead th {\n",
       "        text-align: right;\n",
       "    }\n",
       "</style>\n",
       "<table border=\"1\" class=\"dataframe\">\n",
       "  <thead>\n",
       "    <tr style=\"text-align: right;\">\n",
       "      <th></th>\n",
       "      <th>PROCESS_ID</th>\n",
       "      <th>BOARD_ID</th>\n",
       "      <th>ALGORITHM_NAME</th>\n",
       "      <th>HEURISTIC_NAME</th>\n",
       "      <th>BOARDS_GENERATOR_NAME</th>\n",
       "      <th>RUN_TIME</th>\n",
       "      <th>SOLUTION_COST</th>\n",
       "      <th>EXPANDED_NODES</th>\n",
       "      <th>INITIAL_HEURISTIC_PREDICTION</th>\n",
       "    </tr>\n",
       "  </thead>\n",
       "  <tbody>\n",
       "    <tr>\n",
       "      <th>0</th>\n",
       "      <td>2019-03-17 18:07:44.223874 PID4361</td>\n",
       "      <td>1</td>\n",
       "      <td>A*</td>\n",
       "      <td>PDB[Pat:5]</td>\n",
       "      <td>ChaoticSHF[MaxCnt:1500]</td>\n",
       "      <td>0.268062</td>\n",
       "      <td>41</td>\n",
       "      <td>1798</td>\n",
       "      <td>35.000000</td>\n",
       "    </tr>\n",
       "    <tr>\n",
       "      <th>1</th>\n",
       "      <td>2019-03-17 18:07:44.247481 PID4370</td>\n",
       "      <td>1</td>\n",
       "      <td>A*</td>\n",
       "      <td>PDB[Pat:5]</td>\n",
       "      <td>ChaoticSHF[MaxCnt:1500]</td>\n",
       "      <td>1.867945</td>\n",
       "      <td>35</td>\n",
       "      <td>10776</td>\n",
       "      <td>25.000000</td>\n",
       "    </tr>\n",
       "    <tr>\n",
       "      <th>2</th>\n",
       "      <td>2019-03-17 18:07:44.261788 PID4374</td>\n",
       "      <td>1</td>\n",
       "      <td>A*</td>\n",
       "      <td>PDB[Pat:5]</td>\n",
       "      <td>ChaoticSHF[MaxCnt:1500]</td>\n",
       "      <td>6.476680</td>\n",
       "      <td>45</td>\n",
       "      <td>34062</td>\n",
       "      <td>37.000000</td>\n",
       "    </tr>\n",
       "    <tr>\n",
       "      <th>3</th>\n",
       "      <td>2019-03-17 18:07:44.215227 PID4359</td>\n",
       "      <td>1</td>\n",
       "      <td>A*</td>\n",
       "      <td>PDB[Pat:5]</td>\n",
       "      <td>ChaoticSHF[MaxCnt:1500]</td>\n",
       "      <td>7.567029</td>\n",
       "      <td>46</td>\n",
       "      <td>35489</td>\n",
       "      <td>36.000000</td>\n",
       "    </tr>\n",
       "    <tr>\n",
       "      <th>4</th>\n",
       "      <td>2019-03-17 18:07:44.223874 PID4361</td>\n",
       "      <td>1</td>\n",
       "      <td>A*</td>\n",
       "      <td>ANN[Const:0]</td>\n",
       "      <td>ChaoticSHF[MaxCnt:1500]</td>\n",
       "      <td>1.393123</td>\n",
       "      <td>41</td>\n",
       "      <td>275</td>\n",
       "      <td>43.852619</td>\n",
       "    </tr>\n",
       "  </tbody>\n",
       "</table>\n",
       "</div>"
      ],
      "text/plain": [
       "                           PROCESS_ID  BOARD_ID ALGORITHM_NAME HEURISTIC_NAME  \\\n",
       "0  2019-03-17 18:07:44.223874 PID4361         1             A*     PDB[Pat:5]   \n",
       "1  2019-03-17 18:07:44.247481 PID4370         1             A*     PDB[Pat:5]   \n",
       "2  2019-03-17 18:07:44.261788 PID4374         1             A*     PDB[Pat:5]   \n",
       "3  2019-03-17 18:07:44.215227 PID4359         1             A*     PDB[Pat:5]   \n",
       "4  2019-03-17 18:07:44.223874 PID4361         1             A*   ANN[Const:0]   \n",
       "\n",
       "     BOARDS_GENERATOR_NAME  RUN_TIME  SOLUTION_COST  EXPANDED_NODES  \\\n",
       "0  ChaoticSHF[MaxCnt:1500]  0.268062             41            1798   \n",
       "1  ChaoticSHF[MaxCnt:1500]  1.867945             35           10776   \n",
       "2  ChaoticSHF[MaxCnt:1500]  6.476680             45           34062   \n",
       "3  ChaoticSHF[MaxCnt:1500]  7.567029             46           35489   \n",
       "4  ChaoticSHF[MaxCnt:1500]  1.393123             41             275   \n",
       "\n",
       "   INITIAL_HEURISTIC_PREDICTION  \n",
       "0                     35.000000  \n",
       "1                     25.000000  \n",
       "2                     37.000000  \n",
       "3                     36.000000  \n",
       "4                     43.852619  "
      ]
     },
     "execution_count": 20,
     "metadata": {},
     "output_type": "execute_result"
    }
   ],
   "source": [
    "results.head()"
   ]
  },
  {
   "cell_type": "code",
   "execution_count": 21,
   "metadata": {},
   "outputs": [
    {
     "data": {
      "text/plain": [
       "(349, 9)"
      ]
     },
     "execution_count": 21,
     "metadata": {},
     "output_type": "execute_result"
    }
   ],
   "source": [
    "ann_results = results[results.HEURISTIC_NAME == \"ANN[Const:0]\"]\n",
    "ann_results.shape"
   ]
  },
  {
   "cell_type": "code",
   "execution_count": 22,
   "metadata": {},
   "outputs": [
    {
     "data": {
      "text/plain": [
       "(363, 9)"
      ]
     },
     "execution_count": 22,
     "metadata": {},
     "output_type": "execute_result"
    }
   ],
   "source": [
    "pdb_results = results[results.HEURISTIC_NAME == \"PDB[Pat:5]\"]\n",
    "pdb_results.shape"
   ]
  },
  {
   "cell_type": "code",
   "execution_count": 23,
   "metadata": {},
   "outputs": [],
   "source": [
    "def optimal_cost(row):\n",
    "    process_id = row[\"PROCESS_ID\"]\n",
    "    board_id = row[\"BOARD_ID\"]\n",
    "    \n",
    "    pdb_row_df = pdb_results[(pdb_results.PROCESS_ID == process_id) & (pdb_results.BOARD_ID == board_id)]\n",
    "    return pdb_row_df.iloc[0][\"SOLUTION_COST\"]"
   ]
  },
  {
   "cell_type": "code",
   "execution_count": 24,
   "metadata": {},
   "outputs": [],
   "source": [
    "results_complete = results.copy()\n",
    "\n",
    "results_complete[\"OPTIMAL_SOLUTION_COST\"] = results_complete.apply(lambda row: optimal_cost(row), axis=1)\n",
    "results_complete[\"SOLUTION_COST_ERROR\"] = results_complete[\"SOLUTION_COST\"] - results_complete[\"OPTIMAL_SOLUTION_COST\"]\n",
    "results_complete[\"INITIAL_HEURISTIC_PREDICTION_ERROR\"] = results_complete[\"INITIAL_HEURISTIC_PREDICTION\"] - results_complete[\"OPTIMAL_SOLUTION_COST\"]"
   ]
  },
  {
   "cell_type": "code",
   "execution_count": 25,
   "metadata": {},
   "outputs": [
    {
     "data": {
      "text/html": [
       "<div>\n",
       "<style scoped>\n",
       "    .dataframe tbody tr th:only-of-type {\n",
       "        vertical-align: middle;\n",
       "    }\n",
       "\n",
       "    .dataframe tbody tr th {\n",
       "        vertical-align: top;\n",
       "    }\n",
       "\n",
       "    .dataframe thead th {\n",
       "        text-align: right;\n",
       "    }\n",
       "</style>\n",
       "<table border=\"1\" class=\"dataframe\">\n",
       "  <thead>\n",
       "    <tr style=\"text-align: right;\">\n",
       "      <th></th>\n",
       "      <th>PROCESS_ID</th>\n",
       "      <th>BOARD_ID</th>\n",
       "      <th>ALGORITHM_NAME</th>\n",
       "      <th>HEURISTIC_NAME</th>\n",
       "      <th>BOARDS_GENERATOR_NAME</th>\n",
       "      <th>RUN_TIME</th>\n",
       "      <th>SOLUTION_COST</th>\n",
       "      <th>EXPANDED_NODES</th>\n",
       "      <th>INITIAL_HEURISTIC_PREDICTION</th>\n",
       "      <th>OPTIMAL_SOLUTION_COST</th>\n",
       "      <th>SOLUTION_COST_ERROR</th>\n",
       "      <th>INITIAL_HEURISTIC_PREDICTION_ERROR</th>\n",
       "    </tr>\n",
       "  </thead>\n",
       "  <tbody>\n",
       "    <tr>\n",
       "      <th>0</th>\n",
       "      <td>2019-03-17 18:07:44.223874 PID4361</td>\n",
       "      <td>1</td>\n",
       "      <td>A*</td>\n",
       "      <td>PDB[Pat:5]</td>\n",
       "      <td>ChaoticSHF[MaxCnt:1500]</td>\n",
       "      <td>0.268062</td>\n",
       "      <td>41</td>\n",
       "      <td>1798</td>\n",
       "      <td>35.000000</td>\n",
       "      <td>41</td>\n",
       "      <td>0</td>\n",
       "      <td>-6.000000</td>\n",
       "    </tr>\n",
       "    <tr>\n",
       "      <th>1</th>\n",
       "      <td>2019-03-17 18:07:44.247481 PID4370</td>\n",
       "      <td>1</td>\n",
       "      <td>A*</td>\n",
       "      <td>PDB[Pat:5]</td>\n",
       "      <td>ChaoticSHF[MaxCnt:1500]</td>\n",
       "      <td>1.867945</td>\n",
       "      <td>35</td>\n",
       "      <td>10776</td>\n",
       "      <td>25.000000</td>\n",
       "      <td>35</td>\n",
       "      <td>0</td>\n",
       "      <td>-10.000000</td>\n",
       "    </tr>\n",
       "    <tr>\n",
       "      <th>2</th>\n",
       "      <td>2019-03-17 18:07:44.261788 PID4374</td>\n",
       "      <td>1</td>\n",
       "      <td>A*</td>\n",
       "      <td>PDB[Pat:5]</td>\n",
       "      <td>ChaoticSHF[MaxCnt:1500]</td>\n",
       "      <td>6.476680</td>\n",
       "      <td>45</td>\n",
       "      <td>34062</td>\n",
       "      <td>37.000000</td>\n",
       "      <td>45</td>\n",
       "      <td>0</td>\n",
       "      <td>-8.000000</td>\n",
       "    </tr>\n",
       "    <tr>\n",
       "      <th>3</th>\n",
       "      <td>2019-03-17 18:07:44.215227 PID4359</td>\n",
       "      <td>1</td>\n",
       "      <td>A*</td>\n",
       "      <td>PDB[Pat:5]</td>\n",
       "      <td>ChaoticSHF[MaxCnt:1500]</td>\n",
       "      <td>7.567029</td>\n",
       "      <td>46</td>\n",
       "      <td>35489</td>\n",
       "      <td>36.000000</td>\n",
       "      <td>46</td>\n",
       "      <td>0</td>\n",
       "      <td>-10.000000</td>\n",
       "    </tr>\n",
       "    <tr>\n",
       "      <th>4</th>\n",
       "      <td>2019-03-17 18:07:44.223874 PID4361</td>\n",
       "      <td>1</td>\n",
       "      <td>A*</td>\n",
       "      <td>ANN[Const:0]</td>\n",
       "      <td>ChaoticSHF[MaxCnt:1500]</td>\n",
       "      <td>1.393123</td>\n",
       "      <td>41</td>\n",
       "      <td>275</td>\n",
       "      <td>43.852619</td>\n",
       "      <td>41</td>\n",
       "      <td>0</td>\n",
       "      <td>2.852619</td>\n",
       "    </tr>\n",
       "  </tbody>\n",
       "</table>\n",
       "</div>"
      ],
      "text/plain": [
       "                           PROCESS_ID  BOARD_ID ALGORITHM_NAME HEURISTIC_NAME  \\\n",
       "0  2019-03-17 18:07:44.223874 PID4361         1             A*     PDB[Pat:5]   \n",
       "1  2019-03-17 18:07:44.247481 PID4370         1             A*     PDB[Pat:5]   \n",
       "2  2019-03-17 18:07:44.261788 PID4374         1             A*     PDB[Pat:5]   \n",
       "3  2019-03-17 18:07:44.215227 PID4359         1             A*     PDB[Pat:5]   \n",
       "4  2019-03-17 18:07:44.223874 PID4361         1             A*   ANN[Const:0]   \n",
       "\n",
       "     BOARDS_GENERATOR_NAME  RUN_TIME  SOLUTION_COST  EXPANDED_NODES  \\\n",
       "0  ChaoticSHF[MaxCnt:1500]  0.268062             41            1798   \n",
       "1  ChaoticSHF[MaxCnt:1500]  1.867945             35           10776   \n",
       "2  ChaoticSHF[MaxCnt:1500]  6.476680             45           34062   \n",
       "3  ChaoticSHF[MaxCnt:1500]  7.567029             46           35489   \n",
       "4  ChaoticSHF[MaxCnt:1500]  1.393123             41             275   \n",
       "\n",
       "   INITIAL_HEURISTIC_PREDICTION  OPTIMAL_SOLUTION_COST  SOLUTION_COST_ERROR  \\\n",
       "0                     35.000000                     41                    0   \n",
       "1                     25.000000                     35                    0   \n",
       "2                     37.000000                     45                    0   \n",
       "3                     36.000000                     46                    0   \n",
       "4                     43.852619                     41                    0   \n",
       "\n",
       "   INITIAL_HEURISTIC_PREDICTION_ERROR  \n",
       "0                           -6.000000  \n",
       "1                          -10.000000  \n",
       "2                           -8.000000  \n",
       "3                          -10.000000  \n",
       "4                            2.852619  "
      ]
     },
     "execution_count": 25,
     "metadata": {},
     "output_type": "execute_result"
    }
   ],
   "source": [
    "results_complete.head()"
   ]
  },
  {
   "cell_type": "code",
   "execution_count": 26,
   "metadata": {},
   "outputs": [
    {
     "data": {
      "image/png": "[encoded data removed]",
      "text/plain": [
       "<Figure size 432x288 with 1 Axes>"
      ]
     },
     "metadata": {
      "image/png": {
       "height": 250,
       "width": 377
      },
      "needs_background": "light"
     },
     "output_type": "display_data"
    }
   ],
   "source": [
    "plt.hist(results_complete[\"OPTIMAL_SOLUTION_COST\"]);"
   ]
  },
  {
   "cell_type": "code",
   "execution_count": 27,
   "metadata": {},
   "outputs": [],
   "source": [
    "ann_results_complete = results_complete[results_complete.HEURISTIC_NAME == \"ANN[Const:0]\"]\n",
    "pdb_results_complete = results_complete[results_complete.HEURISTIC_NAME == \"ANN[Const:0]\"]"
   ]
  },
  {
   "cell_type": "code",
   "execution_count": 28,
   "metadata": {},
   "outputs": [
    {
     "data": {
      "image/png": "[encoded data removed]",
      "text/plain": [
       "<Figure size 432x288 with 1 Axes>"
      ]
     },
     "metadata": {
      "image/png": {
       "height": 250,
       "width": 370
      },
      "needs_background": "light"
     },
     "output_type": "display_data"
    }
   ],
   "source": [
    "plt.hist(ann_results_complete[\"INITIAL_HEURISTIC_PREDICTION_ERROR\"]);"
   ]
  },
  {
   "cell_type": "code",
   "execution_count": 29,
   "metadata": {},
   "outputs": [
    {
     "data": {
      "image/png": "[encoded data removed]",
      "text/plain": [
       "<Figure size 432x288 with 1 Axes>"
      ]
     },
     "metadata": {
      "image/png": {
       "height": 250,
       "width": 372
      },
      "needs_background": "light"
     },
     "output_type": "display_data"
    }
   ],
   "source": [
    "plt.scatter(ann_results_complete[\"SOLUTION_COST\"], ann_results_complete[\"INITIAL_HEURISTIC_PREDICTION_ERROR\"]);"
   ]
  },
  {
   "cell_type": "code",
   "execution_count": 31,
   "metadata": {},
   "outputs": [
    {
     "data": {
      "image/png": "[encoded data removed]",
      "text/plain": [
       "<Figure size 432x288 with 1 Axes>"
      ]
     },
     "metadata": {
      "image/png": {
       "height": 250,
       "width": 370
      },
      "needs_background": "light"
     },
     "output_type": "display_data"
    }
   ],
   "source": [
    "plt.scatter(ann_results_complete[\"OPTIMAL_SOLUTION_COST\"], ann_results_complete[\"SOLUTION_COST\"]);"
   ]
  },
  {
   "cell_type": "code",
   "execution_count": null,
   "metadata": {},
   "outputs": [],
   "source": []
  }
 ],
 "metadata": {
  "kernelspec": {
   "display_name": "Python 3",
   "language": "python",
   "name": "python3"
  },
  "language_info": {
   "codemirror_mode": {
    "name": "ipython",
    "version": 3
   },
   "file_extension": ".py",
   "mimetype": "text/x-python",
   "name": "python",
   "nbconvert_exporter": "python",
   "pygments_lexer": "ipython3",
   "version": "3.6.8"
  }
 },
 "nbformat": 4,
 "nbformat_minor": 2
}
